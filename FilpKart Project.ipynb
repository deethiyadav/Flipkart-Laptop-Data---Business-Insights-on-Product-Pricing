{
 "cells": [
  {
   "cell_type": "code",
   "execution_count": 1,
   "id": "54b41c65",
   "metadata": {},
   "outputs": [],
   "source": [
    "# Loading required libraries\n",
    "\n",
    "import numpy as np\n",
    "import pandas as pd\n",
    "import re"
   ]
  },
  {
   "cell_type": "code",
   "execution_count": 2,
   "id": "3b7227f9",
   "metadata": {},
   "outputs": [],
   "source": [
    "laptop = pd.read_csv(r\"\\Users\\LENOVO\\Downloads\\laptop_details.csv\")"
   ]
  },
  {
   "cell_type": "code",
   "execution_count": 3,
   "id": "9b5bed49",
   "metadata": {},
   "outputs": [
    {
     "data": {
      "text/html": [
       "<div>\n",
       "<style scoped>\n",
       "    .dataframe tbody tr th:only-of-type {\n",
       "        vertical-align: middle;\n",
       "    }\n",
       "\n",
       "    .dataframe tbody tr th {\n",
       "        vertical-align: top;\n",
       "    }\n",
       "\n",
       "    .dataframe thead th {\n",
       "        text-align: right;\n",
       "    }\n",
       "</style>\n",
       "<table border=\"1\" class=\"dataframe\">\n",
       "  <thead>\n",
       "    <tr style=\"text-align: right;\">\n",
       "      <th></th>\n",
       "      <th>Product</th>\n",
       "      <th>Rating</th>\n",
       "      <th>MRP</th>\n",
       "      <th>Feature</th>\n",
       "    </tr>\n",
       "  </thead>\n",
       "  <tbody>\n",
       "    <tr>\n",
       "      <th>0</th>\n",
       "      <td>Lenovo IdeaPad 3 Core i3 11th Gen - (8 GB/256 ...</td>\n",
       "      <td>4.2</td>\n",
       "      <td>₹36,990</td>\n",
       "      <td>Intel Core i3 Processor (11th Gen)8 GB DDR4 RA...</td>\n",
       "    </tr>\n",
       "    <tr>\n",
       "      <th>1</th>\n",
       "      <td>Lenovo IdeaPad 3 Core i3 11th Gen - (8 GB/512 ...</td>\n",
       "      <td>4.2</td>\n",
       "      <td>₹39,990</td>\n",
       "      <td>Intel Core i3 Processor (11th Gen)8 GB DDR4 RA...</td>\n",
       "    </tr>\n",
       "    <tr>\n",
       "      <th>2</th>\n",
       "      <td>ASUS VivoBook 15 (2022) Core i3 10th Gen - (8 ...</td>\n",
       "      <td>4.3</td>\n",
       "      <td>₹32,990</td>\n",
       "      <td>Intel Core i3 Processor (10th Gen)8 GB DDR4 RA...</td>\n",
       "    </tr>\n",
       "    <tr>\n",
       "      <th>3</th>\n",
       "      <td>HP Pavilion Ryzen 5 Hexa Core AMD R5-5600H - (...</td>\n",
       "      <td>4.4</td>\n",
       "      <td>₹49,990</td>\n",
       "      <td>AMD Ryzen 5 Hexa Core Processor8 GB DDR4 RAM64...</td>\n",
       "    </tr>\n",
       "    <tr>\n",
       "      <th>4</th>\n",
       "      <td>ASUS TUF Gaming F15 Core i5 10th Gen - (8 GB/5...</td>\n",
       "      <td>4.4</td>\n",
       "      <td>₹49,990</td>\n",
       "      <td>Intel Core i5 Processor (10th Gen)8 GB DDR4 RA...</td>\n",
       "    </tr>\n",
       "  </tbody>\n",
       "</table>\n",
       "</div>"
      ],
      "text/plain": [
       "                                             Product  Rating      MRP  \\\n",
       "0  Lenovo IdeaPad 3 Core i3 11th Gen - (8 GB/256 ...     4.2  ₹36,990   \n",
       "1  Lenovo IdeaPad 3 Core i3 11th Gen - (8 GB/512 ...     4.2  ₹39,990   \n",
       "2  ASUS VivoBook 15 (2022) Core i3 10th Gen - (8 ...     4.3  ₹32,990   \n",
       "3  HP Pavilion Ryzen 5 Hexa Core AMD R5-5600H - (...     4.4  ₹49,990   \n",
       "4  ASUS TUF Gaming F15 Core i5 10th Gen - (8 GB/5...     4.4  ₹49,990   \n",
       "\n",
       "                                             Feature  \n",
       "0  Intel Core i3 Processor (11th Gen)8 GB DDR4 RA...  \n",
       "1  Intel Core i3 Processor (11th Gen)8 GB DDR4 RA...  \n",
       "2  Intel Core i3 Processor (10th Gen)8 GB DDR4 RA...  \n",
       "3  AMD Ryzen 5 Hexa Core Processor8 GB DDR4 RAM64...  \n",
       "4  Intel Core i5 Processor (10th Gen)8 GB DDR4 RA...  "
      ]
     },
     "execution_count": 3,
     "metadata": {},
     "output_type": "execute_result"
    }
   ],
   "source": [
    "laptop.head()"
   ]
  },
  {
   "cell_type": "code",
   "execution_count": 4,
   "id": "2d11fcdb",
   "metadata": {},
   "outputs": [
    {
     "data": {
      "text/plain": [
       "(720, 4)"
      ]
     },
     "execution_count": 4,
     "metadata": {},
     "output_type": "execute_result"
    }
   ],
   "source": [
    "laptop.shape"
   ]
  },
  {
   "cell_type": "code",
   "execution_count": 5,
   "id": "5036d0da",
   "metadata": {},
   "outputs": [
    {
     "data": {
      "text/html": [
       "<div>\n",
       "<style scoped>\n",
       "    .dataframe tbody tr th:only-of-type {\n",
       "        vertical-align: middle;\n",
       "    }\n",
       "\n",
       "    .dataframe tbody tr th {\n",
       "        vertical-align: top;\n",
       "    }\n",
       "\n",
       "    .dataframe thead th {\n",
       "        text-align: right;\n",
       "    }\n",
       "</style>\n",
       "<table border=\"1\" class=\"dataframe\">\n",
       "  <thead>\n",
       "    <tr style=\"text-align: right;\">\n",
       "      <th></th>\n",
       "      <th>Product</th>\n",
       "      <th>Rating</th>\n",
       "      <th>MRP</th>\n",
       "      <th>Feature</th>\n",
       "    </tr>\n",
       "  </thead>\n",
       "  <tbody>\n",
       "    <tr>\n",
       "      <th>715</th>\n",
       "      <td>ASUS Chromebook Flip Touch Celeron Dual Core -...</td>\n",
       "      <td>4.0</td>\n",
       "      <td>₹23,490</td>\n",
       "      <td>Intel Celeron Dual Core Processor4 GB LPDDR4 R...</td>\n",
       "    </tr>\n",
       "    <tr>\n",
       "      <th>716</th>\n",
       "      <td>Lenovo IdeaPad Gaming 3 Ryzen 7 Octa Core AMD ...</td>\n",
       "      <td>4.5</td>\n",
       "      <td>₹73,490</td>\n",
       "      <td>AMD Ryzen 7 Octa Core Processor8 GB DDR4 RAM64...</td>\n",
       "    </tr>\n",
       "    <tr>\n",
       "      <th>717</th>\n",
       "      <td>ASUS ROG Zephyrus G15 Ryzen 9 Octa Core 6900HS...</td>\n",
       "      <td>NaN</td>\n",
       "      <td>₹1,94,990</td>\n",
       "      <td>AMD Ryzen 9 Octa Core Processor16 GB DDR5 RAM6...</td>\n",
       "    </tr>\n",
       "    <tr>\n",
       "      <th>718</th>\n",
       "      <td>ASUS Zenbook Flip 14 OLED (2022) Touch Panel C...</td>\n",
       "      <td>3.0</td>\n",
       "      <td>₹1,25,990</td>\n",
       "      <td>Intel Core i7 Processor (12th Gen)16 GB LPDDR5...</td>\n",
       "    </tr>\n",
       "    <tr>\n",
       "      <th>719</th>\n",
       "      <td>Lenovo Ideapad Slim 3i Core i5 10th Gen - (8 G...</td>\n",
       "      <td>4.2</td>\n",
       "      <td>₹50,990</td>\n",
       "      <td>Intel Core i5 Processor (10th Gen)8 GB DDR4 RA...</td>\n",
       "    </tr>\n",
       "  </tbody>\n",
       "</table>\n",
       "</div>"
      ],
      "text/plain": [
       "                                               Product  Rating        MRP  \\\n",
       "715  ASUS Chromebook Flip Touch Celeron Dual Core -...     4.0    ₹23,490   \n",
       "716  Lenovo IdeaPad Gaming 3 Ryzen 7 Octa Core AMD ...     4.5    ₹73,490   \n",
       "717  ASUS ROG Zephyrus G15 Ryzen 9 Octa Core 6900HS...     NaN  ₹1,94,990   \n",
       "718  ASUS Zenbook Flip 14 OLED (2022) Touch Panel C...     3.0  ₹1,25,990   \n",
       "719  Lenovo Ideapad Slim 3i Core i5 10th Gen - (8 G...     4.2    ₹50,990   \n",
       "\n",
       "                                               Feature  \n",
       "715  Intel Celeron Dual Core Processor4 GB LPDDR4 R...  \n",
       "716  AMD Ryzen 7 Octa Core Processor8 GB DDR4 RAM64...  \n",
       "717  AMD Ryzen 9 Octa Core Processor16 GB DDR5 RAM6...  \n",
       "718  Intel Core i7 Processor (12th Gen)16 GB LPDDR5...  \n",
       "719  Intel Core i5 Processor (10th Gen)8 GB DDR4 RA...  "
      ]
     },
     "execution_count": 5,
     "metadata": {},
     "output_type": "execute_result"
    }
   ],
   "source": [
    "laptop.tail()"
   ]
  },
  {
   "cell_type": "markdown",
   "id": "b7fb1e4a",
   "metadata": {},
   "source": [
    "# Extracting the Details using Regex"
   ]
  },
  {
   "cell_type": "code",
   "execution_count": 6,
   "id": "a6678585",
   "metadata": {},
   "outputs": [
    {
     "data": {
      "text/html": [
       "<div>\n",
       "<style scoped>\n",
       "    .dataframe tbody tr th:only-of-type {\n",
       "        vertical-align: middle;\n",
       "    }\n",
       "\n",
       "    .dataframe tbody tr th {\n",
       "        vertical-align: top;\n",
       "    }\n",
       "\n",
       "    .dataframe thead th {\n",
       "        text-align: right;\n",
       "    }\n",
       "</style>\n",
       "<table border=\"1\" class=\"dataframe\">\n",
       "  <thead>\n",
       "    <tr style=\"text-align: right;\">\n",
       "      <th></th>\n",
       "      <th>Product</th>\n",
       "      <th>Rating</th>\n",
       "      <th>MRP</th>\n",
       "      <th>Feature</th>\n",
       "    </tr>\n",
       "  </thead>\n",
       "  <tbody>\n",
       "    <tr>\n",
       "      <th>0</th>\n",
       "      <td>Lenovo IdeaPad 3 Core i3 11th Gen - (8 GB/256 ...</td>\n",
       "      <td>4.2</td>\n",
       "      <td>₹36,990</td>\n",
       "      <td>Intel Core i3 Processor (11th Gen)8 GB DDR4 RA...</td>\n",
       "    </tr>\n",
       "    <tr>\n",
       "      <th>1</th>\n",
       "      <td>Lenovo IdeaPad 3 Core i3 11th Gen - (8 GB/512 ...</td>\n",
       "      <td>4.2</td>\n",
       "      <td>₹39,990</td>\n",
       "      <td>Intel Core i3 Processor (11th Gen)8 GB DDR4 RA...</td>\n",
       "    </tr>\n",
       "    <tr>\n",
       "      <th>2</th>\n",
       "      <td>ASUS VivoBook 15 (2022) Core i3 10th Gen - (8 ...</td>\n",
       "      <td>4.3</td>\n",
       "      <td>₹32,990</td>\n",
       "      <td>Intel Core i3 Processor (10th Gen)8 GB DDR4 RA...</td>\n",
       "    </tr>\n",
       "    <tr>\n",
       "      <th>3</th>\n",
       "      <td>HP Pavilion Ryzen 5 Hexa Core AMD R5-5600H - (...</td>\n",
       "      <td>4.4</td>\n",
       "      <td>₹49,990</td>\n",
       "      <td>AMD Ryzen 5 Hexa Core Processor8 GB DDR4 RAM64...</td>\n",
       "    </tr>\n",
       "    <tr>\n",
       "      <th>4</th>\n",
       "      <td>ASUS TUF Gaming F15 Core i5 10th Gen - (8 GB/5...</td>\n",
       "      <td>4.4</td>\n",
       "      <td>₹49,990</td>\n",
       "      <td>Intel Core i5 Processor (10th Gen)8 GB DDR4 RA...</td>\n",
       "    </tr>\n",
       "  </tbody>\n",
       "</table>\n",
       "</div>"
      ],
      "text/plain": [
       "                                             Product  Rating      MRP  \\\n",
       "0  Lenovo IdeaPad 3 Core i3 11th Gen - (8 GB/256 ...     4.2  ₹36,990   \n",
       "1  Lenovo IdeaPad 3 Core i3 11th Gen - (8 GB/512 ...     4.2  ₹39,990   \n",
       "2  ASUS VivoBook 15 (2022) Core i3 10th Gen - (8 ...     4.3  ₹32,990   \n",
       "3  HP Pavilion Ryzen 5 Hexa Core AMD R5-5600H - (...     4.4  ₹49,990   \n",
       "4  ASUS TUF Gaming F15 Core i5 10th Gen - (8 GB/5...     4.4  ₹49,990   \n",
       "\n",
       "                                             Feature  \n",
       "0  Intel Core i3 Processor (11th Gen)8 GB DDR4 RA...  \n",
       "1  Intel Core i3 Processor (11th Gen)8 GB DDR4 RA...  \n",
       "2  Intel Core i3 Processor (10th Gen)8 GB DDR4 RA...  \n",
       "3  AMD Ryzen 5 Hexa Core Processor8 GB DDR4 RAM64...  \n",
       "4  Intel Core i5 Processor (10th Gen)8 GB DDR4 RA...  "
      ]
     },
     "execution_count": 6,
     "metadata": {},
     "output_type": "execute_result"
    }
   ],
   "source": [
    "laptop.head()"
   ]
  },
  {
   "cell_type": "code",
   "execution_count": 7,
   "id": "2b511055",
   "metadata": {},
   "outputs": [
    {
     "name": "stdout",
     "output_type": "stream",
     "text": [
      "Intel Core i3 Processor (11th Gen)8 GB DDR4 RAM64 bit Windows 11 Operating System256 GB SSD35.56 cm (14 inch) DisplayOffice Home and Student 20212 Year Onsite�Warranty\n",
      "Intel Core i3 Processor (10th Gen)8 GB DDR4 RAM64 bit Windows 11 Operating System512 GB SSD39.62 cm (15.6 inch) DisplayOffice Home and Student 20211 Year Onsite Warranty\n",
      "Processor: Intel i3-1115G4 (Base- 1.70 GHz & Turbo up to 4.10 GHz) 2 CoresRAM & Storage: 8GB DDR4 & 1TB + 256GB SSDGraphics & Keyboard: Integrated & Standard KeyboardDisplay: 15.6\" FHD WVA AG Narrow BorderPorts: 2x USB 3.2 Gen1 ,1x USB 2.0, HDMI 1.4, SD Card reader, Audio jack, 1 M.2 2230/2280 slot for solid-state drive/Intel OptaneIntel Core i3 Processor (11th Gen)8 GB DDR4 RAMWindows 11 Operating System1 TB HDD|256 GB SSD39.62 cm (15.6 inch) Display1 YEAR\n"
     ]
    }
   ],
   "source": [
    "print(laptop['Feature'][0])\n",
    "print(laptop['Feature'][2])\n",
    "print(laptop['Feature'][6])"
   ]
  },
  {
   "cell_type": "code",
   "execution_count": 8,
   "id": "d7dd03ba",
   "metadata": {},
   "outputs": [
    {
     "data": {
      "text/plain": [
       "'Lenovo'"
      ]
     },
     "execution_count": 8,
     "metadata": {},
     "output_type": "execute_result"
    }
   ],
   "source": [
    "po = re.compile('[A-Za-z0-9]+')\n",
    "po.search(laptop.Product[0]).group()"
   ]
  },
  {
   "cell_type": "code",
   "execution_count": 9,
   "id": "535d9c39",
   "metadata": {},
   "outputs": [
    {
     "data": {
      "text/html": [
       "<div>\n",
       "<style scoped>\n",
       "    .dataframe tbody tr th:only-of-type {\n",
       "        vertical-align: middle;\n",
       "    }\n",
       "\n",
       "    .dataframe tbody tr th {\n",
       "        vertical-align: top;\n",
       "    }\n",
       "\n",
       "    .dataframe thead th {\n",
       "        text-align: right;\n",
       "    }\n",
       "</style>\n",
       "<table border=\"1\" class=\"dataframe\">\n",
       "  <thead>\n",
       "    <tr style=\"text-align: right;\">\n",
       "      <th></th>\n",
       "      <th>Product</th>\n",
       "      <th>Rating</th>\n",
       "      <th>MRP</th>\n",
       "      <th>Feature</th>\n",
       "      <th>Brand</th>\n",
       "    </tr>\n",
       "  </thead>\n",
       "  <tbody>\n",
       "    <tr>\n",
       "      <th>0</th>\n",
       "      <td>Lenovo IdeaPad 3 Core i3 11th Gen - (8 GB/256 ...</td>\n",
       "      <td>4.2</td>\n",
       "      <td>₹36,990</td>\n",
       "      <td>Intel Core i3 Processor (11th Gen)8 GB DDR4 RA...</td>\n",
       "      <td>[Lenovo]</td>\n",
       "    </tr>\n",
       "    <tr>\n",
       "      <th>1</th>\n",
       "      <td>Lenovo IdeaPad 3 Core i3 11th Gen - (8 GB/512 ...</td>\n",
       "      <td>4.2</td>\n",
       "      <td>₹39,990</td>\n",
       "      <td>Intel Core i3 Processor (11th Gen)8 GB DDR4 RA...</td>\n",
       "      <td>[Lenovo]</td>\n",
       "    </tr>\n",
       "    <tr>\n",
       "      <th>2</th>\n",
       "      <td>ASUS VivoBook 15 (2022) Core i3 10th Gen - (8 ...</td>\n",
       "      <td>4.3</td>\n",
       "      <td>₹32,990</td>\n",
       "      <td>Intel Core i3 Processor (10th Gen)8 GB DDR4 RA...</td>\n",
       "      <td>[ASUS]</td>\n",
       "    </tr>\n",
       "    <tr>\n",
       "      <th>3</th>\n",
       "      <td>HP Pavilion Ryzen 5 Hexa Core AMD R5-5600H - (...</td>\n",
       "      <td>4.4</td>\n",
       "      <td>₹49,990</td>\n",
       "      <td>AMD Ryzen 5 Hexa Core Processor8 GB DDR4 RAM64...</td>\n",
       "      <td>[HP]</td>\n",
       "    </tr>\n",
       "    <tr>\n",
       "      <th>4</th>\n",
       "      <td>ASUS TUF Gaming F15 Core i5 10th Gen - (8 GB/5...</td>\n",
       "      <td>4.4</td>\n",
       "      <td>₹49,990</td>\n",
       "      <td>Intel Core i5 Processor (10th Gen)8 GB DDR4 RA...</td>\n",
       "      <td>[ASUS]</td>\n",
       "    </tr>\n",
       "  </tbody>\n",
       "</table>\n",
       "</div>"
      ],
      "text/plain": [
       "                                             Product  Rating      MRP  \\\n",
       "0  Lenovo IdeaPad 3 Core i3 11th Gen - (8 GB/256 ...     4.2  ₹36,990   \n",
       "1  Lenovo IdeaPad 3 Core i3 11th Gen - (8 GB/512 ...     4.2  ₹39,990   \n",
       "2  ASUS VivoBook 15 (2022) Core i3 10th Gen - (8 ...     4.3  ₹32,990   \n",
       "3  HP Pavilion Ryzen 5 Hexa Core AMD R5-5600H - (...     4.4  ₹49,990   \n",
       "4  ASUS TUF Gaming F15 Core i5 10th Gen - (8 GB/5...     4.4  ₹49,990   \n",
       "\n",
       "                                             Feature     Brand  \n",
       "0  Intel Core i3 Processor (11th Gen)8 GB DDR4 RA...  [Lenovo]  \n",
       "1  Intel Core i3 Processor (11th Gen)8 GB DDR4 RA...  [Lenovo]  \n",
       "2  Intel Core i3 Processor (10th Gen)8 GB DDR4 RA...    [ASUS]  \n",
       "3  AMD Ryzen 5 Hexa Core Processor8 GB DDR4 RAM64...      [HP]  \n",
       "4  Intel Core i5 Processor (10th Gen)8 GB DDR4 RA...    [ASUS]  "
      ]
     },
     "execution_count": 9,
     "metadata": {},
     "output_type": "execute_result"
    }
   ],
   "source": [
    "# Brand Information\n",
    "\n",
    "regex = r'^\\w+'\n",
    "\n",
    "laptop['Brand'] = laptop['Product'].apply(lambda x : re.findall(regex, x))\n",
    "laptop.head()"
   ]
  },
  {
   "cell_type": "code",
   "execution_count": 10,
   "id": "34351e73",
   "metadata": {},
   "outputs": [],
   "source": [
    "# Processor Information\n",
    "\n",
    "regex = r'(?:AMD|Intel|Apple|Qualcomm)[\\s\\w]+Processor'\n",
    "\n",
    "laptop['Processor'] = laptop['Feature'].apply(lambda x : re.findall(regex, x))"
   ]
  },
  {
   "cell_type": "code",
   "execution_count": 11,
   "id": "591ae861",
   "metadata": {},
   "outputs": [
    {
     "data": {
      "text/html": [
       "<div>\n",
       "<style scoped>\n",
       "    .dataframe tbody tr th:only-of-type {\n",
       "        vertical-align: middle;\n",
       "    }\n",
       "\n",
       "    .dataframe tbody tr th {\n",
       "        vertical-align: top;\n",
       "    }\n",
       "\n",
       "    .dataframe thead th {\n",
       "        text-align: right;\n",
       "    }\n",
       "</style>\n",
       "<table border=\"1\" class=\"dataframe\">\n",
       "  <thead>\n",
       "    <tr style=\"text-align: right;\">\n",
       "      <th></th>\n",
       "      <th>Product</th>\n",
       "      <th>Rating</th>\n",
       "      <th>MRP</th>\n",
       "      <th>Feature</th>\n",
       "      <th>Brand</th>\n",
       "      <th>Processor</th>\n",
       "    </tr>\n",
       "  </thead>\n",
       "  <tbody>\n",
       "    <tr>\n",
       "      <th>0</th>\n",
       "      <td>Lenovo IdeaPad 3 Core i3 11th Gen - (8 GB/256 ...</td>\n",
       "      <td>4.2</td>\n",
       "      <td>₹36,990</td>\n",
       "      <td>Intel Core i3 Processor (11th Gen)8 GB DDR4 RA...</td>\n",
       "      <td>[Lenovo]</td>\n",
       "      <td>[Intel Core i3 Processor]</td>\n",
       "    </tr>\n",
       "    <tr>\n",
       "      <th>1</th>\n",
       "      <td>Lenovo IdeaPad 3 Core i3 11th Gen - (8 GB/512 ...</td>\n",
       "      <td>4.2</td>\n",
       "      <td>₹39,990</td>\n",
       "      <td>Intel Core i3 Processor (11th Gen)8 GB DDR4 RA...</td>\n",
       "      <td>[Lenovo]</td>\n",
       "      <td>[Intel Core i3 Processor]</td>\n",
       "    </tr>\n",
       "    <tr>\n",
       "      <th>2</th>\n",
       "      <td>ASUS VivoBook 15 (2022) Core i3 10th Gen - (8 ...</td>\n",
       "      <td>4.3</td>\n",
       "      <td>₹32,990</td>\n",
       "      <td>Intel Core i3 Processor (10th Gen)8 GB DDR4 RA...</td>\n",
       "      <td>[ASUS]</td>\n",
       "      <td>[Intel Core i3 Processor]</td>\n",
       "    </tr>\n",
       "    <tr>\n",
       "      <th>3</th>\n",
       "      <td>HP Pavilion Ryzen 5 Hexa Core AMD R5-5600H - (...</td>\n",
       "      <td>4.4</td>\n",
       "      <td>₹49,990</td>\n",
       "      <td>AMD Ryzen 5 Hexa Core Processor8 GB DDR4 RAM64...</td>\n",
       "      <td>[HP]</td>\n",
       "      <td>[AMD Ryzen 5 Hexa Core Processor]</td>\n",
       "    </tr>\n",
       "    <tr>\n",
       "      <th>4</th>\n",
       "      <td>ASUS TUF Gaming F15 Core i5 10th Gen - (8 GB/5...</td>\n",
       "      <td>4.4</td>\n",
       "      <td>₹49,990</td>\n",
       "      <td>Intel Core i5 Processor (10th Gen)8 GB DDR4 RA...</td>\n",
       "      <td>[ASUS]</td>\n",
       "      <td>[Intel Core i5 Processor]</td>\n",
       "    </tr>\n",
       "  </tbody>\n",
       "</table>\n",
       "</div>"
      ],
      "text/plain": [
       "                                             Product  Rating      MRP  \\\n",
       "0  Lenovo IdeaPad 3 Core i3 11th Gen - (8 GB/256 ...     4.2  ₹36,990   \n",
       "1  Lenovo IdeaPad 3 Core i3 11th Gen - (8 GB/512 ...     4.2  ₹39,990   \n",
       "2  ASUS VivoBook 15 (2022) Core i3 10th Gen - (8 ...     4.3  ₹32,990   \n",
       "3  HP Pavilion Ryzen 5 Hexa Core AMD R5-5600H - (...     4.4  ₹49,990   \n",
       "4  ASUS TUF Gaming F15 Core i5 10th Gen - (8 GB/5...     4.4  ₹49,990   \n",
       "\n",
       "                                             Feature     Brand  \\\n",
       "0  Intel Core i3 Processor (11th Gen)8 GB DDR4 RA...  [Lenovo]   \n",
       "1  Intel Core i3 Processor (11th Gen)8 GB DDR4 RA...  [Lenovo]   \n",
       "2  Intel Core i3 Processor (10th Gen)8 GB DDR4 RA...    [ASUS]   \n",
       "3  AMD Ryzen 5 Hexa Core Processor8 GB DDR4 RAM64...      [HP]   \n",
       "4  Intel Core i5 Processor (10th Gen)8 GB DDR4 RA...    [ASUS]   \n",
       "\n",
       "                           Processor  \n",
       "0          [Intel Core i3 Processor]  \n",
       "1          [Intel Core i3 Processor]  \n",
       "2          [Intel Core i3 Processor]  \n",
       "3  [AMD Ryzen 5 Hexa Core Processor]  \n",
       "4          [Intel Core i5 Processor]  "
      ]
     },
     "execution_count": 11,
     "metadata": {},
     "output_type": "execute_result"
    }
   ],
   "source": [
    "laptop.head()"
   ]
  },
  {
   "cell_type": "code",
   "execution_count": 12,
   "id": "e78f5579",
   "metadata": {},
   "outputs": [
    {
     "data": {
      "text/plain": [
       "'8 GB '"
      ]
     },
     "execution_count": 12,
     "metadata": {},
     "output_type": "execute_result"
    }
   ],
   "source": [
    "po = re.compile('[0-9]+\\sGB\\s+')\n",
    "po.search(laptop.Feature[0]).group()"
   ]
  },
  {
   "cell_type": "code",
   "execution_count": 13,
   "id": "1671f411",
   "metadata": {},
   "outputs": [
    {
     "data": {
      "text/html": [
       "<div>\n",
       "<style scoped>\n",
       "    .dataframe tbody tr th:only-of-type {\n",
       "        vertical-align: middle;\n",
       "    }\n",
       "\n",
       "    .dataframe tbody tr th {\n",
       "        vertical-align: top;\n",
       "    }\n",
       "\n",
       "    .dataframe thead th {\n",
       "        text-align: right;\n",
       "    }\n",
       "</style>\n",
       "<table border=\"1\" class=\"dataframe\">\n",
       "  <thead>\n",
       "    <tr style=\"text-align: right;\">\n",
       "      <th></th>\n",
       "      <th>Product</th>\n",
       "      <th>Rating</th>\n",
       "      <th>MRP</th>\n",
       "      <th>Feature</th>\n",
       "      <th>Brand</th>\n",
       "      <th>Processor</th>\n",
       "      <th>RAM Size</th>\n",
       "    </tr>\n",
       "  </thead>\n",
       "  <tbody>\n",
       "    <tr>\n",
       "      <th>0</th>\n",
       "      <td>Lenovo IdeaPad 3 Core i3 11th Gen - (8 GB/256 ...</td>\n",
       "      <td>4.2</td>\n",
       "      <td>₹36,990</td>\n",
       "      <td>Intel Core i3 Processor (11th Gen)8 GB DDR4 RA...</td>\n",
       "      <td>[Lenovo]</td>\n",
       "      <td>[Intel Core i3 Processor]</td>\n",
       "      <td>8 GB</td>\n",
       "    </tr>\n",
       "    <tr>\n",
       "      <th>1</th>\n",
       "      <td>Lenovo IdeaPad 3 Core i3 11th Gen - (8 GB/512 ...</td>\n",
       "      <td>4.2</td>\n",
       "      <td>₹39,990</td>\n",
       "      <td>Intel Core i3 Processor (11th Gen)8 GB DDR4 RA...</td>\n",
       "      <td>[Lenovo]</td>\n",
       "      <td>[Intel Core i3 Processor]</td>\n",
       "      <td>8 GB</td>\n",
       "    </tr>\n",
       "    <tr>\n",
       "      <th>2</th>\n",
       "      <td>ASUS VivoBook 15 (2022) Core i3 10th Gen - (8 ...</td>\n",
       "      <td>4.3</td>\n",
       "      <td>₹32,990</td>\n",
       "      <td>Intel Core i3 Processor (10th Gen)8 GB DDR4 RA...</td>\n",
       "      <td>[ASUS]</td>\n",
       "      <td>[Intel Core i3 Processor]</td>\n",
       "      <td>8 GB</td>\n",
       "    </tr>\n",
       "    <tr>\n",
       "      <th>3</th>\n",
       "      <td>HP Pavilion Ryzen 5 Hexa Core AMD R5-5600H - (...</td>\n",
       "      <td>4.4</td>\n",
       "      <td>₹49,990</td>\n",
       "      <td>AMD Ryzen 5 Hexa Core Processor8 GB DDR4 RAM64...</td>\n",
       "      <td>[HP]</td>\n",
       "      <td>[AMD Ryzen 5 Hexa Core Processor]</td>\n",
       "      <td>8 GB</td>\n",
       "    </tr>\n",
       "    <tr>\n",
       "      <th>4</th>\n",
       "      <td>ASUS TUF Gaming F15 Core i5 10th Gen - (8 GB/5...</td>\n",
       "      <td>4.4</td>\n",
       "      <td>₹49,990</td>\n",
       "      <td>Intel Core i5 Processor (10th Gen)8 GB DDR4 RA...</td>\n",
       "      <td>[ASUS]</td>\n",
       "      <td>[Intel Core i5 Processor]</td>\n",
       "      <td>8 GB</td>\n",
       "    </tr>\n",
       "  </tbody>\n",
       "</table>\n",
       "</div>"
      ],
      "text/plain": [
       "                                             Product  Rating      MRP  \\\n",
       "0  Lenovo IdeaPad 3 Core i3 11th Gen - (8 GB/256 ...     4.2  ₹36,990   \n",
       "1  Lenovo IdeaPad 3 Core i3 11th Gen - (8 GB/512 ...     4.2  ₹39,990   \n",
       "2  ASUS VivoBook 15 (2022) Core i3 10th Gen - (8 ...     4.3  ₹32,990   \n",
       "3  HP Pavilion Ryzen 5 Hexa Core AMD R5-5600H - (...     4.4  ₹49,990   \n",
       "4  ASUS TUF Gaming F15 Core i5 10th Gen - (8 GB/5...     4.4  ₹49,990   \n",
       "\n",
       "                                             Feature     Brand  \\\n",
       "0  Intel Core i3 Processor (11th Gen)8 GB DDR4 RA...  [Lenovo]   \n",
       "1  Intel Core i3 Processor (11th Gen)8 GB DDR4 RA...  [Lenovo]   \n",
       "2  Intel Core i3 Processor (10th Gen)8 GB DDR4 RA...    [ASUS]   \n",
       "3  AMD Ryzen 5 Hexa Core Processor8 GB DDR4 RAM64...      [HP]   \n",
       "4  Intel Core i5 Processor (10th Gen)8 GB DDR4 RA...    [ASUS]   \n",
       "\n",
       "                           Processor RAM Size  \n",
       "0          [Intel Core i3 Processor]    8 GB   \n",
       "1          [Intel Core i3 Processor]    8 GB   \n",
       "2          [Intel Core i3 Processor]    8 GB   \n",
       "3  [AMD Ryzen 5 Hexa Core Processor]    8 GB   \n",
       "4          [Intel Core i5 Processor]    8 GB   "
      ]
     },
     "execution_count": 13,
     "metadata": {},
     "output_type": "execute_result"
    }
   ],
   "source": [
    "# RAM Information\n",
    "laptop['RAM Size']=laptop['Feature'].apply(lambda x:re.compile('[0-9]+\\sGB\\s+').search(x).group())\n",
    "laptop.head()"
   ]
  },
  {
   "cell_type": "code",
   "execution_count": 14,
   "id": "89409ee9",
   "metadata": {},
   "outputs": [
    {
     "data": {
      "text/plain": [
       "8 GB       401\n",
       "16 GB      263\n",
       "4 GB        37\n",
       "32 GB       17\n",
       "128 GB       2\n",
       "Name: RAM Size, dtype: int64"
      ]
     },
     "execution_count": 14,
     "metadata": {},
     "output_type": "execute_result"
    }
   ],
   "source": [
    "laptop['RAM Size'].value_counts()"
   ]
  },
  {
   "cell_type": "code",
   "execution_count": 15,
   "id": "fad65ad7",
   "metadata": {},
   "outputs": [],
   "source": [
    "laptop['RAM Size'] = laptop['RAM Size'].apply(lambda x : x.replace('GB', ''))"
   ]
  },
  {
   "cell_type": "code",
   "execution_count": 16,
   "id": "a8fdc950",
   "metadata": {},
   "outputs": [
    {
     "data": {
      "text/html": [
       "<div>\n",
       "<style scoped>\n",
       "    .dataframe tbody tr th:only-of-type {\n",
       "        vertical-align: middle;\n",
       "    }\n",
       "\n",
       "    .dataframe tbody tr th {\n",
       "        vertical-align: top;\n",
       "    }\n",
       "\n",
       "    .dataframe thead th {\n",
       "        text-align: right;\n",
       "    }\n",
       "</style>\n",
       "<table border=\"1\" class=\"dataframe\">\n",
       "  <thead>\n",
       "    <tr style=\"text-align: right;\">\n",
       "      <th></th>\n",
       "      <th>Product</th>\n",
       "      <th>Rating</th>\n",
       "      <th>MRP</th>\n",
       "      <th>Feature</th>\n",
       "      <th>Brand</th>\n",
       "      <th>Processor</th>\n",
       "      <th>RAM Size</th>\n",
       "    </tr>\n",
       "  </thead>\n",
       "  <tbody>\n",
       "    <tr>\n",
       "      <th>0</th>\n",
       "      <td>Lenovo IdeaPad 3 Core i3 11th Gen - (8 GB/256 ...</td>\n",
       "      <td>4.2</td>\n",
       "      <td>₹36,990</td>\n",
       "      <td>Intel Core i3 Processor (11th Gen)8 GB DDR4 RA...</td>\n",
       "      <td>[Lenovo]</td>\n",
       "      <td>[Intel Core i3 Processor]</td>\n",
       "      <td>8</td>\n",
       "    </tr>\n",
       "    <tr>\n",
       "      <th>1</th>\n",
       "      <td>Lenovo IdeaPad 3 Core i3 11th Gen - (8 GB/512 ...</td>\n",
       "      <td>4.2</td>\n",
       "      <td>₹39,990</td>\n",
       "      <td>Intel Core i3 Processor (11th Gen)8 GB DDR4 RA...</td>\n",
       "      <td>[Lenovo]</td>\n",
       "      <td>[Intel Core i3 Processor]</td>\n",
       "      <td>8</td>\n",
       "    </tr>\n",
       "    <tr>\n",
       "      <th>2</th>\n",
       "      <td>ASUS VivoBook 15 (2022) Core i3 10th Gen - (8 ...</td>\n",
       "      <td>4.3</td>\n",
       "      <td>₹32,990</td>\n",
       "      <td>Intel Core i3 Processor (10th Gen)8 GB DDR4 RA...</td>\n",
       "      <td>[ASUS]</td>\n",
       "      <td>[Intel Core i3 Processor]</td>\n",
       "      <td>8</td>\n",
       "    </tr>\n",
       "    <tr>\n",
       "      <th>3</th>\n",
       "      <td>HP Pavilion Ryzen 5 Hexa Core AMD R5-5600H - (...</td>\n",
       "      <td>4.4</td>\n",
       "      <td>₹49,990</td>\n",
       "      <td>AMD Ryzen 5 Hexa Core Processor8 GB DDR4 RAM64...</td>\n",
       "      <td>[HP]</td>\n",
       "      <td>[AMD Ryzen 5 Hexa Core Processor]</td>\n",
       "      <td>8</td>\n",
       "    </tr>\n",
       "    <tr>\n",
       "      <th>4</th>\n",
       "      <td>ASUS TUF Gaming F15 Core i5 10th Gen - (8 GB/5...</td>\n",
       "      <td>4.4</td>\n",
       "      <td>₹49,990</td>\n",
       "      <td>Intel Core i5 Processor (10th Gen)8 GB DDR4 RA...</td>\n",
       "      <td>[ASUS]</td>\n",
       "      <td>[Intel Core i5 Processor]</td>\n",
       "      <td>8</td>\n",
       "    </tr>\n",
       "  </tbody>\n",
       "</table>\n",
       "</div>"
      ],
      "text/plain": [
       "                                             Product  Rating      MRP  \\\n",
       "0  Lenovo IdeaPad 3 Core i3 11th Gen - (8 GB/256 ...     4.2  ₹36,990   \n",
       "1  Lenovo IdeaPad 3 Core i3 11th Gen - (8 GB/512 ...     4.2  ₹39,990   \n",
       "2  ASUS VivoBook 15 (2022) Core i3 10th Gen - (8 ...     4.3  ₹32,990   \n",
       "3  HP Pavilion Ryzen 5 Hexa Core AMD R5-5600H - (...     4.4  ₹49,990   \n",
       "4  ASUS TUF Gaming F15 Core i5 10th Gen - (8 GB/5...     4.4  ₹49,990   \n",
       "\n",
       "                                             Feature     Brand  \\\n",
       "0  Intel Core i3 Processor (11th Gen)8 GB DDR4 RA...  [Lenovo]   \n",
       "1  Intel Core i3 Processor (11th Gen)8 GB DDR4 RA...  [Lenovo]   \n",
       "2  Intel Core i3 Processor (10th Gen)8 GB DDR4 RA...    [ASUS]   \n",
       "3  AMD Ryzen 5 Hexa Core Processor8 GB DDR4 RAM64...      [HP]   \n",
       "4  Intel Core i5 Processor (10th Gen)8 GB DDR4 RA...    [ASUS]   \n",
       "\n",
       "                           Processor RAM Size  \n",
       "0          [Intel Core i3 Processor]      8    \n",
       "1          [Intel Core i3 Processor]      8    \n",
       "2          [Intel Core i3 Processor]      8    \n",
       "3  [AMD Ryzen 5 Hexa Core Processor]      8    \n",
       "4          [Intel Core i5 Processor]      8    "
      ]
     },
     "execution_count": 16,
     "metadata": {},
     "output_type": "execute_result"
    }
   ],
   "source": [
    "laptop.head()"
   ]
  },
  {
   "cell_type": "code",
   "execution_count": 17,
   "id": "a6930d9f",
   "metadata": {},
   "outputs": [
    {
     "data": {
      "text/plain": [
       "' GB DDR4'"
      ]
     },
     "execution_count": 17,
     "metadata": {},
     "output_type": "execute_result"
    }
   ],
   "source": [
    "po = re.compile('\\sGB\\s+[A-Z0-9]+')\n",
    "po.search(laptop.Feature[0]).group()"
   ]
  },
  {
   "cell_type": "code",
   "execution_count": 18,
   "id": "960abd4d",
   "metadata": {},
   "outputs": [
    {
     "data": {
      "text/html": [
       "<div>\n",
       "<style scoped>\n",
       "    .dataframe tbody tr th:only-of-type {\n",
       "        vertical-align: middle;\n",
       "    }\n",
       "\n",
       "    .dataframe tbody tr th {\n",
       "        vertical-align: top;\n",
       "    }\n",
       "\n",
       "    .dataframe thead th {\n",
       "        text-align: right;\n",
       "    }\n",
       "</style>\n",
       "<table border=\"1\" class=\"dataframe\">\n",
       "  <thead>\n",
       "    <tr style=\"text-align: right;\">\n",
       "      <th></th>\n",
       "      <th>Product</th>\n",
       "      <th>Rating</th>\n",
       "      <th>MRP</th>\n",
       "      <th>Feature</th>\n",
       "      <th>Brand</th>\n",
       "      <th>Processor</th>\n",
       "      <th>RAM Size</th>\n",
       "      <th>RAM Type</th>\n",
       "    </tr>\n",
       "  </thead>\n",
       "  <tbody>\n",
       "    <tr>\n",
       "      <th>0</th>\n",
       "      <td>Lenovo IdeaPad 3 Core i3 11th Gen - (8 GB/256 ...</td>\n",
       "      <td>4.2</td>\n",
       "      <td>₹36,990</td>\n",
       "      <td>Intel Core i3 Processor (11th Gen)8 GB DDR4 RA...</td>\n",
       "      <td>[Lenovo]</td>\n",
       "      <td>[Intel Core i3 Processor]</td>\n",
       "      <td>8</td>\n",
       "      <td>GB DDR4</td>\n",
       "    </tr>\n",
       "    <tr>\n",
       "      <th>1</th>\n",
       "      <td>Lenovo IdeaPad 3 Core i3 11th Gen - (8 GB/512 ...</td>\n",
       "      <td>4.2</td>\n",
       "      <td>₹39,990</td>\n",
       "      <td>Intel Core i3 Processor (11th Gen)8 GB DDR4 RA...</td>\n",
       "      <td>[Lenovo]</td>\n",
       "      <td>[Intel Core i3 Processor]</td>\n",
       "      <td>8</td>\n",
       "      <td>GB DDR4</td>\n",
       "    </tr>\n",
       "    <tr>\n",
       "      <th>2</th>\n",
       "      <td>ASUS VivoBook 15 (2022) Core i3 10th Gen - (8 ...</td>\n",
       "      <td>4.3</td>\n",
       "      <td>₹32,990</td>\n",
       "      <td>Intel Core i3 Processor (10th Gen)8 GB DDR4 RA...</td>\n",
       "      <td>[ASUS]</td>\n",
       "      <td>[Intel Core i3 Processor]</td>\n",
       "      <td>8</td>\n",
       "      <td>GB DDR4</td>\n",
       "    </tr>\n",
       "    <tr>\n",
       "      <th>3</th>\n",
       "      <td>HP Pavilion Ryzen 5 Hexa Core AMD R5-5600H - (...</td>\n",
       "      <td>4.4</td>\n",
       "      <td>₹49,990</td>\n",
       "      <td>AMD Ryzen 5 Hexa Core Processor8 GB DDR4 RAM64...</td>\n",
       "      <td>[HP]</td>\n",
       "      <td>[AMD Ryzen 5 Hexa Core Processor]</td>\n",
       "      <td>8</td>\n",
       "      <td>GB DDR4</td>\n",
       "    </tr>\n",
       "    <tr>\n",
       "      <th>4</th>\n",
       "      <td>ASUS TUF Gaming F15 Core i5 10th Gen - (8 GB/5...</td>\n",
       "      <td>4.4</td>\n",
       "      <td>₹49,990</td>\n",
       "      <td>Intel Core i5 Processor (10th Gen)8 GB DDR4 RA...</td>\n",
       "      <td>[ASUS]</td>\n",
       "      <td>[Intel Core i5 Processor]</td>\n",
       "      <td>8</td>\n",
       "      <td>GB DDR4</td>\n",
       "    </tr>\n",
       "  </tbody>\n",
       "</table>\n",
       "</div>"
      ],
      "text/plain": [
       "                                             Product  Rating      MRP  \\\n",
       "0  Lenovo IdeaPad 3 Core i3 11th Gen - (8 GB/256 ...     4.2  ₹36,990   \n",
       "1  Lenovo IdeaPad 3 Core i3 11th Gen - (8 GB/512 ...     4.2  ₹39,990   \n",
       "2  ASUS VivoBook 15 (2022) Core i3 10th Gen - (8 ...     4.3  ₹32,990   \n",
       "3  HP Pavilion Ryzen 5 Hexa Core AMD R5-5600H - (...     4.4  ₹49,990   \n",
       "4  ASUS TUF Gaming F15 Core i5 10th Gen - (8 GB/5...     4.4  ₹49,990   \n",
       "\n",
       "                                             Feature     Brand  \\\n",
       "0  Intel Core i3 Processor (11th Gen)8 GB DDR4 RA...  [Lenovo]   \n",
       "1  Intel Core i3 Processor (11th Gen)8 GB DDR4 RA...  [Lenovo]   \n",
       "2  Intel Core i3 Processor (10th Gen)8 GB DDR4 RA...    [ASUS]   \n",
       "3  AMD Ryzen 5 Hexa Core Processor8 GB DDR4 RAM64...      [HP]   \n",
       "4  Intel Core i5 Processor (10th Gen)8 GB DDR4 RA...    [ASUS]   \n",
       "\n",
       "                           Processor RAM Size  RAM Type  \n",
       "0          [Intel Core i3 Processor]      8     GB DDR4  \n",
       "1          [Intel Core i3 Processor]      8     GB DDR4  \n",
       "2          [Intel Core i3 Processor]      8     GB DDR4  \n",
       "3  [AMD Ryzen 5 Hexa Core Processor]      8     GB DDR4  \n",
       "4          [Intel Core i5 Processor]      8     GB DDR4  "
      ]
     },
     "execution_count": 18,
     "metadata": {},
     "output_type": "execute_result"
    }
   ],
   "source": [
    "# RAM Type Information\n",
    "laptop['RAM Type']=laptop['Feature'].apply(lambda x:re.compile('\\sGB\\s+[A-Za-z0-9]+').search(x).group())\n",
    "laptop.head()"
   ]
  },
  {
   "cell_type": "code",
   "execution_count": 19,
   "id": "ee216979",
   "metadata": {},
   "outputs": [],
   "source": [
    "laptop['RAM Type']= laptop['RAM Type'].apply(lambda x : x.replace('GB', ''))"
   ]
  },
  {
   "cell_type": "code",
   "execution_count": 20,
   "id": "3df41730",
   "metadata": {},
   "outputs": [
    {
     "data": {
      "text/html": [
       "<div>\n",
       "<style scoped>\n",
       "    .dataframe tbody tr th:only-of-type {\n",
       "        vertical-align: middle;\n",
       "    }\n",
       "\n",
       "    .dataframe tbody tr th {\n",
       "        vertical-align: top;\n",
       "    }\n",
       "\n",
       "    .dataframe thead th {\n",
       "        text-align: right;\n",
       "    }\n",
       "</style>\n",
       "<table border=\"1\" class=\"dataframe\">\n",
       "  <thead>\n",
       "    <tr style=\"text-align: right;\">\n",
       "      <th></th>\n",
       "      <th>Product</th>\n",
       "      <th>Rating</th>\n",
       "      <th>MRP</th>\n",
       "      <th>Feature</th>\n",
       "      <th>Brand</th>\n",
       "      <th>Processor</th>\n",
       "      <th>RAM Size</th>\n",
       "      <th>RAM Type</th>\n",
       "    </tr>\n",
       "  </thead>\n",
       "  <tbody>\n",
       "    <tr>\n",
       "      <th>0</th>\n",
       "      <td>Lenovo IdeaPad 3 Core i3 11th Gen - (8 GB/256 ...</td>\n",
       "      <td>4.2</td>\n",
       "      <td>₹36,990</td>\n",
       "      <td>Intel Core i3 Processor (11th Gen)8 GB DDR4 RA...</td>\n",
       "      <td>[Lenovo]</td>\n",
       "      <td>[Intel Core i3 Processor]</td>\n",
       "      <td>8</td>\n",
       "      <td>DDR4</td>\n",
       "    </tr>\n",
       "    <tr>\n",
       "      <th>1</th>\n",
       "      <td>Lenovo IdeaPad 3 Core i3 11th Gen - (8 GB/512 ...</td>\n",
       "      <td>4.2</td>\n",
       "      <td>₹39,990</td>\n",
       "      <td>Intel Core i3 Processor (11th Gen)8 GB DDR4 RA...</td>\n",
       "      <td>[Lenovo]</td>\n",
       "      <td>[Intel Core i3 Processor]</td>\n",
       "      <td>8</td>\n",
       "      <td>DDR4</td>\n",
       "    </tr>\n",
       "    <tr>\n",
       "      <th>2</th>\n",
       "      <td>ASUS VivoBook 15 (2022) Core i3 10th Gen - (8 ...</td>\n",
       "      <td>4.3</td>\n",
       "      <td>₹32,990</td>\n",
       "      <td>Intel Core i3 Processor (10th Gen)8 GB DDR4 RA...</td>\n",
       "      <td>[ASUS]</td>\n",
       "      <td>[Intel Core i3 Processor]</td>\n",
       "      <td>8</td>\n",
       "      <td>DDR4</td>\n",
       "    </tr>\n",
       "    <tr>\n",
       "      <th>3</th>\n",
       "      <td>HP Pavilion Ryzen 5 Hexa Core AMD R5-5600H - (...</td>\n",
       "      <td>4.4</td>\n",
       "      <td>₹49,990</td>\n",
       "      <td>AMD Ryzen 5 Hexa Core Processor8 GB DDR4 RAM64...</td>\n",
       "      <td>[HP]</td>\n",
       "      <td>[AMD Ryzen 5 Hexa Core Processor]</td>\n",
       "      <td>8</td>\n",
       "      <td>DDR4</td>\n",
       "    </tr>\n",
       "    <tr>\n",
       "      <th>4</th>\n",
       "      <td>ASUS TUF Gaming F15 Core i5 10th Gen - (8 GB/5...</td>\n",
       "      <td>4.4</td>\n",
       "      <td>₹49,990</td>\n",
       "      <td>Intel Core i5 Processor (10th Gen)8 GB DDR4 RA...</td>\n",
       "      <td>[ASUS]</td>\n",
       "      <td>[Intel Core i5 Processor]</td>\n",
       "      <td>8</td>\n",
       "      <td>DDR4</td>\n",
       "    </tr>\n",
       "  </tbody>\n",
       "</table>\n",
       "</div>"
      ],
      "text/plain": [
       "                                             Product  Rating      MRP  \\\n",
       "0  Lenovo IdeaPad 3 Core i3 11th Gen - (8 GB/256 ...     4.2  ₹36,990   \n",
       "1  Lenovo IdeaPad 3 Core i3 11th Gen - (8 GB/512 ...     4.2  ₹39,990   \n",
       "2  ASUS VivoBook 15 (2022) Core i3 10th Gen - (8 ...     4.3  ₹32,990   \n",
       "3  HP Pavilion Ryzen 5 Hexa Core AMD R5-5600H - (...     4.4  ₹49,990   \n",
       "4  ASUS TUF Gaming F15 Core i5 10th Gen - (8 GB/5...     4.4  ₹49,990   \n",
       "\n",
       "                                             Feature     Brand  \\\n",
       "0  Intel Core i3 Processor (11th Gen)8 GB DDR4 RA...  [Lenovo]   \n",
       "1  Intel Core i3 Processor (11th Gen)8 GB DDR4 RA...  [Lenovo]   \n",
       "2  Intel Core i3 Processor (10th Gen)8 GB DDR4 RA...    [ASUS]   \n",
       "3  AMD Ryzen 5 Hexa Core Processor8 GB DDR4 RAM64...      [HP]   \n",
       "4  Intel Core i5 Processor (10th Gen)8 GB DDR4 RA...    [ASUS]   \n",
       "\n",
       "                           Processor RAM Size RAM Type  \n",
       "0          [Intel Core i3 Processor]      8       DDR4  \n",
       "1          [Intel Core i3 Processor]      8       DDR4  \n",
       "2          [Intel Core i3 Processor]      8       DDR4  \n",
       "3  [AMD Ryzen 5 Hexa Core Processor]      8       DDR4  \n",
       "4          [Intel Core i5 Processor]      8       DDR4  "
      ]
     },
     "execution_count": 20,
     "metadata": {},
     "output_type": "execute_result"
    }
   ],
   "source": [
    "laptop.head()"
   ]
  },
  {
   "cell_type": "code",
   "execution_count": 21,
   "id": "41c4f403",
   "metadata": {},
   "outputs": [
    {
     "data": {
      "text/plain": [
       "  DDR4       559\n",
       "  DDR5        92\n",
       "  LPDDR4X     37\n",
       "  Unified     12\n",
       "  LPDDR5       9\n",
       "  LPDDR4       8\n",
       "  SSD          2\n",
       "  LPDDR3       1\n",
       "Name: RAM Type, dtype: int64"
      ]
     },
     "execution_count": 21,
     "metadata": {},
     "output_type": "execute_result"
    }
   ],
   "source": [
    "laptop['RAM Type'].value_counts()"
   ]
  },
  {
   "cell_type": "code",
   "execution_count": 22,
   "id": "c6c47747",
   "metadata": {},
   "outputs": [
    {
     "data": {
      "text/plain": [
       "'RAM64 bit Windows 11 Operating System'"
      ]
     },
     "execution_count": 22,
     "metadata": {},
     "output_type": "execute_result"
    }
   ],
   "source": [
    "po = re.compile('RAM[\\sA-Za-z0-9]+Operating System')\n",
    "po.search(laptop.Feature[0]).group()"
   ]
  },
  {
   "cell_type": "code",
   "execution_count": 23,
   "id": "f5123325",
   "metadata": {},
   "outputs": [
    {
     "data": {
      "text/html": [
       "<div>\n",
       "<style scoped>\n",
       "    .dataframe tbody tr th:only-of-type {\n",
       "        vertical-align: middle;\n",
       "    }\n",
       "\n",
       "    .dataframe tbody tr th {\n",
       "        vertical-align: top;\n",
       "    }\n",
       "\n",
       "    .dataframe thead th {\n",
       "        text-align: right;\n",
       "    }\n",
       "</style>\n",
       "<table border=\"1\" class=\"dataframe\">\n",
       "  <thead>\n",
       "    <tr style=\"text-align: right;\">\n",
       "      <th></th>\n",
       "      <th>Product</th>\n",
       "      <th>Rating</th>\n",
       "      <th>MRP</th>\n",
       "      <th>Feature</th>\n",
       "      <th>Brand</th>\n",
       "      <th>Processor</th>\n",
       "      <th>RAM Size</th>\n",
       "      <th>RAM Type</th>\n",
       "      <th>Operating System</th>\n",
       "    </tr>\n",
       "  </thead>\n",
       "  <tbody>\n",
       "    <tr>\n",
       "      <th>0</th>\n",
       "      <td>Lenovo IdeaPad 3 Core i3 11th Gen - (8 GB/256 ...</td>\n",
       "      <td>4.2</td>\n",
       "      <td>₹36,990</td>\n",
       "      <td>Intel Core i3 Processor (11th Gen)8 GB DDR4 RA...</td>\n",
       "      <td>[Lenovo]</td>\n",
       "      <td>[Intel Core i3 Processor]</td>\n",
       "      <td>8</td>\n",
       "      <td>DDR4</td>\n",
       "      <td>64 bit Windows 11 Operating System</td>\n",
       "    </tr>\n",
       "    <tr>\n",
       "      <th>1</th>\n",
       "      <td>Lenovo IdeaPad 3 Core i3 11th Gen - (8 GB/512 ...</td>\n",
       "      <td>4.2</td>\n",
       "      <td>₹39,990</td>\n",
       "      <td>Intel Core i3 Processor (11th Gen)8 GB DDR4 RA...</td>\n",
       "      <td>[Lenovo]</td>\n",
       "      <td>[Intel Core i3 Processor]</td>\n",
       "      <td>8</td>\n",
       "      <td>DDR4</td>\n",
       "      <td>64 bit Windows 11 Operating System</td>\n",
       "    </tr>\n",
       "    <tr>\n",
       "      <th>2</th>\n",
       "      <td>ASUS VivoBook 15 (2022) Core i3 10th Gen - (8 ...</td>\n",
       "      <td>4.3</td>\n",
       "      <td>₹32,990</td>\n",
       "      <td>Intel Core i3 Processor (10th Gen)8 GB DDR4 RA...</td>\n",
       "      <td>[ASUS]</td>\n",
       "      <td>[Intel Core i3 Processor]</td>\n",
       "      <td>8</td>\n",
       "      <td>DDR4</td>\n",
       "      <td>64 bit Windows 11 Operating System</td>\n",
       "    </tr>\n",
       "    <tr>\n",
       "      <th>3</th>\n",
       "      <td>HP Pavilion Ryzen 5 Hexa Core AMD R5-5600H - (...</td>\n",
       "      <td>4.4</td>\n",
       "      <td>₹49,990</td>\n",
       "      <td>AMD Ryzen 5 Hexa Core Processor8 GB DDR4 RAM64...</td>\n",
       "      <td>[HP]</td>\n",
       "      <td>[AMD Ryzen 5 Hexa Core Processor]</td>\n",
       "      <td>8</td>\n",
       "      <td>DDR4</td>\n",
       "      <td>64 bit Windows 10 Operating System</td>\n",
       "    </tr>\n",
       "    <tr>\n",
       "      <th>4</th>\n",
       "      <td>ASUS TUF Gaming F15 Core i5 10th Gen - (8 GB/5...</td>\n",
       "      <td>4.4</td>\n",
       "      <td>₹49,990</td>\n",
       "      <td>Intel Core i5 Processor (10th Gen)8 GB DDR4 RA...</td>\n",
       "      <td>[ASUS]</td>\n",
       "      <td>[Intel Core i5 Processor]</td>\n",
       "      <td>8</td>\n",
       "      <td>DDR4</td>\n",
       "      <td>Windows 11 Operating System</td>\n",
       "    </tr>\n",
       "  </tbody>\n",
       "</table>\n",
       "</div>"
      ],
      "text/plain": [
       "                                             Product  Rating      MRP  \\\n",
       "0  Lenovo IdeaPad 3 Core i3 11th Gen - (8 GB/256 ...     4.2  ₹36,990   \n",
       "1  Lenovo IdeaPad 3 Core i3 11th Gen - (8 GB/512 ...     4.2  ₹39,990   \n",
       "2  ASUS VivoBook 15 (2022) Core i3 10th Gen - (8 ...     4.3  ₹32,990   \n",
       "3  HP Pavilion Ryzen 5 Hexa Core AMD R5-5600H - (...     4.4  ₹49,990   \n",
       "4  ASUS TUF Gaming F15 Core i5 10th Gen - (8 GB/5...     4.4  ₹49,990   \n",
       "\n",
       "                                             Feature     Brand  \\\n",
       "0  Intel Core i3 Processor (11th Gen)8 GB DDR4 RA...  [Lenovo]   \n",
       "1  Intel Core i3 Processor (11th Gen)8 GB DDR4 RA...  [Lenovo]   \n",
       "2  Intel Core i3 Processor (10th Gen)8 GB DDR4 RA...    [ASUS]   \n",
       "3  AMD Ryzen 5 Hexa Core Processor8 GB DDR4 RAM64...      [HP]   \n",
       "4  Intel Core i5 Processor (10th Gen)8 GB DDR4 RA...    [ASUS]   \n",
       "\n",
       "                           Processor RAM Size RAM Type  \\\n",
       "0          [Intel Core i3 Processor]      8       DDR4   \n",
       "1          [Intel Core i3 Processor]      8       DDR4   \n",
       "2          [Intel Core i3 Processor]      8       DDR4   \n",
       "3  [AMD Ryzen 5 Hexa Core Processor]      8       DDR4   \n",
       "4          [Intel Core i5 Processor]      8       DDR4   \n",
       "\n",
       "                     Operating System  \n",
       "0  64 bit Windows 11 Operating System  \n",
       "1  64 bit Windows 11 Operating System  \n",
       "2  64 bit Windows 11 Operating System  \n",
       "3  64 bit Windows 10 Operating System  \n",
       "4         Windows 11 Operating System  "
      ]
     },
     "execution_count": 23,
     "metadata": {},
     "output_type": "execute_result"
    }
   ],
   "source": [
    "# Operating System Information\n",
    "laptop['Operating System']=laptop['Feature'].apply(lambda x:re.compile('RAM[\\sA-Za-z0-9]+Operating System').search(x).group().replace(\"RAM\",\"\"))\n",
    "laptop.head()"
   ]
  },
  {
   "cell_type": "code",
   "execution_count": 24,
   "id": "65722ead",
   "metadata": {},
   "outputs": [],
   "source": [
    "laptop['Operating System'] = laptop['Operating System'].apply(lambda x : x.replace('Operating System',''))"
   ]
  },
  {
   "cell_type": "code",
   "execution_count": 25,
   "id": "466e9480",
   "metadata": {},
   "outputs": [],
   "source": [
    "# Storage\n",
    "\n",
    "regex = r'[\\d]+\\s(?:GB|TB)\\s(?:HDD|SSD)'\n",
    "\n",
    "laptop['Storage'] = laptop['Feature'].apply(lambda x : ''.join(re.findall(regex, x)))"
   ]
  },
  {
   "cell_type": "code",
   "execution_count": 26,
   "id": "b2b43050",
   "metadata": {},
   "outputs": [
    {
     "data": {
      "text/html": [
       "<div>\n",
       "<style scoped>\n",
       "    .dataframe tbody tr th:only-of-type {\n",
       "        vertical-align: middle;\n",
       "    }\n",
       "\n",
       "    .dataframe tbody tr th {\n",
       "        vertical-align: top;\n",
       "    }\n",
       "\n",
       "    .dataframe thead th {\n",
       "        text-align: right;\n",
       "    }\n",
       "</style>\n",
       "<table border=\"1\" class=\"dataframe\">\n",
       "  <thead>\n",
       "    <tr style=\"text-align: right;\">\n",
       "      <th></th>\n",
       "      <th>Product</th>\n",
       "      <th>Rating</th>\n",
       "      <th>MRP</th>\n",
       "      <th>Feature</th>\n",
       "      <th>Brand</th>\n",
       "      <th>Processor</th>\n",
       "      <th>RAM Size</th>\n",
       "      <th>RAM Type</th>\n",
       "      <th>Operating System</th>\n",
       "      <th>Storage</th>\n",
       "    </tr>\n",
       "  </thead>\n",
       "  <tbody>\n",
       "    <tr>\n",
       "      <th>0</th>\n",
       "      <td>Lenovo IdeaPad 3 Core i3 11th Gen - (8 GB/256 ...</td>\n",
       "      <td>4.2</td>\n",
       "      <td>₹36,990</td>\n",
       "      <td>Intel Core i3 Processor (11th Gen)8 GB DDR4 RA...</td>\n",
       "      <td>[Lenovo]</td>\n",
       "      <td>[Intel Core i3 Processor]</td>\n",
       "      <td>8</td>\n",
       "      <td>DDR4</td>\n",
       "      <td>64 bit Windows 11</td>\n",
       "      <td>256 GB SSD</td>\n",
       "    </tr>\n",
       "    <tr>\n",
       "      <th>1</th>\n",
       "      <td>Lenovo IdeaPad 3 Core i3 11th Gen - (8 GB/512 ...</td>\n",
       "      <td>4.2</td>\n",
       "      <td>₹39,990</td>\n",
       "      <td>Intel Core i3 Processor (11th Gen)8 GB DDR4 RA...</td>\n",
       "      <td>[Lenovo]</td>\n",
       "      <td>[Intel Core i3 Processor]</td>\n",
       "      <td>8</td>\n",
       "      <td>DDR4</td>\n",
       "      <td>64 bit Windows 11</td>\n",
       "      <td>512 GB SSD</td>\n",
       "    </tr>\n",
       "    <tr>\n",
       "      <th>2</th>\n",
       "      <td>ASUS VivoBook 15 (2022) Core i3 10th Gen - (8 ...</td>\n",
       "      <td>4.3</td>\n",
       "      <td>₹32,990</td>\n",
       "      <td>Intel Core i3 Processor (10th Gen)8 GB DDR4 RA...</td>\n",
       "      <td>[ASUS]</td>\n",
       "      <td>[Intel Core i3 Processor]</td>\n",
       "      <td>8</td>\n",
       "      <td>DDR4</td>\n",
       "      <td>64 bit Windows 11</td>\n",
       "      <td>512 GB SSD</td>\n",
       "    </tr>\n",
       "    <tr>\n",
       "      <th>3</th>\n",
       "      <td>HP Pavilion Ryzen 5 Hexa Core AMD R5-5600H - (...</td>\n",
       "      <td>4.4</td>\n",
       "      <td>₹49,990</td>\n",
       "      <td>AMD Ryzen 5 Hexa Core Processor8 GB DDR4 RAM64...</td>\n",
       "      <td>[HP]</td>\n",
       "      <td>[AMD Ryzen 5 Hexa Core Processor]</td>\n",
       "      <td>8</td>\n",
       "      <td>DDR4</td>\n",
       "      <td>64 bit Windows 10</td>\n",
       "      <td>512 GB SSD</td>\n",
       "    </tr>\n",
       "    <tr>\n",
       "      <th>4</th>\n",
       "      <td>ASUS TUF Gaming F15 Core i5 10th Gen - (8 GB/5...</td>\n",
       "      <td>4.4</td>\n",
       "      <td>₹49,990</td>\n",
       "      <td>Intel Core i5 Processor (10th Gen)8 GB DDR4 RA...</td>\n",
       "      <td>[ASUS]</td>\n",
       "      <td>[Intel Core i5 Processor]</td>\n",
       "      <td>8</td>\n",
       "      <td>DDR4</td>\n",
       "      <td>Windows 11</td>\n",
       "      <td>512 GB SSD</td>\n",
       "    </tr>\n",
       "  </tbody>\n",
       "</table>\n",
       "</div>"
      ],
      "text/plain": [
       "                                             Product  Rating      MRP  \\\n",
       "0  Lenovo IdeaPad 3 Core i3 11th Gen - (8 GB/256 ...     4.2  ₹36,990   \n",
       "1  Lenovo IdeaPad 3 Core i3 11th Gen - (8 GB/512 ...     4.2  ₹39,990   \n",
       "2  ASUS VivoBook 15 (2022) Core i3 10th Gen - (8 ...     4.3  ₹32,990   \n",
       "3  HP Pavilion Ryzen 5 Hexa Core AMD R5-5600H - (...     4.4  ₹49,990   \n",
       "4  ASUS TUF Gaming F15 Core i5 10th Gen - (8 GB/5...     4.4  ₹49,990   \n",
       "\n",
       "                                             Feature     Brand  \\\n",
       "0  Intel Core i3 Processor (11th Gen)8 GB DDR4 RA...  [Lenovo]   \n",
       "1  Intel Core i3 Processor (11th Gen)8 GB DDR4 RA...  [Lenovo]   \n",
       "2  Intel Core i3 Processor (10th Gen)8 GB DDR4 RA...    [ASUS]   \n",
       "3  AMD Ryzen 5 Hexa Core Processor8 GB DDR4 RAM64...      [HP]   \n",
       "4  Intel Core i5 Processor (10th Gen)8 GB DDR4 RA...    [ASUS]   \n",
       "\n",
       "                           Processor RAM Size RAM Type    Operating System  \\\n",
       "0          [Intel Core i3 Processor]      8       DDR4  64 bit Windows 11    \n",
       "1          [Intel Core i3 Processor]      8       DDR4  64 bit Windows 11    \n",
       "2          [Intel Core i3 Processor]      8       DDR4  64 bit Windows 11    \n",
       "3  [AMD Ryzen 5 Hexa Core Processor]      8       DDR4  64 bit Windows 10    \n",
       "4          [Intel Core i5 Processor]      8       DDR4         Windows 11    \n",
       "\n",
       "      Storage  \n",
       "0  256 GB SSD  \n",
       "1  512 GB SSD  \n",
       "2  512 GB SSD  \n",
       "3  512 GB SSD  \n",
       "4  512 GB SSD  "
      ]
     },
     "execution_count": 26,
     "metadata": {},
     "output_type": "execute_result"
    }
   ],
   "source": [
    "laptop.head()"
   ]
  },
  {
   "cell_type": "code",
   "execution_count": 27,
   "id": "a0639bcd",
   "metadata": {},
   "outputs": [],
   "source": [
    "regex = r'(?:SSD[\\s,]?|HDD[\\s,]?)+'\n",
    "laptop['Storage Type'] = laptop['Storage'].apply(lambda x: ','.join(re.findall(regex, x)))"
   ]
  },
  {
   "cell_type": "code",
   "execution_count": 28,
   "id": "5418b9de",
   "metadata": {},
   "outputs": [
    {
     "data": {
      "text/html": [
       "<div>\n",
       "<style scoped>\n",
       "    .dataframe tbody tr th:only-of-type {\n",
       "        vertical-align: middle;\n",
       "    }\n",
       "\n",
       "    .dataframe tbody tr th {\n",
       "        vertical-align: top;\n",
       "    }\n",
       "\n",
       "    .dataframe thead th {\n",
       "        text-align: right;\n",
       "    }\n",
       "</style>\n",
       "<table border=\"1\" class=\"dataframe\">\n",
       "  <thead>\n",
       "    <tr style=\"text-align: right;\">\n",
       "      <th></th>\n",
       "      <th>Product</th>\n",
       "      <th>Rating</th>\n",
       "      <th>MRP</th>\n",
       "      <th>Feature</th>\n",
       "      <th>Brand</th>\n",
       "      <th>Processor</th>\n",
       "      <th>RAM Size</th>\n",
       "      <th>RAM Type</th>\n",
       "      <th>Operating System</th>\n",
       "      <th>Storage</th>\n",
       "      <th>Storage Type</th>\n",
       "    </tr>\n",
       "  </thead>\n",
       "  <tbody>\n",
       "    <tr>\n",
       "      <th>0</th>\n",
       "      <td>Lenovo IdeaPad 3 Core i3 11th Gen - (8 GB/256 ...</td>\n",
       "      <td>4.2</td>\n",
       "      <td>₹36,990</td>\n",
       "      <td>Intel Core i3 Processor (11th Gen)8 GB DDR4 RA...</td>\n",
       "      <td>[Lenovo]</td>\n",
       "      <td>[Intel Core i3 Processor]</td>\n",
       "      <td>8</td>\n",
       "      <td>DDR4</td>\n",
       "      <td>64 bit Windows 11</td>\n",
       "      <td>256 GB SSD</td>\n",
       "      <td>SSD</td>\n",
       "    </tr>\n",
       "    <tr>\n",
       "      <th>1</th>\n",
       "      <td>Lenovo IdeaPad 3 Core i3 11th Gen - (8 GB/512 ...</td>\n",
       "      <td>4.2</td>\n",
       "      <td>₹39,990</td>\n",
       "      <td>Intel Core i3 Processor (11th Gen)8 GB DDR4 RA...</td>\n",
       "      <td>[Lenovo]</td>\n",
       "      <td>[Intel Core i3 Processor]</td>\n",
       "      <td>8</td>\n",
       "      <td>DDR4</td>\n",
       "      <td>64 bit Windows 11</td>\n",
       "      <td>512 GB SSD</td>\n",
       "      <td>SSD</td>\n",
       "    </tr>\n",
       "    <tr>\n",
       "      <th>2</th>\n",
       "      <td>ASUS VivoBook 15 (2022) Core i3 10th Gen - (8 ...</td>\n",
       "      <td>4.3</td>\n",
       "      <td>₹32,990</td>\n",
       "      <td>Intel Core i3 Processor (10th Gen)8 GB DDR4 RA...</td>\n",
       "      <td>[ASUS]</td>\n",
       "      <td>[Intel Core i3 Processor]</td>\n",
       "      <td>8</td>\n",
       "      <td>DDR4</td>\n",
       "      <td>64 bit Windows 11</td>\n",
       "      <td>512 GB SSD</td>\n",
       "      <td>SSD</td>\n",
       "    </tr>\n",
       "    <tr>\n",
       "      <th>3</th>\n",
       "      <td>HP Pavilion Ryzen 5 Hexa Core AMD R5-5600H - (...</td>\n",
       "      <td>4.4</td>\n",
       "      <td>₹49,990</td>\n",
       "      <td>AMD Ryzen 5 Hexa Core Processor8 GB DDR4 RAM64...</td>\n",
       "      <td>[HP]</td>\n",
       "      <td>[AMD Ryzen 5 Hexa Core Processor]</td>\n",
       "      <td>8</td>\n",
       "      <td>DDR4</td>\n",
       "      <td>64 bit Windows 10</td>\n",
       "      <td>512 GB SSD</td>\n",
       "      <td>SSD</td>\n",
       "    </tr>\n",
       "    <tr>\n",
       "      <th>4</th>\n",
       "      <td>ASUS TUF Gaming F15 Core i5 10th Gen - (8 GB/5...</td>\n",
       "      <td>4.4</td>\n",
       "      <td>₹49,990</td>\n",
       "      <td>Intel Core i5 Processor (10th Gen)8 GB DDR4 RA...</td>\n",
       "      <td>[ASUS]</td>\n",
       "      <td>[Intel Core i5 Processor]</td>\n",
       "      <td>8</td>\n",
       "      <td>DDR4</td>\n",
       "      <td>Windows 11</td>\n",
       "      <td>512 GB SSD</td>\n",
       "      <td>SSD</td>\n",
       "    </tr>\n",
       "  </tbody>\n",
       "</table>\n",
       "</div>"
      ],
      "text/plain": [
       "                                             Product  Rating      MRP  \\\n",
       "0  Lenovo IdeaPad 3 Core i3 11th Gen - (8 GB/256 ...     4.2  ₹36,990   \n",
       "1  Lenovo IdeaPad 3 Core i3 11th Gen - (8 GB/512 ...     4.2  ₹39,990   \n",
       "2  ASUS VivoBook 15 (2022) Core i3 10th Gen - (8 ...     4.3  ₹32,990   \n",
       "3  HP Pavilion Ryzen 5 Hexa Core AMD R5-5600H - (...     4.4  ₹49,990   \n",
       "4  ASUS TUF Gaming F15 Core i5 10th Gen - (8 GB/5...     4.4  ₹49,990   \n",
       "\n",
       "                                             Feature     Brand  \\\n",
       "0  Intel Core i3 Processor (11th Gen)8 GB DDR4 RA...  [Lenovo]   \n",
       "1  Intel Core i3 Processor (11th Gen)8 GB DDR4 RA...  [Lenovo]   \n",
       "2  Intel Core i3 Processor (10th Gen)8 GB DDR4 RA...    [ASUS]   \n",
       "3  AMD Ryzen 5 Hexa Core Processor8 GB DDR4 RAM64...      [HP]   \n",
       "4  Intel Core i5 Processor (10th Gen)8 GB DDR4 RA...    [ASUS]   \n",
       "\n",
       "                           Processor RAM Size RAM Type    Operating System  \\\n",
       "0          [Intel Core i3 Processor]      8       DDR4  64 bit Windows 11    \n",
       "1          [Intel Core i3 Processor]      8       DDR4  64 bit Windows 11    \n",
       "2          [Intel Core i3 Processor]      8       DDR4  64 bit Windows 11    \n",
       "3  [AMD Ryzen 5 Hexa Core Processor]      8       DDR4  64 bit Windows 10    \n",
       "4          [Intel Core i5 Processor]      8       DDR4         Windows 11    \n",
       "\n",
       "      Storage Storage Type  \n",
       "0  256 GB SSD          SSD  \n",
       "1  512 GB SSD          SSD  \n",
       "2  512 GB SSD          SSD  \n",
       "3  512 GB SSD          SSD  \n",
       "4  512 GB SSD          SSD  "
      ]
     },
     "execution_count": 28,
     "metadata": {},
     "output_type": "execute_result"
    }
   ],
   "source": [
    "laptop.head()"
   ]
  },
  {
   "cell_type": "code",
   "execution_count": 29,
   "id": "2bef7364",
   "metadata": {},
   "outputs": [
    {
     "data": {
      "text/plain": [
       "SSD            662\n",
       "HDD,SSD         29\n",
       "HDD             17\n",
       "                10\n",
       "SSD,HDD,SSD      2\n",
       "Name: Storage Type, dtype: int64"
      ]
     },
     "execution_count": 29,
     "metadata": {},
     "output_type": "execute_result"
    }
   ],
   "source": [
    "laptop['Storage Type'].value_counts()"
   ]
  },
  {
   "cell_type": "code",
   "execution_count": 30,
   "id": "beb1b195",
   "metadata": {},
   "outputs": [
    {
     "data": {
      "text/plain": [
       "'Intel Core i3 Processor (11th Gen)8 GB DDR4 RAM64 bit Windows 11 Operating System256 GB SSD35.56 cm (14 inch) DisplayOffice Home and Student 20212 Year Onsite�Warranty'"
      ]
     },
     "execution_count": 30,
     "metadata": {},
     "output_type": "execute_result"
    }
   ],
   "source": [
    "laptop['Feature'][0]"
   ]
  },
  {
   "cell_type": "code",
   "execution_count": 31,
   "id": "54048699",
   "metadata": {},
   "outputs": [],
   "source": [
    "regex = r'\\d{2}\\.\\d{2}\\s+'\n",
    "laptop['Display'] = laptop['Feature'].apply(lambda x:''.join(re.findall(regex,x)).replace('cm',''))"
   ]
  },
  {
   "cell_type": "code",
   "execution_count": 32,
   "id": "844a9658",
   "metadata": {},
   "outputs": [
    {
     "data": {
      "text/plain": [
       "'35.56 '"
      ]
     },
     "execution_count": 32,
     "metadata": {},
     "output_type": "execute_result"
    }
   ],
   "source": [
    "laptop['Display'][0]"
   ]
  },
  {
   "cell_type": "code",
   "execution_count": 33,
   "id": "75c966ab",
   "metadata": {},
   "outputs": [],
   "source": [
    "laptop['Display']=laptop['Display'].apply(lambda x: x.strip(\"''\"))"
   ]
  },
  {
   "cell_type": "code",
   "execution_count": 34,
   "id": "5e656a04",
   "metadata": {},
   "outputs": [
    {
     "data": {
      "text/plain": [
       "0      35.56 \n",
       "1      39.62 \n",
       "2      39.62 \n",
       "3      39.62 \n",
       "4      39.62 \n",
       "        ...  \n",
       "715    29.46 \n",
       "716    39.62 \n",
       "717    39.62 \n",
       "718    35.56 \n",
       "719    39.62 \n",
       "Name: Display, Length: 720, dtype: object"
      ]
     },
     "execution_count": 34,
     "metadata": {},
     "output_type": "execute_result"
    }
   ],
   "source": [
    "laptop['Display']"
   ]
  },
  {
   "cell_type": "code",
   "execution_count": 35,
   "id": "a4b34e4a",
   "metadata": {},
   "outputs": [
    {
     "data": {
      "text/html": [
       "<div>\n",
       "<style scoped>\n",
       "    .dataframe tbody tr th:only-of-type {\n",
       "        vertical-align: middle;\n",
       "    }\n",
       "\n",
       "    .dataframe tbody tr th {\n",
       "        vertical-align: top;\n",
       "    }\n",
       "\n",
       "    .dataframe thead th {\n",
       "        text-align: right;\n",
       "    }\n",
       "</style>\n",
       "<table border=\"1\" class=\"dataframe\">\n",
       "  <thead>\n",
       "    <tr style=\"text-align: right;\">\n",
       "      <th></th>\n",
       "      <th>Product</th>\n",
       "      <th>Rating</th>\n",
       "      <th>MRP</th>\n",
       "      <th>Feature</th>\n",
       "      <th>Brand</th>\n",
       "      <th>Processor</th>\n",
       "      <th>RAM Size</th>\n",
       "      <th>RAM Type</th>\n",
       "      <th>Operating System</th>\n",
       "      <th>Storage</th>\n",
       "      <th>Storage Type</th>\n",
       "      <th>Display</th>\n",
       "    </tr>\n",
       "  </thead>\n",
       "  <tbody>\n",
       "    <tr>\n",
       "      <th>0</th>\n",
       "      <td>Lenovo IdeaPad 3 Core i3 11th Gen - (8 GB/256 ...</td>\n",
       "      <td>4.2</td>\n",
       "      <td>₹36,990</td>\n",
       "      <td>Intel Core i3 Processor (11th Gen)8 GB DDR4 RA...</td>\n",
       "      <td>[Lenovo]</td>\n",
       "      <td>[Intel Core i3 Processor]</td>\n",
       "      <td>8</td>\n",
       "      <td>DDR4</td>\n",
       "      <td>64 bit Windows 11</td>\n",
       "      <td>256 GB SSD</td>\n",
       "      <td>SSD</td>\n",
       "      <td>35.56</td>\n",
       "    </tr>\n",
       "    <tr>\n",
       "      <th>1</th>\n",
       "      <td>Lenovo IdeaPad 3 Core i3 11th Gen - (8 GB/512 ...</td>\n",
       "      <td>4.2</td>\n",
       "      <td>₹39,990</td>\n",
       "      <td>Intel Core i3 Processor (11th Gen)8 GB DDR4 RA...</td>\n",
       "      <td>[Lenovo]</td>\n",
       "      <td>[Intel Core i3 Processor]</td>\n",
       "      <td>8</td>\n",
       "      <td>DDR4</td>\n",
       "      <td>64 bit Windows 11</td>\n",
       "      <td>512 GB SSD</td>\n",
       "      <td>SSD</td>\n",
       "      <td>39.62</td>\n",
       "    </tr>\n",
       "    <tr>\n",
       "      <th>2</th>\n",
       "      <td>ASUS VivoBook 15 (2022) Core i3 10th Gen - (8 ...</td>\n",
       "      <td>4.3</td>\n",
       "      <td>₹32,990</td>\n",
       "      <td>Intel Core i3 Processor (10th Gen)8 GB DDR4 RA...</td>\n",
       "      <td>[ASUS]</td>\n",
       "      <td>[Intel Core i3 Processor]</td>\n",
       "      <td>8</td>\n",
       "      <td>DDR4</td>\n",
       "      <td>64 bit Windows 11</td>\n",
       "      <td>512 GB SSD</td>\n",
       "      <td>SSD</td>\n",
       "      <td>39.62</td>\n",
       "    </tr>\n",
       "    <tr>\n",
       "      <th>3</th>\n",
       "      <td>HP Pavilion Ryzen 5 Hexa Core AMD R5-5600H - (...</td>\n",
       "      <td>4.4</td>\n",
       "      <td>₹49,990</td>\n",
       "      <td>AMD Ryzen 5 Hexa Core Processor8 GB DDR4 RAM64...</td>\n",
       "      <td>[HP]</td>\n",
       "      <td>[AMD Ryzen 5 Hexa Core Processor]</td>\n",
       "      <td>8</td>\n",
       "      <td>DDR4</td>\n",
       "      <td>64 bit Windows 10</td>\n",
       "      <td>512 GB SSD</td>\n",
       "      <td>SSD</td>\n",
       "      <td>39.62</td>\n",
       "    </tr>\n",
       "    <tr>\n",
       "      <th>4</th>\n",
       "      <td>ASUS TUF Gaming F15 Core i5 10th Gen - (8 GB/5...</td>\n",
       "      <td>4.4</td>\n",
       "      <td>₹49,990</td>\n",
       "      <td>Intel Core i5 Processor (10th Gen)8 GB DDR4 RA...</td>\n",
       "      <td>[ASUS]</td>\n",
       "      <td>[Intel Core i5 Processor]</td>\n",
       "      <td>8</td>\n",
       "      <td>DDR4</td>\n",
       "      <td>Windows 11</td>\n",
       "      <td>512 GB SSD</td>\n",
       "      <td>SSD</td>\n",
       "      <td>39.62</td>\n",
       "    </tr>\n",
       "  </tbody>\n",
       "</table>\n",
       "</div>"
      ],
      "text/plain": [
       "                                             Product  Rating      MRP  \\\n",
       "0  Lenovo IdeaPad 3 Core i3 11th Gen - (8 GB/256 ...     4.2  ₹36,990   \n",
       "1  Lenovo IdeaPad 3 Core i3 11th Gen - (8 GB/512 ...     4.2  ₹39,990   \n",
       "2  ASUS VivoBook 15 (2022) Core i3 10th Gen - (8 ...     4.3  ₹32,990   \n",
       "3  HP Pavilion Ryzen 5 Hexa Core AMD R5-5600H - (...     4.4  ₹49,990   \n",
       "4  ASUS TUF Gaming F15 Core i5 10th Gen - (8 GB/5...     4.4  ₹49,990   \n",
       "\n",
       "                                             Feature     Brand  \\\n",
       "0  Intel Core i3 Processor (11th Gen)8 GB DDR4 RA...  [Lenovo]   \n",
       "1  Intel Core i3 Processor (11th Gen)8 GB DDR4 RA...  [Lenovo]   \n",
       "2  Intel Core i3 Processor (10th Gen)8 GB DDR4 RA...    [ASUS]   \n",
       "3  AMD Ryzen 5 Hexa Core Processor8 GB DDR4 RAM64...      [HP]   \n",
       "4  Intel Core i5 Processor (10th Gen)8 GB DDR4 RA...    [ASUS]   \n",
       "\n",
       "                           Processor RAM Size RAM Type    Operating System  \\\n",
       "0          [Intel Core i3 Processor]      8       DDR4  64 bit Windows 11    \n",
       "1          [Intel Core i3 Processor]      8       DDR4  64 bit Windows 11    \n",
       "2          [Intel Core i3 Processor]      8       DDR4  64 bit Windows 11    \n",
       "3  [AMD Ryzen 5 Hexa Core Processor]      8       DDR4  64 bit Windows 10    \n",
       "4          [Intel Core i5 Processor]      8       DDR4         Windows 11    \n",
       "\n",
       "      Storage Storage Type Display  \n",
       "0  256 GB SSD          SSD  35.56   \n",
       "1  512 GB SSD          SSD  39.62   \n",
       "2  512 GB SSD          SSD  39.62   \n",
       "3  512 GB SSD          SSD  39.62   \n",
       "4  512 GB SSD          SSD  39.62   "
      ]
     },
     "execution_count": 35,
     "metadata": {},
     "output_type": "execute_result"
    }
   ],
   "source": [
    "laptop.head()"
   ]
  },
  {
   "cell_type": "code",
   "execution_count": 36,
   "id": "c886bcc1",
   "metadata": {},
   "outputs": [
    {
     "name": "stdout",
     "output_type": "stream",
     "text": [
      "<class 'pandas.core.frame.DataFrame'>\n",
      "RangeIndex: 720 entries, 0 to 719\n",
      "Data columns (total 12 columns):\n",
      " #   Column            Non-Null Count  Dtype  \n",
      "---  ------            --------------  -----  \n",
      " 0   Product           720 non-null    object \n",
      " 1   Rating            581 non-null    float64\n",
      " 2   MRP               720 non-null    object \n",
      " 3   Feature           720 non-null    object \n",
      " 4   Brand             720 non-null    object \n",
      " 5   Processor         720 non-null    object \n",
      " 6   RAM Size          720 non-null    object \n",
      " 7   RAM Type          720 non-null    object \n",
      " 8   Operating System  720 non-null    object \n",
      " 9   Storage           720 non-null    object \n",
      " 10  Storage Type      720 non-null    object \n",
      " 11  Display           720 non-null    object \n",
      "dtypes: float64(1), object(11)\n",
      "memory usage: 67.6+ KB\n"
     ]
    }
   ],
   "source": [
    "laptop.info()"
   ]
  },
  {
   "cell_type": "code",
   "execution_count": 37,
   "id": "17641198",
   "metadata": {},
   "outputs": [
    {
     "data": {
      "text/plain": [
       "39.62     492\n",
       "35.56     137\n",
       "33.78      18\n",
       "40.64      16\n",
       "43.94      11\n",
       "29.46       9\n",
       "40.89       8\n",
       "            6\n",
       "41.15       5\n",
       "34.04       5\n",
       "35.81       4\n",
       "34.54       3\n",
       "36.07       2\n",
       "33.02       1\n",
       "14.96       1\n",
       "34.29       1\n",
       "42.16       1\n",
       "Name: Display, dtype: int64"
      ]
     },
     "execution_count": 37,
     "metadata": {},
     "output_type": "execute_result"
    }
   ],
   "source": [
    "laptop.Display.value_counts()"
   ]
  },
  {
   "cell_type": "code",
   "execution_count": 38,
   "id": "55e9eae9",
   "metadata": {},
   "outputs": [],
   "source": [
    "laptop['Display']=laptop['Display'].replace('',np.nan)"
   ]
  },
  {
   "cell_type": "code",
   "execution_count": 39,
   "id": "7e83e504",
   "metadata": {},
   "outputs": [
    {
     "data": {
      "text/plain": [
       "39.62     492\n",
       "35.56     137\n",
       "33.78      18\n",
       "40.64      16\n",
       "43.94      11\n",
       "29.46       9\n",
       "40.89       8\n",
       "41.15       5\n",
       "34.04       5\n",
       "35.81       4\n",
       "34.54       3\n",
       "36.07       2\n",
       "33.02       1\n",
       "14.96       1\n",
       "34.29       1\n",
       "42.16       1\n",
       "Name: Display, dtype: int64"
      ]
     },
     "execution_count": 39,
     "metadata": {},
     "output_type": "execute_result"
    }
   ],
   "source": [
    "laptop['Display'].value_counts()"
   ]
  },
  {
   "cell_type": "code",
   "execution_count": 40,
   "id": "7ce3e71b",
   "metadata": {},
   "outputs": [],
   "source": [
    "laptop['Display'] = laptop['Display'].astype(float)"
   ]
  },
  {
   "cell_type": "code",
   "execution_count": 41,
   "id": "b6c255f5",
   "metadata": {},
   "outputs": [
    {
     "data": {
      "text/html": [
       "<div>\n",
       "<style scoped>\n",
       "    .dataframe tbody tr th:only-of-type {\n",
       "        vertical-align: middle;\n",
       "    }\n",
       "\n",
       "    .dataframe tbody tr th {\n",
       "        vertical-align: top;\n",
       "    }\n",
       "\n",
       "    .dataframe thead th {\n",
       "        text-align: right;\n",
       "    }\n",
       "</style>\n",
       "<table border=\"1\" class=\"dataframe\">\n",
       "  <thead>\n",
       "    <tr style=\"text-align: right;\">\n",
       "      <th></th>\n",
       "      <th>Product</th>\n",
       "      <th>Rating</th>\n",
       "      <th>MRP</th>\n",
       "      <th>Feature</th>\n",
       "      <th>Brand</th>\n",
       "      <th>Processor</th>\n",
       "      <th>RAM Size</th>\n",
       "      <th>RAM Type</th>\n",
       "      <th>Operating System</th>\n",
       "      <th>Storage</th>\n",
       "      <th>Storage Type</th>\n",
       "      <th>Display</th>\n",
       "    </tr>\n",
       "  </thead>\n",
       "  <tbody>\n",
       "    <tr>\n",
       "      <th>0</th>\n",
       "      <td>Lenovo IdeaPad 3 Core i3 11th Gen - (8 GB/256 ...</td>\n",
       "      <td>4.2</td>\n",
       "      <td>₹36,990</td>\n",
       "      <td>Intel Core i3 Processor (11th Gen)8 GB DDR4 RA...</td>\n",
       "      <td>[Lenovo]</td>\n",
       "      <td>[Intel Core i3 Processor]</td>\n",
       "      <td>8</td>\n",
       "      <td>DDR4</td>\n",
       "      <td>64 bit Windows 11</td>\n",
       "      <td>256 GB</td>\n",
       "      <td>SSD</td>\n",
       "      <td>35.56</td>\n",
       "    </tr>\n",
       "    <tr>\n",
       "      <th>1</th>\n",
       "      <td>Lenovo IdeaPad 3 Core i3 11th Gen - (8 GB/512 ...</td>\n",
       "      <td>4.2</td>\n",
       "      <td>₹39,990</td>\n",
       "      <td>Intel Core i3 Processor (11th Gen)8 GB DDR4 RA...</td>\n",
       "      <td>[Lenovo]</td>\n",
       "      <td>[Intel Core i3 Processor]</td>\n",
       "      <td>8</td>\n",
       "      <td>DDR4</td>\n",
       "      <td>64 bit Windows 11</td>\n",
       "      <td>512 GB</td>\n",
       "      <td>SSD</td>\n",
       "      <td>39.62</td>\n",
       "    </tr>\n",
       "    <tr>\n",
       "      <th>2</th>\n",
       "      <td>ASUS VivoBook 15 (2022) Core i3 10th Gen - (8 ...</td>\n",
       "      <td>4.3</td>\n",
       "      <td>₹32,990</td>\n",
       "      <td>Intel Core i3 Processor (10th Gen)8 GB DDR4 RA...</td>\n",
       "      <td>[ASUS]</td>\n",
       "      <td>[Intel Core i3 Processor]</td>\n",
       "      <td>8</td>\n",
       "      <td>DDR4</td>\n",
       "      <td>64 bit Windows 11</td>\n",
       "      <td>512 GB</td>\n",
       "      <td>SSD</td>\n",
       "      <td>39.62</td>\n",
       "    </tr>\n",
       "    <tr>\n",
       "      <th>3</th>\n",
       "      <td>HP Pavilion Ryzen 5 Hexa Core AMD R5-5600H - (...</td>\n",
       "      <td>4.4</td>\n",
       "      <td>₹49,990</td>\n",
       "      <td>AMD Ryzen 5 Hexa Core Processor8 GB DDR4 RAM64...</td>\n",
       "      <td>[HP]</td>\n",
       "      <td>[AMD Ryzen 5 Hexa Core Processor]</td>\n",
       "      <td>8</td>\n",
       "      <td>DDR4</td>\n",
       "      <td>64 bit Windows 10</td>\n",
       "      <td>512 GB</td>\n",
       "      <td>SSD</td>\n",
       "      <td>39.62</td>\n",
       "    </tr>\n",
       "    <tr>\n",
       "      <th>4</th>\n",
       "      <td>ASUS TUF Gaming F15 Core i5 10th Gen - (8 GB/5...</td>\n",
       "      <td>4.4</td>\n",
       "      <td>₹49,990</td>\n",
       "      <td>Intel Core i5 Processor (10th Gen)8 GB DDR4 RA...</td>\n",
       "      <td>[ASUS]</td>\n",
       "      <td>[Intel Core i5 Processor]</td>\n",
       "      <td>8</td>\n",
       "      <td>DDR4</td>\n",
       "      <td>Windows 11</td>\n",
       "      <td>512 GB</td>\n",
       "      <td>SSD</td>\n",
       "      <td>39.62</td>\n",
       "    </tr>\n",
       "  </tbody>\n",
       "</table>\n",
       "</div>"
      ],
      "text/plain": [
       "                                             Product  Rating      MRP  \\\n",
       "0  Lenovo IdeaPad 3 Core i3 11th Gen - (8 GB/256 ...     4.2  ₹36,990   \n",
       "1  Lenovo IdeaPad 3 Core i3 11th Gen - (8 GB/512 ...     4.2  ₹39,990   \n",
       "2  ASUS VivoBook 15 (2022) Core i3 10th Gen - (8 ...     4.3  ₹32,990   \n",
       "3  HP Pavilion Ryzen 5 Hexa Core AMD R5-5600H - (...     4.4  ₹49,990   \n",
       "4  ASUS TUF Gaming F15 Core i5 10th Gen - (8 GB/5...     4.4  ₹49,990   \n",
       "\n",
       "                                             Feature     Brand  \\\n",
       "0  Intel Core i3 Processor (11th Gen)8 GB DDR4 RA...  [Lenovo]   \n",
       "1  Intel Core i3 Processor (11th Gen)8 GB DDR4 RA...  [Lenovo]   \n",
       "2  Intel Core i3 Processor (10th Gen)8 GB DDR4 RA...    [ASUS]   \n",
       "3  AMD Ryzen 5 Hexa Core Processor8 GB DDR4 RAM64...      [HP]   \n",
       "4  Intel Core i5 Processor (10th Gen)8 GB DDR4 RA...    [ASUS]   \n",
       "\n",
       "                           Processor RAM Size RAM Type    Operating System  \\\n",
       "0          [Intel Core i3 Processor]      8       DDR4  64 bit Windows 11    \n",
       "1          [Intel Core i3 Processor]      8       DDR4  64 bit Windows 11    \n",
       "2          [Intel Core i3 Processor]      8       DDR4  64 bit Windows 11    \n",
       "3  [AMD Ryzen 5 Hexa Core Processor]      8       DDR4  64 bit Windows 10    \n",
       "4          [Intel Core i5 Processor]      8       DDR4         Windows 11    \n",
       "\n",
       "   Storage Storage Type  Display  \n",
       "0  256 GB           SSD    35.56  \n",
       "1  512 GB           SSD    39.62  \n",
       "2  512 GB           SSD    39.62  \n",
       "3  512 GB           SSD    39.62  \n",
       "4  512 GB           SSD    39.62  "
      ]
     },
     "execution_count": 41,
     "metadata": {},
     "output_type": "execute_result"
    }
   ],
   "source": [
    "laptop.Storage = laptop.Storage.apply(lambda x: str(x).replace('SSD','').replace('HDD',''))\n",
    "laptop.head()"
   ]
  },
  {
   "cell_type": "code",
   "execution_count": 42,
   "id": "38cad093",
   "metadata": {},
   "outputs": [
    {
     "name": "stdout",
     "output_type": "stream",
     "text": [
      "<class 'pandas.core.frame.DataFrame'>\n",
      "RangeIndex: 720 entries, 0 to 719\n",
      "Data columns (total 12 columns):\n",
      " #   Column            Non-Null Count  Dtype  \n",
      "---  ------            --------------  -----  \n",
      " 0   Product           720 non-null    object \n",
      " 1   Rating            581 non-null    float64\n",
      " 2   MRP               720 non-null    object \n",
      " 3   Feature           720 non-null    object \n",
      " 4   Brand             720 non-null    object \n",
      " 5   Processor         720 non-null    object \n",
      " 6   RAM Size          720 non-null    object \n",
      " 7   RAM Type          720 non-null    object \n",
      " 8   Operating System  720 non-null    object \n",
      " 9   Storage           720 non-null    object \n",
      " 10  Storage Type      720 non-null    object \n",
      " 11  Display           714 non-null    float64\n",
      "dtypes: float64(2), object(10)\n",
      "memory usage: 67.6+ KB\n"
     ]
    }
   ],
   "source": [
    "laptop.info()"
   ]
  },
  {
   "cell_type": "markdown",
   "id": "71c3e76c",
   "metadata": {},
   "source": [
    "# Cleaning the Data"
   ]
  },
  {
   "cell_type": "code",
   "execution_count": 43,
   "id": "f28b59d4",
   "metadata": {},
   "outputs": [
    {
     "data": {
      "text/plain": [
       "Product               0\n",
       "Rating              139\n",
       "MRP                   0\n",
       "Feature               0\n",
       "Brand                 0\n",
       "Processor             0\n",
       "RAM Size              0\n",
       "RAM Type              0\n",
       "Operating System      0\n",
       "Storage               0\n",
       "Storage Type          0\n",
       "Display               6\n",
       "dtype: int64"
      ]
     },
     "execution_count": 43,
     "metadata": {},
     "output_type": "execute_result"
    }
   ],
   "source": [
    "#Missing values\n",
    "laptop.isnull().sum()"
   ]
  },
  {
   "cell_type": "code",
   "execution_count": 44,
   "id": "afb48e6f",
   "metadata": {},
   "outputs": [
    {
     "data": {
      "text/html": [
       "<div>\n",
       "<style scoped>\n",
       "    .dataframe tbody tr th:only-of-type {\n",
       "        vertical-align: middle;\n",
       "    }\n",
       "\n",
       "    .dataframe tbody tr th {\n",
       "        vertical-align: top;\n",
       "    }\n",
       "\n",
       "    .dataframe thead th {\n",
       "        text-align: right;\n",
       "    }\n",
       "</style>\n",
       "<table border=\"1\" class=\"dataframe\">\n",
       "  <thead>\n",
       "    <tr style=\"text-align: right;\">\n",
       "      <th></th>\n",
       "      <th>Product</th>\n",
       "      <th>Rating</th>\n",
       "      <th>MRP</th>\n",
       "      <th>Feature</th>\n",
       "      <th>Brand</th>\n",
       "      <th>Processor</th>\n",
       "      <th>RAM Size</th>\n",
       "      <th>RAM Type</th>\n",
       "      <th>Operating System</th>\n",
       "      <th>Storage</th>\n",
       "      <th>Storage Type</th>\n",
       "      <th>Display</th>\n",
       "    </tr>\n",
       "  </thead>\n",
       "  <tbody>\n",
       "    <tr>\n",
       "      <th>0</th>\n",
       "      <td>Lenovo IdeaPad 3 Core i3 11th Gen - (8 GB/256 ...</td>\n",
       "      <td>4.2</td>\n",
       "      <td>₹36,990</td>\n",
       "      <td>Intel Core i3 Processor (11th Gen)8 GB DDR4 RA...</td>\n",
       "      <td>[Lenovo]</td>\n",
       "      <td>[Intel Core i3 Processor]</td>\n",
       "      <td>8</td>\n",
       "      <td>DDR4</td>\n",
       "      <td>64 bit Windows 11</td>\n",
       "      <td>256 GB</td>\n",
       "      <td>SSD</td>\n",
       "      <td>35.56</td>\n",
       "    </tr>\n",
       "    <tr>\n",
       "      <th>1</th>\n",
       "      <td>Lenovo IdeaPad 3 Core i3 11th Gen - (8 GB/512 ...</td>\n",
       "      <td>4.2</td>\n",
       "      <td>₹39,990</td>\n",
       "      <td>Intel Core i3 Processor (11th Gen)8 GB DDR4 RA...</td>\n",
       "      <td>[Lenovo]</td>\n",
       "      <td>[Intel Core i3 Processor]</td>\n",
       "      <td>8</td>\n",
       "      <td>DDR4</td>\n",
       "      <td>64 bit Windows 11</td>\n",
       "      <td>512 GB</td>\n",
       "      <td>SSD</td>\n",
       "      <td>39.62</td>\n",
       "    </tr>\n",
       "    <tr>\n",
       "      <th>2</th>\n",
       "      <td>ASUS VivoBook 15 (2022) Core i3 10th Gen - (8 ...</td>\n",
       "      <td>4.3</td>\n",
       "      <td>₹32,990</td>\n",
       "      <td>Intel Core i3 Processor (10th Gen)8 GB DDR4 RA...</td>\n",
       "      <td>[ASUS]</td>\n",
       "      <td>[Intel Core i3 Processor]</td>\n",
       "      <td>8</td>\n",
       "      <td>DDR4</td>\n",
       "      <td>64 bit Windows 11</td>\n",
       "      <td>512 GB</td>\n",
       "      <td>SSD</td>\n",
       "      <td>39.62</td>\n",
       "    </tr>\n",
       "    <tr>\n",
       "      <th>3</th>\n",
       "      <td>HP Pavilion Ryzen 5 Hexa Core AMD R5-5600H - (...</td>\n",
       "      <td>4.4</td>\n",
       "      <td>₹49,990</td>\n",
       "      <td>AMD Ryzen 5 Hexa Core Processor8 GB DDR4 RAM64...</td>\n",
       "      <td>[HP]</td>\n",
       "      <td>[AMD Ryzen 5 Hexa Core Processor]</td>\n",
       "      <td>8</td>\n",
       "      <td>DDR4</td>\n",
       "      <td>64 bit Windows 10</td>\n",
       "      <td>512 GB</td>\n",
       "      <td>SSD</td>\n",
       "      <td>39.62</td>\n",
       "    </tr>\n",
       "    <tr>\n",
       "      <th>4</th>\n",
       "      <td>ASUS TUF Gaming F15 Core i5 10th Gen - (8 GB/5...</td>\n",
       "      <td>4.4</td>\n",
       "      <td>₹49,990</td>\n",
       "      <td>Intel Core i5 Processor (10th Gen)8 GB DDR4 RA...</td>\n",
       "      <td>[ASUS]</td>\n",
       "      <td>[Intel Core i5 Processor]</td>\n",
       "      <td>8</td>\n",
       "      <td>DDR4</td>\n",
       "      <td>Windows 11</td>\n",
       "      <td>512 GB</td>\n",
       "      <td>SSD</td>\n",
       "      <td>39.62</td>\n",
       "    </tr>\n",
       "  </tbody>\n",
       "</table>\n",
       "</div>"
      ],
      "text/plain": [
       "                                             Product  Rating      MRP  \\\n",
       "0  Lenovo IdeaPad 3 Core i3 11th Gen - (8 GB/256 ...     4.2  ₹36,990   \n",
       "1  Lenovo IdeaPad 3 Core i3 11th Gen - (8 GB/512 ...     4.2  ₹39,990   \n",
       "2  ASUS VivoBook 15 (2022) Core i3 10th Gen - (8 ...     4.3  ₹32,990   \n",
       "3  HP Pavilion Ryzen 5 Hexa Core AMD R5-5600H - (...     4.4  ₹49,990   \n",
       "4  ASUS TUF Gaming F15 Core i5 10th Gen - (8 GB/5...     4.4  ₹49,990   \n",
       "\n",
       "                                             Feature     Brand  \\\n",
       "0  Intel Core i3 Processor (11th Gen)8 GB DDR4 RA...  [Lenovo]   \n",
       "1  Intel Core i3 Processor (11th Gen)8 GB DDR4 RA...  [Lenovo]   \n",
       "2  Intel Core i3 Processor (10th Gen)8 GB DDR4 RA...    [ASUS]   \n",
       "3  AMD Ryzen 5 Hexa Core Processor8 GB DDR4 RAM64...      [HP]   \n",
       "4  Intel Core i5 Processor (10th Gen)8 GB DDR4 RA...    [ASUS]   \n",
       "\n",
       "                           Processor RAM Size RAM Type    Operating System  \\\n",
       "0          [Intel Core i3 Processor]      8       DDR4  64 bit Windows 11    \n",
       "1          [Intel Core i3 Processor]      8       DDR4  64 bit Windows 11    \n",
       "2          [Intel Core i3 Processor]      8       DDR4  64 bit Windows 11    \n",
       "3  [AMD Ryzen 5 Hexa Core Processor]      8       DDR4  64 bit Windows 10    \n",
       "4          [Intel Core i5 Processor]      8       DDR4         Windows 11    \n",
       "\n",
       "   Storage Storage Type  Display  \n",
       "0  256 GB           SSD    35.56  \n",
       "1  512 GB           SSD    39.62  \n",
       "2  512 GB           SSD    39.62  \n",
       "3  512 GB           SSD    39.62  \n",
       "4  512 GB           SSD    39.62  "
      ]
     },
     "execution_count": 44,
     "metadata": {},
     "output_type": "execute_result"
    }
   ],
   "source": [
    "laptop.head()"
   ]
  },
  {
   "cell_type": "code",
   "execution_count": 45,
   "id": "d6c86373",
   "metadata": {},
   "outputs": [
    {
     "name": "stdout",
     "output_type": "stream",
     "text": [
      "256 GB \n",
      "<class 'str'>\n"
     ]
    }
   ],
   "source": [
    "print(laptop['Storage'][0])\n",
    "\n",
    "print(type(laptop['Storage'][0]))\n"
   ]
  },
  {
   "cell_type": "code",
   "execution_count": 46,
   "id": "6837b6cf",
   "metadata": {},
   "outputs": [
    {
     "name": "stdout",
     "output_type": "stream",
     "text": [
      "256 GB \n",
      "<class 'str'>\n"
     ]
    }
   ],
   "source": [
    "print(''.join(laptop['Storage'][0]))\n",
    "print(type(''.join(laptop['Storage'][0])))"
   ]
  },
  {
   "cell_type": "code",
   "execution_count": 47,
   "id": "5337d433",
   "metadata": {},
   "outputs": [],
   "source": [
    "laptop.Processor=laptop.Processor.apply(lambda x : ''.join(x))\n",
    "laptop.Brand = laptop.Brand.apply(lambda x : ''.join(x))"
   ]
  },
  {
   "cell_type": "code",
   "execution_count": 48,
   "id": "68d23bbd",
   "metadata": {},
   "outputs": [
    {
     "data": {
      "text/html": [
       "<div>\n",
       "<style scoped>\n",
       "    .dataframe tbody tr th:only-of-type {\n",
       "        vertical-align: middle;\n",
       "    }\n",
       "\n",
       "    .dataframe tbody tr th {\n",
       "        vertical-align: top;\n",
       "    }\n",
       "\n",
       "    .dataframe thead th {\n",
       "        text-align: right;\n",
       "    }\n",
       "</style>\n",
       "<table border=\"1\" class=\"dataframe\">\n",
       "  <thead>\n",
       "    <tr style=\"text-align: right;\">\n",
       "      <th></th>\n",
       "      <th>Product</th>\n",
       "      <th>Rating</th>\n",
       "      <th>MRP</th>\n",
       "      <th>Feature</th>\n",
       "      <th>Brand</th>\n",
       "      <th>Processor</th>\n",
       "      <th>RAM Size</th>\n",
       "      <th>RAM Type</th>\n",
       "      <th>Operating System</th>\n",
       "      <th>Storage</th>\n",
       "      <th>Storage Type</th>\n",
       "      <th>Display</th>\n",
       "    </tr>\n",
       "  </thead>\n",
       "  <tbody>\n",
       "    <tr>\n",
       "      <th>0</th>\n",
       "      <td>Lenovo IdeaPad 3 Core i3 11th Gen - (8 GB/256 ...</td>\n",
       "      <td>4.2</td>\n",
       "      <td>₹36,990</td>\n",
       "      <td>Intel Core i3 Processor (11th Gen)8 GB DDR4 RA...</td>\n",
       "      <td>Lenovo</td>\n",
       "      <td>Intel Core i3 Processor</td>\n",
       "      <td>8</td>\n",
       "      <td>DDR4</td>\n",
       "      <td>64 bit Windows 11</td>\n",
       "      <td>256 GB</td>\n",
       "      <td>SSD</td>\n",
       "      <td>35.56</td>\n",
       "    </tr>\n",
       "    <tr>\n",
       "      <th>1</th>\n",
       "      <td>Lenovo IdeaPad 3 Core i3 11th Gen - (8 GB/512 ...</td>\n",
       "      <td>4.2</td>\n",
       "      <td>₹39,990</td>\n",
       "      <td>Intel Core i3 Processor (11th Gen)8 GB DDR4 RA...</td>\n",
       "      <td>Lenovo</td>\n",
       "      <td>Intel Core i3 Processor</td>\n",
       "      <td>8</td>\n",
       "      <td>DDR4</td>\n",
       "      <td>64 bit Windows 11</td>\n",
       "      <td>512 GB</td>\n",
       "      <td>SSD</td>\n",
       "      <td>39.62</td>\n",
       "    </tr>\n",
       "    <tr>\n",
       "      <th>2</th>\n",
       "      <td>ASUS VivoBook 15 (2022) Core i3 10th Gen - (8 ...</td>\n",
       "      <td>4.3</td>\n",
       "      <td>₹32,990</td>\n",
       "      <td>Intel Core i3 Processor (10th Gen)8 GB DDR4 RA...</td>\n",
       "      <td>ASUS</td>\n",
       "      <td>Intel Core i3 Processor</td>\n",
       "      <td>8</td>\n",
       "      <td>DDR4</td>\n",
       "      <td>64 bit Windows 11</td>\n",
       "      <td>512 GB</td>\n",
       "      <td>SSD</td>\n",
       "      <td>39.62</td>\n",
       "    </tr>\n",
       "    <tr>\n",
       "      <th>3</th>\n",
       "      <td>HP Pavilion Ryzen 5 Hexa Core AMD R5-5600H - (...</td>\n",
       "      <td>4.4</td>\n",
       "      <td>₹49,990</td>\n",
       "      <td>AMD Ryzen 5 Hexa Core Processor8 GB DDR4 RAM64...</td>\n",
       "      <td>HP</td>\n",
       "      <td>AMD Ryzen 5 Hexa Core Processor</td>\n",
       "      <td>8</td>\n",
       "      <td>DDR4</td>\n",
       "      <td>64 bit Windows 10</td>\n",
       "      <td>512 GB</td>\n",
       "      <td>SSD</td>\n",
       "      <td>39.62</td>\n",
       "    </tr>\n",
       "    <tr>\n",
       "      <th>4</th>\n",
       "      <td>ASUS TUF Gaming F15 Core i5 10th Gen - (8 GB/5...</td>\n",
       "      <td>4.4</td>\n",
       "      <td>₹49,990</td>\n",
       "      <td>Intel Core i5 Processor (10th Gen)8 GB DDR4 RA...</td>\n",
       "      <td>ASUS</td>\n",
       "      <td>Intel Core i5 Processor</td>\n",
       "      <td>8</td>\n",
       "      <td>DDR4</td>\n",
       "      <td>Windows 11</td>\n",
       "      <td>512 GB</td>\n",
       "      <td>SSD</td>\n",
       "      <td>39.62</td>\n",
       "    </tr>\n",
       "  </tbody>\n",
       "</table>\n",
       "</div>"
      ],
      "text/plain": [
       "                                             Product  Rating      MRP  \\\n",
       "0  Lenovo IdeaPad 3 Core i3 11th Gen - (8 GB/256 ...     4.2  ₹36,990   \n",
       "1  Lenovo IdeaPad 3 Core i3 11th Gen - (8 GB/512 ...     4.2  ₹39,990   \n",
       "2  ASUS VivoBook 15 (2022) Core i3 10th Gen - (8 ...     4.3  ₹32,990   \n",
       "3  HP Pavilion Ryzen 5 Hexa Core AMD R5-5600H - (...     4.4  ₹49,990   \n",
       "4  ASUS TUF Gaming F15 Core i5 10th Gen - (8 GB/5...     4.4  ₹49,990   \n",
       "\n",
       "                                             Feature   Brand  \\\n",
       "0  Intel Core i3 Processor (11th Gen)8 GB DDR4 RA...  Lenovo   \n",
       "1  Intel Core i3 Processor (11th Gen)8 GB DDR4 RA...  Lenovo   \n",
       "2  Intel Core i3 Processor (10th Gen)8 GB DDR4 RA...    ASUS   \n",
       "3  AMD Ryzen 5 Hexa Core Processor8 GB DDR4 RAM64...      HP   \n",
       "4  Intel Core i5 Processor (10th Gen)8 GB DDR4 RA...    ASUS   \n",
       "\n",
       "                         Processor RAM Size RAM Type    Operating System  \\\n",
       "0          Intel Core i3 Processor      8       DDR4  64 bit Windows 11    \n",
       "1          Intel Core i3 Processor      8       DDR4  64 bit Windows 11    \n",
       "2          Intel Core i3 Processor      8       DDR4  64 bit Windows 11    \n",
       "3  AMD Ryzen 5 Hexa Core Processor      8       DDR4  64 bit Windows 10    \n",
       "4          Intel Core i5 Processor      8       DDR4         Windows 11    \n",
       "\n",
       "   Storage Storage Type  Display  \n",
       "0  256 GB           SSD    35.56  \n",
       "1  512 GB           SSD    39.62  \n",
       "2  512 GB           SSD    39.62  \n",
       "3  512 GB           SSD    39.62  \n",
       "4  512 GB           SSD    39.62  "
      ]
     },
     "execution_count": 48,
     "metadata": {},
     "output_type": "execute_result"
    }
   ],
   "source": [
    "laptop.head()"
   ]
  },
  {
   "cell_type": "code",
   "execution_count": 49,
   "id": "0ae4c350",
   "metadata": {},
   "outputs": [
    {
     "data": {
      "text/plain": [
       "Intel Core i5 Processor                               157\n",
       "Intel Core i3 Processor                               133\n",
       "AMD Ryzen 9 Octa Core Processor                        87\n",
       "AMD Ryzen 7 Octa Core Processor                        80\n",
       "Intel Core i7 Processor                                56\n",
       "AMD Ryzen 5 Hexa Core Processor                        52\n",
       "AMD Ryzen 3 Dual Core Processor                        43\n",
       "AMD Ryzen 5 Quad Core Processor                        37\n",
       "Intel Celeron Dual Core Processor                      20\n",
       "Intel Core i9 Processor                                11\n",
       "Apple M1 Processor                                      7\n",
       "Apple M1 Pro Processor                                  6\n",
       "Apple M2 Processor                                      5\n",
       "AMD Ryzen 3 Quad Core Processor                         4\n",
       "Intel Celeron Quad Core Processor                       3\n",
       "Intel Pentium Silver Processor                          3\n",
       "Intel Pentium Quad Core Processor                       3\n",
       "Intel Evo Core i5 ProcessorIntel Core i5 Processor      2\n",
       "AMD Athlon Dual Core Processor                          2\n",
       "Intel OptaneIntel Core i3 Processor                     2\n",
       "AMD Ryzen 5 Dual Core Processor                         2\n",
       "AMD Ryzen 7 Quad Core Processor                         1\n",
       "Qualcomm Snapdragon 7c Gen 2 Processor                  1\n",
       "Apple M1 Max Processor                                  1\n",
       "AMD Dual Core Processor                                 1\n",
       "AMD Ryzen 3 Hexa Core Processor                         1\n",
       "Name: Processor, dtype: int64"
      ]
     },
     "execution_count": 49,
     "metadata": {},
     "output_type": "execute_result"
    }
   ],
   "source": [
    "laptop.Processor.value_counts()"
   ]
  },
  {
   "cell_type": "code",
   "execution_count": 50,
   "id": "4373067c",
   "metadata": {},
   "outputs": [],
   "source": [
    "laptop.Processor = laptop.Processor.apply(lambda x : x.replace('Processor',''))"
   ]
  },
  {
   "cell_type": "code",
   "execution_count": 51,
   "id": "4579b72d",
   "metadata": {},
   "outputs": [],
   "source": [
    "laptop.MRP = laptop.MRP.apply(lambda x : x.replace('₹', '').replace(',', ''))"
   ]
  },
  {
   "cell_type": "code",
   "execution_count": 52,
   "id": "f66f418e",
   "metadata": {},
   "outputs": [],
   "source": [
    "laptop['MRP']=laptop['MRP'].apply(lambda x:float(x))\n",
    "laptop['MRP']=laptop['MRP'].apply(lambda x:int(x))"
   ]
  },
  {
   "cell_type": "code",
   "execution_count": 53,
   "id": "2daf6aa3",
   "metadata": {},
   "outputs": [],
   "source": [
    "laptop['RAM Size']=laptop['RAM Size'].apply(lambda x:float(x))\n",
    "laptop['RAM Size']=laptop['RAM Size'].apply(lambda x:int(x))"
   ]
  },
  {
   "cell_type": "code",
   "execution_count": 54,
   "id": "113695f1",
   "metadata": {},
   "outputs": [
    {
     "data": {
      "text/html": [
       "<div>\n",
       "<style scoped>\n",
       "    .dataframe tbody tr th:only-of-type {\n",
       "        vertical-align: middle;\n",
       "    }\n",
       "\n",
       "    .dataframe tbody tr th {\n",
       "        vertical-align: top;\n",
       "    }\n",
       "\n",
       "    .dataframe thead th {\n",
       "        text-align: right;\n",
       "    }\n",
       "</style>\n",
       "<table border=\"1\" class=\"dataframe\">\n",
       "  <thead>\n",
       "    <tr style=\"text-align: right;\">\n",
       "      <th></th>\n",
       "      <th>Product</th>\n",
       "      <th>Rating</th>\n",
       "      <th>MRP</th>\n",
       "      <th>Feature</th>\n",
       "      <th>Brand</th>\n",
       "      <th>Processor</th>\n",
       "      <th>RAM Size</th>\n",
       "      <th>RAM Type</th>\n",
       "      <th>Operating System</th>\n",
       "      <th>Storage</th>\n",
       "      <th>Storage Type</th>\n",
       "      <th>Display</th>\n",
       "    </tr>\n",
       "  </thead>\n",
       "  <tbody>\n",
       "    <tr>\n",
       "      <th>0</th>\n",
       "      <td>Lenovo IdeaPad 3 Core i3 11th Gen - (8 GB/256 ...</td>\n",
       "      <td>4.2</td>\n",
       "      <td>36990</td>\n",
       "      <td>Intel Core i3 Processor (11th Gen)8 GB DDR4 RA...</td>\n",
       "      <td>Lenovo</td>\n",
       "      <td>Intel Core i3</td>\n",
       "      <td>8</td>\n",
       "      <td>DDR4</td>\n",
       "      <td>64 bit Windows 11</td>\n",
       "      <td>256 GB</td>\n",
       "      <td>SSD</td>\n",
       "      <td>35.56</td>\n",
       "    </tr>\n",
       "    <tr>\n",
       "      <th>1</th>\n",
       "      <td>Lenovo IdeaPad 3 Core i3 11th Gen - (8 GB/512 ...</td>\n",
       "      <td>4.2</td>\n",
       "      <td>39990</td>\n",
       "      <td>Intel Core i3 Processor (11th Gen)8 GB DDR4 RA...</td>\n",
       "      <td>Lenovo</td>\n",
       "      <td>Intel Core i3</td>\n",
       "      <td>8</td>\n",
       "      <td>DDR4</td>\n",
       "      <td>64 bit Windows 11</td>\n",
       "      <td>512 GB</td>\n",
       "      <td>SSD</td>\n",
       "      <td>39.62</td>\n",
       "    </tr>\n",
       "    <tr>\n",
       "      <th>2</th>\n",
       "      <td>ASUS VivoBook 15 (2022) Core i3 10th Gen - (8 ...</td>\n",
       "      <td>4.3</td>\n",
       "      <td>32990</td>\n",
       "      <td>Intel Core i3 Processor (10th Gen)8 GB DDR4 RA...</td>\n",
       "      <td>ASUS</td>\n",
       "      <td>Intel Core i3</td>\n",
       "      <td>8</td>\n",
       "      <td>DDR4</td>\n",
       "      <td>64 bit Windows 11</td>\n",
       "      <td>512 GB</td>\n",
       "      <td>SSD</td>\n",
       "      <td>39.62</td>\n",
       "    </tr>\n",
       "    <tr>\n",
       "      <th>3</th>\n",
       "      <td>HP Pavilion Ryzen 5 Hexa Core AMD R5-5600H - (...</td>\n",
       "      <td>4.4</td>\n",
       "      <td>49990</td>\n",
       "      <td>AMD Ryzen 5 Hexa Core Processor8 GB DDR4 RAM64...</td>\n",
       "      <td>HP</td>\n",
       "      <td>AMD Ryzen 5 Hexa Core</td>\n",
       "      <td>8</td>\n",
       "      <td>DDR4</td>\n",
       "      <td>64 bit Windows 10</td>\n",
       "      <td>512 GB</td>\n",
       "      <td>SSD</td>\n",
       "      <td>39.62</td>\n",
       "    </tr>\n",
       "    <tr>\n",
       "      <th>4</th>\n",
       "      <td>ASUS TUF Gaming F15 Core i5 10th Gen - (8 GB/5...</td>\n",
       "      <td>4.4</td>\n",
       "      <td>49990</td>\n",
       "      <td>Intel Core i5 Processor (10th Gen)8 GB DDR4 RA...</td>\n",
       "      <td>ASUS</td>\n",
       "      <td>Intel Core i5</td>\n",
       "      <td>8</td>\n",
       "      <td>DDR4</td>\n",
       "      <td>Windows 11</td>\n",
       "      <td>512 GB</td>\n",
       "      <td>SSD</td>\n",
       "      <td>39.62</td>\n",
       "    </tr>\n",
       "  </tbody>\n",
       "</table>\n",
       "</div>"
      ],
      "text/plain": [
       "                                             Product  Rating    MRP  \\\n",
       "0  Lenovo IdeaPad 3 Core i3 11th Gen - (8 GB/256 ...     4.2  36990   \n",
       "1  Lenovo IdeaPad 3 Core i3 11th Gen - (8 GB/512 ...     4.2  39990   \n",
       "2  ASUS VivoBook 15 (2022) Core i3 10th Gen - (8 ...     4.3  32990   \n",
       "3  HP Pavilion Ryzen 5 Hexa Core AMD R5-5600H - (...     4.4  49990   \n",
       "4  ASUS TUF Gaming F15 Core i5 10th Gen - (8 GB/5...     4.4  49990   \n",
       "\n",
       "                                             Feature   Brand  \\\n",
       "0  Intel Core i3 Processor (11th Gen)8 GB DDR4 RA...  Lenovo   \n",
       "1  Intel Core i3 Processor (11th Gen)8 GB DDR4 RA...  Lenovo   \n",
       "2  Intel Core i3 Processor (10th Gen)8 GB DDR4 RA...    ASUS   \n",
       "3  AMD Ryzen 5 Hexa Core Processor8 GB DDR4 RAM64...      HP   \n",
       "4  Intel Core i5 Processor (10th Gen)8 GB DDR4 RA...    ASUS   \n",
       "\n",
       "                Processor  RAM Size RAM Type    Operating System  Storage  \\\n",
       "0          Intel Core i3          8     DDR4  64 bit Windows 11   256 GB    \n",
       "1          Intel Core i3          8     DDR4  64 bit Windows 11   512 GB    \n",
       "2          Intel Core i3          8     DDR4  64 bit Windows 11   512 GB    \n",
       "3  AMD Ryzen 5 Hexa Core          8     DDR4  64 bit Windows 10   512 GB    \n",
       "4          Intel Core i5          8     DDR4         Windows 11   512 GB    \n",
       "\n",
       "  Storage Type  Display  \n",
       "0          SSD    35.56  \n",
       "1          SSD    39.62  \n",
       "2          SSD    39.62  \n",
       "3          SSD    39.62  \n",
       "4          SSD    39.62  "
      ]
     },
     "execution_count": 54,
     "metadata": {},
     "output_type": "execute_result"
    }
   ],
   "source": [
    "laptop.head()"
   ]
  },
  {
   "cell_type": "code",
   "execution_count": 55,
   "id": "2ec7d345",
   "metadata": {},
   "outputs": [
    {
     "name": "stdout",
     "output_type": "stream",
     "text": [
      "<class 'pandas.core.frame.DataFrame'>\n",
      "RangeIndex: 720 entries, 0 to 719\n",
      "Data columns (total 12 columns):\n",
      " #   Column            Non-Null Count  Dtype  \n",
      "---  ------            --------------  -----  \n",
      " 0   Product           720 non-null    object \n",
      " 1   Rating            581 non-null    float64\n",
      " 2   MRP               720 non-null    int64  \n",
      " 3   Feature           720 non-null    object \n",
      " 4   Brand             720 non-null    object \n",
      " 5   Processor         720 non-null    object \n",
      " 6   RAM Size          720 non-null    int64  \n",
      " 7   RAM Type          720 non-null    object \n",
      " 8   Operating System  720 non-null    object \n",
      " 9   Storage           720 non-null    object \n",
      " 10  Storage Type      720 non-null    object \n",
      " 11  Display           714 non-null    float64\n",
      "dtypes: float64(2), int64(2), object(8)\n",
      "memory usage: 67.6+ KB\n"
     ]
    }
   ],
   "source": [
    "laptop.info()"
   ]
  },
  {
   "cell_type": "code",
   "execution_count": 56,
   "id": "4a426d8a",
   "metadata": {},
   "outputs": [
    {
     "data": {
      "text/plain": [
       "64 bit Windows 11     404\n",
       "Windows 11            156\n",
       "64 bit Windows 10     117\n",
       "Mac OS                 19\n",
       "Windows 10             12\n",
       "Chrome                  6\n",
       "DOS                     2\n",
       "64 bit DOS              2\n",
       "32 bit Windows 11       1\n",
       "64 bit Chrome           1\n",
       "Name: Operating System, dtype: int64"
      ]
     },
     "execution_count": 56,
     "metadata": {},
     "output_type": "execute_result"
    }
   ],
   "source": [
    "laptop['Operating System'].value_counts()"
   ]
  },
  {
   "cell_type": "code",
   "execution_count": 57,
   "id": "94138e11",
   "metadata": {},
   "outputs": [],
   "source": [
    "laptop[\"Operating System\"].replace(\"Windows 11 \",\"64 bit Windows 11\",inplace=True)\n",
    "laptop[\"Operating System\"].replace(\"Windows 10 \",\"64 bit Windows 10\",inplace=True)\n",
    "laptop[\"Operating System\"].replace(\"DOS \",\"64 bit DOS\",inplace=True)\n",
    "laptop[\"Operating System\"].replace(\"Chrome \",\"64 bit Chrome\",inplace=True)"
   ]
  },
  {
   "cell_type": "code",
   "execution_count": 58,
   "id": "9350169d",
   "metadata": {},
   "outputs": [
    {
     "data": {
      "text/plain": [
       "64 bit Windows 11     404\n",
       "64 bit Windows 11     156\n",
       "64 bit Windows 10     117\n",
       "Mac OS                 19\n",
       "64 bit Windows 10      12\n",
       "64 bit Chrome           6\n",
       "64 bit DOS              2\n",
       "64 bit DOS              2\n",
       "32 bit Windows 11       1\n",
       "64 bit Chrome           1\n",
       "Name: Operating System, dtype: int64"
      ]
     },
     "execution_count": 58,
     "metadata": {},
     "output_type": "execute_result"
    }
   ],
   "source": [
    "laptop[\"Operating System\"].value_counts()"
   ]
  },
  {
   "cell_type": "code",
   "execution_count": 59,
   "id": "047d140a",
   "metadata": {},
   "outputs": [
    {
     "data": {
      "text/plain": [
       "0"
      ]
     },
     "execution_count": 59,
     "metadata": {},
     "output_type": "execute_result"
    }
   ],
   "source": [
    "laptop.Processor.isnull().sum()"
   ]
  },
  {
   "cell_type": "code",
   "execution_count": 60,
   "id": "ccffc7c9",
   "metadata": {},
   "outputs": [
    {
     "data": {
      "text/plain": [
       "512 GB                 375\n",
       "1 TB                   193\n",
       "256 GB                  98\n",
       "1 TB 256 GB             26\n",
       "                        10\n",
       "2 TB                     7\n",
       "128 GB                   6\n",
       "1 TB 512 GB              2\n",
       "128 GB 1 TB 128 GB       2\n",
       "256 GB 256 GB            1\n",
       "Name: Storage, dtype: int64"
      ]
     },
     "execution_count": 60,
     "metadata": {},
     "output_type": "execute_result"
    }
   ],
   "source": [
    "laptop.Storage.value_counts()"
   ]
  },
  {
   "cell_type": "code",
   "execution_count": 61,
   "id": "771519be",
   "metadata": {},
   "outputs": [
    {
     "data": {
      "text/plain": [
       "0"
      ]
     },
     "execution_count": 61,
     "metadata": {},
     "output_type": "execute_result"
    }
   ],
   "source": [
    "laptop.Storage.isnull().sum()"
   ]
  },
  {
   "cell_type": "code",
   "execution_count": 62,
   "id": "a555bd36",
   "metadata": {},
   "outputs": [],
   "source": [
    "laptop.replace(\"\",np.nan,inplace=True)"
   ]
  },
  {
   "cell_type": "code",
   "execution_count": 63,
   "id": "3732db69",
   "metadata": {},
   "outputs": [],
   "source": [
    "laptop.replace(\"np.nan\",np.nan,inplace=True)"
   ]
  },
  {
   "cell_type": "code",
   "execution_count": 64,
   "id": "2e22f891",
   "metadata": {},
   "outputs": [
    {
     "data": {
      "text/plain": [
       "512 GB                 375\n",
       "1 TB                   193\n",
       "256 GB                  98\n",
       "1 TB 256 GB             26\n",
       "2 TB                     7\n",
       "128 GB                   6\n",
       "1 TB 512 GB              2\n",
       "128 GB 1 TB 128 GB       2\n",
       "256 GB 256 GB            1\n",
       "Name: Storage, dtype: int64"
      ]
     },
     "execution_count": 64,
     "metadata": {},
     "output_type": "execute_result"
    }
   ],
   "source": [
    "laptop.Storage.value_counts()"
   ]
  },
  {
   "cell_type": "code",
   "execution_count": 65,
   "id": "1ed8eb91",
   "metadata": {},
   "outputs": [
    {
     "data": {
      "text/plain": [
       "Product               0\n",
       "Rating              139\n",
       "MRP                   0\n",
       "Feature               0\n",
       "Brand                 0\n",
       "Processor             0\n",
       "RAM Size              0\n",
       "RAM Type              0\n",
       "Operating System      0\n",
       "Storage              10\n",
       "Storage Type         10\n",
       "Display               6\n",
       "dtype: int64"
      ]
     },
     "execution_count": 65,
     "metadata": {},
     "output_type": "execute_result"
    }
   ],
   "source": [
    "laptop.isnull().sum()"
   ]
  },
  {
   "cell_type": "code",
   "execution_count": 66,
   "id": "87d6aaca",
   "metadata": {},
   "outputs": [
    {
     "data": {
      "text/html": [
       "<div>\n",
       "<style scoped>\n",
       "    .dataframe tbody tr th:only-of-type {\n",
       "        vertical-align: middle;\n",
       "    }\n",
       "\n",
       "    .dataframe tbody tr th {\n",
       "        vertical-align: top;\n",
       "    }\n",
       "\n",
       "    .dataframe thead th {\n",
       "        text-align: right;\n",
       "    }\n",
       "</style>\n",
       "<table border=\"1\" class=\"dataframe\">\n",
       "  <thead>\n",
       "    <tr style=\"text-align: right;\">\n",
       "      <th></th>\n",
       "      <th>Product</th>\n",
       "      <th>Rating</th>\n",
       "      <th>MRP</th>\n",
       "      <th>Feature</th>\n",
       "      <th>Brand</th>\n",
       "      <th>Processor</th>\n",
       "      <th>RAM Size</th>\n",
       "      <th>RAM Type</th>\n",
       "      <th>Operating System</th>\n",
       "      <th>Storage</th>\n",
       "      <th>Storage Type</th>\n",
       "      <th>Display</th>\n",
       "    </tr>\n",
       "  </thead>\n",
       "  <tbody>\n",
       "    <tr>\n",
       "      <th>83</th>\n",
       "      <td>SAMSUNG Galaxy Book Go Snapdragon 7c Gen 2 - (...</td>\n",
       "      <td>4.4</td>\n",
       "      <td>32990</td>\n",
       "      <td>Qualcomm Snapdragon 7c Gen 2 Processor4 GB LPD...</td>\n",
       "      <td>SAMSUNG</td>\n",
       "      <td>Qualcomm Snapdragon 7c Gen 2</td>\n",
       "      <td>4</td>\n",
       "      <td>LPDDR4X</td>\n",
       "      <td>64 bit Windows 11</td>\n",
       "      <td>NaN</td>\n",
       "      <td>NaN</td>\n",
       "      <td>35.56</td>\n",
       "    </tr>\n",
       "    <tr>\n",
       "      <th>89</th>\n",
       "      <td>Lenovo IdeaPad 3 CB Celeron Dual Core - (4 GB/...</td>\n",
       "      <td>NaN</td>\n",
       "      <td>19490</td>\n",
       "      <td>Intel Celeron Dual Core Processor4 GB DDR4 RAM...</td>\n",
       "      <td>Lenovo</td>\n",
       "      <td>Intel Celeron Dual Core</td>\n",
       "      <td>4</td>\n",
       "      <td>DDR4</td>\n",
       "      <td>64 bit Chrome</td>\n",
       "      <td>NaN</td>\n",
       "      <td>NaN</td>\n",
       "      <td>35.56</td>\n",
       "    </tr>\n",
       "    <tr>\n",
       "      <th>96</th>\n",
       "      <td>Lenovo IdeaPad 3 CB Celeron Dual Core - (4 GB/...</td>\n",
       "      <td>NaN</td>\n",
       "      <td>19490</td>\n",
       "      <td>Intel Celeron Dual Core Processor4 GB DDR4 RAM...</td>\n",
       "      <td>Lenovo</td>\n",
       "      <td>Intel Celeron Dual Core</td>\n",
       "      <td>4</td>\n",
       "      <td>DDR4</td>\n",
       "      <td>64 bit Chrome</td>\n",
       "      <td>NaN</td>\n",
       "      <td>NaN</td>\n",
       "      <td>35.56</td>\n",
       "    </tr>\n",
       "    <tr>\n",
       "      <th>345</th>\n",
       "      <td>ASUS Chromebook Flip Touch Celeron Dual Core -...</td>\n",
       "      <td>4.0</td>\n",
       "      <td>14990</td>\n",
       "      <td>Intel Celeron Dual Core Processor4 GB LPDDR4 R...</td>\n",
       "      <td>ASUS</td>\n",
       "      <td>Intel Celeron Dual Core</td>\n",
       "      <td>4</td>\n",
       "      <td>LPDDR4</td>\n",
       "      <td>64 bit Chrome</td>\n",
       "      <td>NaN</td>\n",
       "      <td>NaN</td>\n",
       "      <td>29.46</td>\n",
       "    </tr>\n",
       "    <tr>\n",
       "      <th>509</th>\n",
       "      <td>ASUS Chromebook Flip Touch Celeron Dual Core -...</td>\n",
       "      <td>4.0</td>\n",
       "      <td>24390</td>\n",
       "      <td>Intel Celeron Dual Core Processor4 GB LPDDR4 R...</td>\n",
       "      <td>ASUS</td>\n",
       "      <td>Intel Celeron Dual Core</td>\n",
       "      <td>4</td>\n",
       "      <td>LPDDR4</td>\n",
       "      <td>64 bit Chrome</td>\n",
       "      <td>NaN</td>\n",
       "      <td>NaN</td>\n",
       "      <td>39.62</td>\n",
       "    </tr>\n",
       "    <tr>\n",
       "      <th>544</th>\n",
       "      <td>ASUS EeeBook 12 Celeron Dual Core - (4 GB/64 G...</td>\n",
       "      <td>4.5</td>\n",
       "      <td>21990</td>\n",
       "      <td>Intel Celeron Dual Core Processor4 GB DDR4 RAM...</td>\n",
       "      <td>ASUS</td>\n",
       "      <td>Intel Celeron Dual Core</td>\n",
       "      <td>4</td>\n",
       "      <td>DDR4</td>\n",
       "      <td>64 bit Windows 11</td>\n",
       "      <td>NaN</td>\n",
       "      <td>NaN</td>\n",
       "      <td>29.46</td>\n",
       "    </tr>\n",
       "    <tr>\n",
       "      <th>559</th>\n",
       "      <td>ASUS EeeBook 12 Celeron Dual Core - (4 GB/64 G...</td>\n",
       "      <td>4.0</td>\n",
       "      <td>19990</td>\n",
       "      <td>Intel Celeron Dual Core Processor4 GB DDR4 RAM...</td>\n",
       "      <td>ASUS</td>\n",
       "      <td>Intel Celeron Dual Core</td>\n",
       "      <td>4</td>\n",
       "      <td>DDR4</td>\n",
       "      <td>64 bit Windows 11</td>\n",
       "      <td>NaN</td>\n",
       "      <td>NaN</td>\n",
       "      <td>29.46</td>\n",
       "    </tr>\n",
       "    <tr>\n",
       "      <th>632</th>\n",
       "      <td>Lenovo IdeaPad Flex 3 Chromebook Celeron Dual ...</td>\n",
       "      <td>3.6</td>\n",
       "      <td>28490</td>\n",
       "      <td>Intel Celeron Dual Core Processor4 GB LPDDR4X ...</td>\n",
       "      <td>Lenovo</td>\n",
       "      <td>Intel Celeron Dual Core</td>\n",
       "      <td>4</td>\n",
       "      <td>LPDDR4X</td>\n",
       "      <td>64 bit Chrome</td>\n",
       "      <td>NaN</td>\n",
       "      <td>NaN</td>\n",
       "      <td>29.46</td>\n",
       "    </tr>\n",
       "    <tr>\n",
       "      <th>695</th>\n",
       "      <td>ASUS Chromebook Celeron Dual Core - (4 GB/64 G...</td>\n",
       "      <td>4.1</td>\n",
       "      <td>25990</td>\n",
       "      <td>Intel Celeron Dual Core Processor4 GB LPDDR4 R...</td>\n",
       "      <td>ASUS</td>\n",
       "      <td>Intel Celeron Dual Core</td>\n",
       "      <td>4</td>\n",
       "      <td>LPDDR4</td>\n",
       "      <td>64 bit Chrome</td>\n",
       "      <td>NaN</td>\n",
       "      <td>NaN</td>\n",
       "      <td>35.56</td>\n",
       "    </tr>\n",
       "    <tr>\n",
       "      <th>715</th>\n",
       "      <td>ASUS Chromebook Flip Touch Celeron Dual Core -...</td>\n",
       "      <td>4.0</td>\n",
       "      <td>23490</td>\n",
       "      <td>Intel Celeron Dual Core Processor4 GB LPDDR4 R...</td>\n",
       "      <td>ASUS</td>\n",
       "      <td>Intel Celeron Dual Core</td>\n",
       "      <td>4</td>\n",
       "      <td>LPDDR4</td>\n",
       "      <td>64 bit Chrome</td>\n",
       "      <td>NaN</td>\n",
       "      <td>NaN</td>\n",
       "      <td>29.46</td>\n",
       "    </tr>\n",
       "  </tbody>\n",
       "</table>\n",
       "</div>"
      ],
      "text/plain": [
       "                                               Product  Rating    MRP  \\\n",
       "83   SAMSUNG Galaxy Book Go Snapdragon 7c Gen 2 - (...     4.4  32990   \n",
       "89   Lenovo IdeaPad 3 CB Celeron Dual Core - (4 GB/...     NaN  19490   \n",
       "96   Lenovo IdeaPad 3 CB Celeron Dual Core - (4 GB/...     NaN  19490   \n",
       "345  ASUS Chromebook Flip Touch Celeron Dual Core -...     4.0  14990   \n",
       "509  ASUS Chromebook Flip Touch Celeron Dual Core -...     4.0  24390   \n",
       "544  ASUS EeeBook 12 Celeron Dual Core - (4 GB/64 G...     4.5  21990   \n",
       "559  ASUS EeeBook 12 Celeron Dual Core - (4 GB/64 G...     4.0  19990   \n",
       "632  Lenovo IdeaPad Flex 3 Chromebook Celeron Dual ...     3.6  28490   \n",
       "695  ASUS Chromebook Celeron Dual Core - (4 GB/64 G...     4.1  25990   \n",
       "715  ASUS Chromebook Flip Touch Celeron Dual Core -...     4.0  23490   \n",
       "\n",
       "                                               Feature    Brand  \\\n",
       "83   Qualcomm Snapdragon 7c Gen 2 Processor4 GB LPD...  SAMSUNG   \n",
       "89   Intel Celeron Dual Core Processor4 GB DDR4 RAM...   Lenovo   \n",
       "96   Intel Celeron Dual Core Processor4 GB DDR4 RAM...   Lenovo   \n",
       "345  Intel Celeron Dual Core Processor4 GB LPDDR4 R...     ASUS   \n",
       "509  Intel Celeron Dual Core Processor4 GB LPDDR4 R...     ASUS   \n",
       "544  Intel Celeron Dual Core Processor4 GB DDR4 RAM...     ASUS   \n",
       "559  Intel Celeron Dual Core Processor4 GB DDR4 RAM...     ASUS   \n",
       "632  Intel Celeron Dual Core Processor4 GB LPDDR4X ...   Lenovo   \n",
       "695  Intel Celeron Dual Core Processor4 GB LPDDR4 R...     ASUS   \n",
       "715  Intel Celeron Dual Core Processor4 GB LPDDR4 R...     ASUS   \n",
       "\n",
       "                         Processor  RAM Size   RAM Type    Operating System  \\\n",
       "83   Qualcomm Snapdragon 7c Gen 2          4    LPDDR4X   64 bit Windows 11   \n",
       "89        Intel Celeron Dual Core          4       DDR4       64 bit Chrome   \n",
       "96        Intel Celeron Dual Core          4       DDR4       64 bit Chrome   \n",
       "345       Intel Celeron Dual Core          4     LPDDR4       64 bit Chrome   \n",
       "509       Intel Celeron Dual Core          4     LPDDR4       64 bit Chrome   \n",
       "544       Intel Celeron Dual Core          4       DDR4  64 bit Windows 11    \n",
       "559       Intel Celeron Dual Core          4       DDR4  64 bit Windows 11    \n",
       "632       Intel Celeron Dual Core          4    LPDDR4X      64 bit Chrome    \n",
       "695       Intel Celeron Dual Core          4     LPDDR4       64 bit Chrome   \n",
       "715       Intel Celeron Dual Core          4     LPDDR4       64 bit Chrome   \n",
       "\n",
       "    Storage Storage Type  Display  \n",
       "83      NaN          NaN    35.56  \n",
       "89      NaN          NaN    35.56  \n",
       "96      NaN          NaN    35.56  \n",
       "345     NaN          NaN    29.46  \n",
       "509     NaN          NaN    39.62  \n",
       "544     NaN          NaN    29.46  \n",
       "559     NaN          NaN    29.46  \n",
       "632     NaN          NaN    29.46  \n",
       "695     NaN          NaN    35.56  \n",
       "715     NaN          NaN    29.46  "
      ]
     },
     "execution_count": 66,
     "metadata": {},
     "output_type": "execute_result"
    }
   ],
   "source": [
    "laptop[laptop.Storage.isna()]"
   ]
  },
  {
   "cell_type": "code",
   "execution_count": 67,
   "id": "99e57994",
   "metadata": {},
   "outputs": [],
   "source": [
    "laptop.Storage.fillna(laptop.Storage.mode()[0],inplace=True)"
   ]
  },
  {
   "cell_type": "code",
   "execution_count": 68,
   "id": "7e2d1f4a",
   "metadata": {},
   "outputs": [
    {
     "data": {
      "text/plain": [
       "Product               0\n",
       "Rating              139\n",
       "MRP                   0\n",
       "Feature               0\n",
       "Brand                 0\n",
       "Processor             0\n",
       "RAM Size              0\n",
       "RAM Type              0\n",
       "Operating System      0\n",
       "Storage               0\n",
       "Storage Type         10\n",
       "Display               6\n",
       "dtype: int64"
      ]
     },
     "execution_count": 68,
     "metadata": {},
     "output_type": "execute_result"
    }
   ],
   "source": [
    "laptop.isnull().sum()"
   ]
  },
  {
   "cell_type": "code",
   "execution_count": 69,
   "id": "ea1f59b6",
   "metadata": {},
   "outputs": [
    {
     "data": {
      "text/html": [
       "<div>\n",
       "<style scoped>\n",
       "    .dataframe tbody tr th:only-of-type {\n",
       "        vertical-align: middle;\n",
       "    }\n",
       "\n",
       "    .dataframe tbody tr th {\n",
       "        vertical-align: top;\n",
       "    }\n",
       "\n",
       "    .dataframe thead th {\n",
       "        text-align: right;\n",
       "    }\n",
       "</style>\n",
       "<table border=\"1\" class=\"dataframe\">\n",
       "  <thead>\n",
       "    <tr style=\"text-align: right;\">\n",
       "      <th></th>\n",
       "      <th>Product</th>\n",
       "      <th>Rating</th>\n",
       "      <th>MRP</th>\n",
       "      <th>Feature</th>\n",
       "      <th>Brand</th>\n",
       "      <th>Processor</th>\n",
       "      <th>RAM Size</th>\n",
       "      <th>RAM Type</th>\n",
       "      <th>Operating System</th>\n",
       "      <th>Storage</th>\n",
       "      <th>Storage Type</th>\n",
       "      <th>Display</th>\n",
       "    </tr>\n",
       "  </thead>\n",
       "  <tbody>\n",
       "    <tr>\n",
       "      <th>142</th>\n",
       "      <td>DELL Vostro Ryzen 3 Dual Core R3-3250U - (8 GB...</td>\n",
       "      <td>3.8</td>\n",
       "      <td>33099</td>\n",
       "      <td>Processor: AMD Ryzen 3-3250U (2.60 GHz up to 3...</td>\n",
       "      <td>DELL</td>\n",
       "      <td>AMD Ryzen 3 Dual Core</td>\n",
       "      <td>8</td>\n",
       "      <td>DDR4</td>\n",
       "      <td>64 bit Windows 11</td>\n",
       "      <td>1 TB</td>\n",
       "      <td>HDD</td>\n",
       "      <td>NaN</td>\n",
       "    </tr>\n",
       "    <tr>\n",
       "      <th>349</th>\n",
       "      <td>DELL Vostro Core i5 11th Gen - (8 GB/512 GB SS...</td>\n",
       "      <td>3.9</td>\n",
       "      <td>63090</td>\n",
       "      <td>Processor: 11th Generation Intel Core i5-1135G...</td>\n",
       "      <td>DELL</td>\n",
       "      <td>Intel Core i5</td>\n",
       "      <td>8</td>\n",
       "      <td>DDR4</td>\n",
       "      <td>64 bit Windows 10</td>\n",
       "      <td>512 GB</td>\n",
       "      <td>SSD</td>\n",
       "      <td>NaN</td>\n",
       "    </tr>\n",
       "    <tr>\n",
       "      <th>378</th>\n",
       "      <td>Lenovo IdeaPad 3 Core i3 11th Gen - (8 GB/256 ...</td>\n",
       "      <td>NaN</td>\n",
       "      <td>37000</td>\n",
       "      <td>Intel Core i3 Processor (11th Gen)8 GB DDR4 RA...</td>\n",
       "      <td>Lenovo</td>\n",
       "      <td>Intel Core i3</td>\n",
       "      <td>8</td>\n",
       "      <td>DDR4</td>\n",
       "      <td>64 bit Windows 11</td>\n",
       "      <td>256 GB</td>\n",
       "      <td>SSD</td>\n",
       "      <td>NaN</td>\n",
       "    </tr>\n",
       "    <tr>\n",
       "      <th>384</th>\n",
       "      <td>Lenovo Core i3 11th Gen - (4 GB/256 GB SSD/Win...</td>\n",
       "      <td>4.3</td>\n",
       "      <td>38990</td>\n",
       "      <td>Intel Core i3 Processor (11th Gen)4 GB DDR4 RA...</td>\n",
       "      <td>Lenovo</td>\n",
       "      <td>Intel Core i3</td>\n",
       "      <td>4</td>\n",
       "      <td>DDR4</td>\n",
       "      <td>64 bit Windows 10</td>\n",
       "      <td>256 GB</td>\n",
       "      <td>SSD</td>\n",
       "      <td>NaN</td>\n",
       "    </tr>\n",
       "    <tr>\n",
       "      <th>598</th>\n",
       "      <td>DELL Core i3 11th Gen - (8 GB/1 TB HDD/256 GB ...</td>\n",
       "      <td>NaN</td>\n",
       "      <td>46900</td>\n",
       "      <td>Intel Core i3 Processor (11th Gen)8 GB DDR4 RA...</td>\n",
       "      <td>DELL</td>\n",
       "      <td>Intel Core i3</td>\n",
       "      <td>8</td>\n",
       "      <td>DDR4</td>\n",
       "      <td>64 bit Windows 11</td>\n",
       "      <td>1 TB 256 GB</td>\n",
       "      <td>HDD,SSD</td>\n",
       "      <td>NaN</td>\n",
       "    </tr>\n",
       "    <tr>\n",
       "      <th>618</th>\n",
       "      <td>DELL Inspiron Core i3 10th Gen - (4 GB/256 GB ...</td>\n",
       "      <td>4.4</td>\n",
       "      <td>39890</td>\n",
       "      <td>Intel Core i3 Processor (10th Gen)4 GB DDR4 RA...</td>\n",
       "      <td>DELL</td>\n",
       "      <td>Intel Core i3</td>\n",
       "      <td>4</td>\n",
       "      <td>DDR4</td>\n",
       "      <td>64 bit Windows 10</td>\n",
       "      <td>256 GB</td>\n",
       "      <td>SSD</td>\n",
       "      <td>NaN</td>\n",
       "    </tr>\n",
       "  </tbody>\n",
       "</table>\n",
       "</div>"
      ],
      "text/plain": [
       "                                               Product  Rating    MRP  \\\n",
       "142  DELL Vostro Ryzen 3 Dual Core R3-3250U - (8 GB...     3.8  33099   \n",
       "349  DELL Vostro Core i5 11th Gen - (8 GB/512 GB SS...     3.9  63090   \n",
       "378  Lenovo IdeaPad 3 Core i3 11th Gen - (8 GB/256 ...     NaN  37000   \n",
       "384  Lenovo Core i3 11th Gen - (4 GB/256 GB SSD/Win...     4.3  38990   \n",
       "598  DELL Core i3 11th Gen - (8 GB/1 TB HDD/256 GB ...     NaN  46900   \n",
       "618  DELL Inspiron Core i3 10th Gen - (4 GB/256 GB ...     4.4  39890   \n",
       "\n",
       "                                               Feature   Brand  \\\n",
       "142  Processor: AMD Ryzen 3-3250U (2.60 GHz up to 3...    DELL   \n",
       "349  Processor: 11th Generation Intel Core i5-1135G...    DELL   \n",
       "378  Intel Core i3 Processor (11th Gen)8 GB DDR4 RA...  Lenovo   \n",
       "384  Intel Core i3 Processor (11th Gen)4 GB DDR4 RA...  Lenovo   \n",
       "598  Intel Core i3 Processor (11th Gen)8 GB DDR4 RA...    DELL   \n",
       "618  Intel Core i3 Processor (10th Gen)4 GB DDR4 RA...    DELL   \n",
       "\n",
       "                  Processor  RAM Size RAM Type    Operating System  \\\n",
       "142  AMD Ryzen 3 Dual Core          8     DDR4  64 bit Windows 11    \n",
       "349          Intel Core i5          8     DDR4  64 bit Windows 10    \n",
       "378          Intel Core i3          8     DDR4   64 bit Windows 11   \n",
       "384          Intel Core i3          4     DDR4  64 bit Windows 10    \n",
       "598          Intel Core i3          8     DDR4   64 bit Windows 11   \n",
       "618          Intel Core i3          4     DDR4  64 bit Windows 10    \n",
       "\n",
       "          Storage Storage Type  Display  \n",
       "142         1 TB           HDD      NaN  \n",
       "349       512 GB           SSD      NaN  \n",
       "378       256 GB           SSD      NaN  \n",
       "384       256 GB           SSD      NaN  \n",
       "598  1 TB 256 GB       HDD,SSD      NaN  \n",
       "618       256 GB           SSD      NaN  "
      ]
     },
     "execution_count": 69,
     "metadata": {},
     "output_type": "execute_result"
    }
   ],
   "source": [
    "laptop[laptop['Display'].isna()]"
   ]
  },
  {
   "cell_type": "code",
   "execution_count": 70,
   "id": "99e36ccb",
   "metadata": {},
   "outputs": [
    {
     "data": {
      "text/plain": [
       "39.62"
      ]
     },
     "execution_count": 70,
     "metadata": {},
     "output_type": "execute_result"
    }
   ],
   "source": [
    "laptop['Display'].median()"
   ]
  },
  {
   "cell_type": "code",
   "execution_count": 71,
   "id": "d464abe7",
   "metadata": {},
   "outputs": [],
   "source": [
    "laptop['Display'].fillna(laptop['Display'].median(),inplace=True)"
   ]
  },
  {
   "cell_type": "code",
   "execution_count": 72,
   "id": "eca364df",
   "metadata": {},
   "outputs": [
    {
     "data": {
      "text/plain": [
       "Product               0\n",
       "Rating              139\n",
       "MRP                   0\n",
       "Feature               0\n",
       "Brand                 0\n",
       "Processor             0\n",
       "RAM Size              0\n",
       "RAM Type              0\n",
       "Operating System      0\n",
       "Storage               0\n",
       "Storage Type         10\n",
       "Display               0\n",
       "dtype: int64"
      ]
     },
     "execution_count": 72,
     "metadata": {},
     "output_type": "execute_result"
    }
   ],
   "source": [
    "laptop.isnull().sum()"
   ]
  },
  {
   "cell_type": "code",
   "execution_count": 73,
   "id": "575c8129",
   "metadata": {},
   "outputs": [],
   "source": [
    "laptop['Storage Type'].fillna(laptop['Storage Type'].mode()[0],inplace=True)"
   ]
  },
  {
   "cell_type": "code",
   "execution_count": 74,
   "id": "5f1b8e3d",
   "metadata": {},
   "outputs": [],
   "source": [
    "laptop.Rating.fillna(laptop.Rating.median(),inplace=True)"
   ]
  },
  {
   "cell_type": "code",
   "execution_count": 75,
   "id": "00a48439",
   "metadata": {},
   "outputs": [
    {
     "data": {
      "text/plain": [
       "Product             0\n",
       "Rating              0\n",
       "MRP                 0\n",
       "Feature             0\n",
       "Brand               0\n",
       "Processor           0\n",
       "RAM Size            0\n",
       "RAM Type            0\n",
       "Operating System    0\n",
       "Storage             0\n",
       "Storage Type        0\n",
       "Display             0\n",
       "dtype: int64"
      ]
     },
     "execution_count": 75,
     "metadata": {},
     "output_type": "execute_result"
    }
   ],
   "source": [
    "laptop.isnull().sum()"
   ]
  },
  {
   "cell_type": "code",
   "execution_count": 76,
   "id": "bf09c231",
   "metadata": {},
   "outputs": [
    {
     "data": {
      "text/plain": [
       "297"
      ]
     },
     "execution_count": 76,
     "metadata": {},
     "output_type": "execute_result"
    }
   ],
   "source": [
    "laptop.duplicated().sum()"
   ]
  },
  {
   "cell_type": "code",
   "execution_count": 77,
   "id": "1107d8e3",
   "metadata": {},
   "outputs": [],
   "source": [
    "laptop.drop_duplicates(inplace=True)"
   ]
  },
  {
   "cell_type": "code",
   "execution_count": 78,
   "id": "36ef6617",
   "metadata": {},
   "outputs": [
    {
     "data": {
      "text/plain": [
       "0"
      ]
     },
     "execution_count": 78,
     "metadata": {},
     "output_type": "execute_result"
    }
   ],
   "source": [
    "laptop.duplicated().sum()"
   ]
  },
  {
   "cell_type": "code",
   "execution_count": 79,
   "id": "83fe6d35",
   "metadata": {},
   "outputs": [
    {
     "data": {
      "text/plain": [
       "(423, 12)"
      ]
     },
     "execution_count": 79,
     "metadata": {},
     "output_type": "execute_result"
    }
   ],
   "source": [
    "laptop.shape"
   ]
  },
  {
   "cell_type": "code",
   "execution_count": 80,
   "id": "74bcf0a2",
   "metadata": {},
   "outputs": [
    {
     "data": {
      "text/html": [
       "<div>\n",
       "<style scoped>\n",
       "    .dataframe tbody tr th:only-of-type {\n",
       "        vertical-align: middle;\n",
       "    }\n",
       "\n",
       "    .dataframe tbody tr th {\n",
       "        vertical-align: top;\n",
       "    }\n",
       "\n",
       "    .dataframe thead th {\n",
       "        text-align: right;\n",
       "    }\n",
       "</style>\n",
       "<table border=\"1\" class=\"dataframe\">\n",
       "  <thead>\n",
       "    <tr style=\"text-align: right;\">\n",
       "      <th></th>\n",
       "      <th>Brand</th>\n",
       "      <th>Processor</th>\n",
       "      <th>Operating System</th>\n",
       "      <th>Rating</th>\n",
       "      <th>RAM Size</th>\n",
       "      <th>RAM Type</th>\n",
       "      <th>Storage</th>\n",
       "      <th>Storage Type</th>\n",
       "      <th>Display</th>\n",
       "      <th>MRP</th>\n",
       "    </tr>\n",
       "  </thead>\n",
       "  <tbody>\n",
       "    <tr>\n",
       "      <th>0</th>\n",
       "      <td>Lenovo</td>\n",
       "      <td>Intel Core i3</td>\n",
       "      <td>64 bit Windows 11</td>\n",
       "      <td>4.2</td>\n",
       "      <td>8</td>\n",
       "      <td>DDR4</td>\n",
       "      <td>256 GB</td>\n",
       "      <td>SSD</td>\n",
       "      <td>35.56</td>\n",
       "      <td>36990</td>\n",
       "    </tr>\n",
       "    <tr>\n",
       "      <th>1</th>\n",
       "      <td>Lenovo</td>\n",
       "      <td>Intel Core i3</td>\n",
       "      <td>64 bit Windows 11</td>\n",
       "      <td>4.2</td>\n",
       "      <td>8</td>\n",
       "      <td>DDR4</td>\n",
       "      <td>512 GB</td>\n",
       "      <td>SSD</td>\n",
       "      <td>39.62</td>\n",
       "      <td>39990</td>\n",
       "    </tr>\n",
       "    <tr>\n",
       "      <th>2</th>\n",
       "      <td>ASUS</td>\n",
       "      <td>Intel Core i3</td>\n",
       "      <td>64 bit Windows 11</td>\n",
       "      <td>4.3</td>\n",
       "      <td>8</td>\n",
       "      <td>DDR4</td>\n",
       "      <td>512 GB</td>\n",
       "      <td>SSD</td>\n",
       "      <td>39.62</td>\n",
       "      <td>32990</td>\n",
       "    </tr>\n",
       "    <tr>\n",
       "      <th>3</th>\n",
       "      <td>HP</td>\n",
       "      <td>AMD Ryzen 5 Hexa Core</td>\n",
       "      <td>64 bit Windows 10</td>\n",
       "      <td>4.4</td>\n",
       "      <td>8</td>\n",
       "      <td>DDR4</td>\n",
       "      <td>512 GB</td>\n",
       "      <td>SSD</td>\n",
       "      <td>39.62</td>\n",
       "      <td>49990</td>\n",
       "    </tr>\n",
       "    <tr>\n",
       "      <th>4</th>\n",
       "      <td>ASUS</td>\n",
       "      <td>Intel Core i5</td>\n",
       "      <td>64 bit Windows 11</td>\n",
       "      <td>4.4</td>\n",
       "      <td>8</td>\n",
       "      <td>DDR4</td>\n",
       "      <td>512 GB</td>\n",
       "      <td>SSD</td>\n",
       "      <td>39.62</td>\n",
       "      <td>49990</td>\n",
       "    </tr>\n",
       "    <tr>\n",
       "      <th>...</th>\n",
       "      <td>...</td>\n",
       "      <td>...</td>\n",
       "      <td>...</td>\n",
       "      <td>...</td>\n",
       "      <td>...</td>\n",
       "      <td>...</td>\n",
       "      <td>...</td>\n",
       "      <td>...</td>\n",
       "      <td>...</td>\n",
       "      <td>...</td>\n",
       "    </tr>\n",
       "    <tr>\n",
       "      <th>713</th>\n",
       "      <td>DELL</td>\n",
       "      <td>Intel Core i5</td>\n",
       "      <td>64 bit Windows 11</td>\n",
       "      <td>4.3</td>\n",
       "      <td>16</td>\n",
       "      <td>DDR5</td>\n",
       "      <td>512 GB</td>\n",
       "      <td>SSD</td>\n",
       "      <td>33.78</td>\n",
       "      <td>76590</td>\n",
       "    </tr>\n",
       "    <tr>\n",
       "      <th>714</th>\n",
       "      <td>HP</td>\n",
       "      <td>AMD Ryzen 7 Octa Core</td>\n",
       "      <td>64 bit Windows 10</td>\n",
       "      <td>4.6</td>\n",
       "      <td>16</td>\n",
       "      <td>DDR4</td>\n",
       "      <td>512 GB</td>\n",
       "      <td>SSD</td>\n",
       "      <td>39.62</td>\n",
       "      <td>90000</td>\n",
       "    </tr>\n",
       "    <tr>\n",
       "      <th>715</th>\n",
       "      <td>ASUS</td>\n",
       "      <td>Intel Celeron Dual Core</td>\n",
       "      <td>64 bit Chrome</td>\n",
       "      <td>4.0</td>\n",
       "      <td>4</td>\n",
       "      <td>LPDDR4</td>\n",
       "      <td>512 GB</td>\n",
       "      <td>SSD</td>\n",
       "      <td>29.46</td>\n",
       "      <td>23490</td>\n",
       "    </tr>\n",
       "    <tr>\n",
       "      <th>718</th>\n",
       "      <td>ASUS</td>\n",
       "      <td>Intel Core i7</td>\n",
       "      <td>64 bit Windows 11</td>\n",
       "      <td>3.0</td>\n",
       "      <td>16</td>\n",
       "      <td>LPDDR5</td>\n",
       "      <td>512 GB</td>\n",
       "      <td>SSD</td>\n",
       "      <td>35.56</td>\n",
       "      <td>125990</td>\n",
       "    </tr>\n",
       "    <tr>\n",
       "      <th>719</th>\n",
       "      <td>Lenovo</td>\n",
       "      <td>Intel Core i5</td>\n",
       "      <td>64 bit Windows 10</td>\n",
       "      <td>4.2</td>\n",
       "      <td>8</td>\n",
       "      <td>DDR4</td>\n",
       "      <td>1 TB 256 GB</td>\n",
       "      <td>HDD,SSD</td>\n",
       "      <td>39.62</td>\n",
       "      <td>50990</td>\n",
       "    </tr>\n",
       "  </tbody>\n",
       "</table>\n",
       "<p>423 rows × 10 columns</p>\n",
       "</div>"
      ],
      "text/plain": [
       "      Brand                 Processor    Operating System  Rating  RAM Size  \\\n",
       "0    Lenovo            Intel Core i3   64 bit Windows 11      4.2         8   \n",
       "1    Lenovo            Intel Core i3   64 bit Windows 11      4.2         8   \n",
       "2      ASUS            Intel Core i3   64 bit Windows 11      4.3         8   \n",
       "3        HP    AMD Ryzen 5 Hexa Core   64 bit Windows 10      4.4         8   \n",
       "4      ASUS            Intel Core i5    64 bit Windows 11     4.4         8   \n",
       "..      ...                       ...                 ...     ...       ...   \n",
       "713    DELL            Intel Core i5   64 bit Windows 11      4.3        16   \n",
       "714      HP    AMD Ryzen 7 Octa Core   64 bit Windows 10      4.6        16   \n",
       "715    ASUS  Intel Celeron Dual Core        64 bit Chrome     4.0         4   \n",
       "718    ASUS            Intel Core i7   64 bit Windows 11      3.0        16   \n",
       "719  Lenovo            Intel Core i5   64 bit Windows 10      4.2         8   \n",
       "\n",
       "     RAM Type       Storage Storage Type  Display     MRP  \n",
       "0        DDR4       256 GB           SSD    35.56   36990  \n",
       "1        DDR4       512 GB           SSD    39.62   39990  \n",
       "2        DDR4       512 GB           SSD    39.62   32990  \n",
       "3        DDR4       512 GB           SSD    39.62   49990  \n",
       "4        DDR4       512 GB           SSD    39.62   49990  \n",
       "..        ...           ...          ...      ...     ...  \n",
       "713      DDR5       512 GB           SSD    33.78   76590  \n",
       "714      DDR4       512 GB           SSD    39.62   90000  \n",
       "715    LPDDR4       512 GB           SSD    29.46   23490  \n",
       "718    LPDDR5       512 GB           SSD    35.56  125990  \n",
       "719      DDR4  1 TB 256 GB       HDD,SSD    39.62   50990  \n",
       "\n",
       "[423 rows x 10 columns]"
      ]
     },
     "execution_count": 80,
     "metadata": {},
     "output_type": "execute_result"
    }
   ],
   "source": [
    "list=['Brand','Processor','Operating System','Rating','RAM Size','RAM Type','Storage','Storage Type','Display','MRP']\n",
    "Flipkart=laptop.reindex(columns=list)\n",
    "Flipkart"
   ]
  },
  {
   "cell_type": "code",
   "execution_count": 81,
   "id": "96c63d5c",
   "metadata": {},
   "outputs": [
    {
     "name": "stdout",
     "output_type": "stream",
     "text": [
      "<class 'pandas.core.frame.DataFrame'>\n",
      "Int64Index: 423 entries, 0 to 719\n",
      "Data columns (total 10 columns):\n",
      " #   Column            Non-Null Count  Dtype  \n",
      "---  ------            --------------  -----  \n",
      " 0   Brand             423 non-null    object \n",
      " 1   Processor         423 non-null    object \n",
      " 2   Operating System  423 non-null    object \n",
      " 3   Rating            423 non-null    float64\n",
      " 4   RAM Size          423 non-null    int64  \n",
      " 5   RAM Type          423 non-null    object \n",
      " 6   Storage           423 non-null    object \n",
      " 7   Storage Type      423 non-null    object \n",
      " 8   Display           423 non-null    float64\n",
      " 9   MRP               423 non-null    int64  \n",
      "dtypes: float64(2), int64(2), object(6)\n",
      "memory usage: 36.4+ KB\n"
     ]
    }
   ],
   "source": [
    "Flipkart.info()"
   ]
  },
  {
   "cell_type": "code",
   "execution_count": 82,
   "id": "0626582f",
   "metadata": {},
   "outputs": [],
   "source": [
    "df = pd.DataFrame(Flipkart)\n",
    "\n",
    "# convert the DataFrame to a CSV file\n",
    "df.to_csv('flipkart.csv', index=False)"
   ]
  },
  {
   "cell_type": "code",
   "execution_count": 83,
   "id": "27696a2a",
   "metadata": {},
   "outputs": [
    {
     "name": "stderr",
     "output_type": "stream",
     "text": [
      "WARNING: You are using pip version 21.2.3; however, version 23.0.1 is available.\n",
      "You should consider upgrading via the 'C:\\python\\python.exe -m pip install --upgrade pip' command.\n"
     ]
    },
    {
     "name": "stdout",
     "output_type": "stream",
     "text": [
      "Requirement already satisfied: openpyxl in c:\\python\\lib\\site-packages (3.1.2)\n",
      "Requirement already satisfied: et-xmlfile in c:\\python\\lib\\site-packages (from openpyxl) (1.1.0)\n"
     ]
    }
   ],
   "source": [
    "!pip install openpyxl\n",
    "import openpyxl\n",
    "# convert the DataFrame to an Excel file\n",
    "df.to_excel('flipkart.xlsx', index=False)"
   ]
  },
  {
   "cell_type": "code",
   "execution_count": 84,
   "id": "89496b52",
   "metadata": {},
   "outputs": [
    {
     "data": {
      "text/html": [
       "<a href='flipkart.xlsx' target='_blank'>flipkart.xlsx</a><br>"
      ],
      "text/plain": [
       "C:\\Users\\LENOVO\\Videos\\MACHINE LEARNING\\flipkart.xlsx"
      ]
     },
     "execution_count": 84,
     "metadata": {},
     "output_type": "execute_result"
    }
   ],
   "source": [
    "from IPython.display import FileLink\n",
    "FileLink('flipkart.xlsx')\n"
   ]
  },
  {
   "cell_type": "markdown",
   "id": "929d2cac",
   "metadata": {},
   "source": [
    "# Data Visualization"
   ]
  },
  {
   "cell_type": "code",
   "execution_count": 85,
   "id": "aa8c8719",
   "metadata": {},
   "outputs": [],
   "source": [
    "import matplotlib.pyplot as plt\n",
    "import seaborn as sns"
   ]
  },
  {
   "cell_type": "code",
   "execution_count": 86,
   "id": "4008e488",
   "metadata": {},
   "outputs": [
    {
     "data": {
      "text/html": [
       "<div>\n",
       "<style scoped>\n",
       "    .dataframe tbody tr th:only-of-type {\n",
       "        vertical-align: middle;\n",
       "    }\n",
       "\n",
       "    .dataframe tbody tr th {\n",
       "        vertical-align: top;\n",
       "    }\n",
       "\n",
       "    .dataframe thead th {\n",
       "        text-align: right;\n",
       "    }\n",
       "</style>\n",
       "<table border=\"1\" class=\"dataframe\">\n",
       "  <thead>\n",
       "    <tr style=\"text-align: right;\">\n",
       "      <th></th>\n",
       "      <th>Brand</th>\n",
       "      <th>Processor</th>\n",
       "      <th>Operating System</th>\n",
       "      <th>Rating</th>\n",
       "      <th>RAM Size</th>\n",
       "      <th>RAM Type</th>\n",
       "      <th>Storage</th>\n",
       "      <th>Storage Type</th>\n",
       "      <th>Display</th>\n",
       "      <th>MRP</th>\n",
       "    </tr>\n",
       "  </thead>\n",
       "  <tbody>\n",
       "    <tr>\n",
       "      <th>0</th>\n",
       "      <td>Lenovo</td>\n",
       "      <td>Intel Core i3</td>\n",
       "      <td>64 bit Windows 11</td>\n",
       "      <td>4.2</td>\n",
       "      <td>8</td>\n",
       "      <td>DDR4</td>\n",
       "      <td>256 GB</td>\n",
       "      <td>SSD</td>\n",
       "      <td>35.56</td>\n",
       "      <td>36990</td>\n",
       "    </tr>\n",
       "    <tr>\n",
       "      <th>1</th>\n",
       "      <td>Lenovo</td>\n",
       "      <td>Intel Core i3</td>\n",
       "      <td>64 bit Windows 11</td>\n",
       "      <td>4.2</td>\n",
       "      <td>8</td>\n",
       "      <td>DDR4</td>\n",
       "      <td>512 GB</td>\n",
       "      <td>SSD</td>\n",
       "      <td>39.62</td>\n",
       "      <td>39990</td>\n",
       "    </tr>\n",
       "    <tr>\n",
       "      <th>2</th>\n",
       "      <td>ASUS</td>\n",
       "      <td>Intel Core i3</td>\n",
       "      <td>64 bit Windows 11</td>\n",
       "      <td>4.3</td>\n",
       "      <td>8</td>\n",
       "      <td>DDR4</td>\n",
       "      <td>512 GB</td>\n",
       "      <td>SSD</td>\n",
       "      <td>39.62</td>\n",
       "      <td>32990</td>\n",
       "    </tr>\n",
       "    <tr>\n",
       "      <th>3</th>\n",
       "      <td>HP</td>\n",
       "      <td>AMD Ryzen 5 Hexa Core</td>\n",
       "      <td>64 bit Windows 10</td>\n",
       "      <td>4.4</td>\n",
       "      <td>8</td>\n",
       "      <td>DDR4</td>\n",
       "      <td>512 GB</td>\n",
       "      <td>SSD</td>\n",
       "      <td>39.62</td>\n",
       "      <td>49990</td>\n",
       "    </tr>\n",
       "    <tr>\n",
       "      <th>4</th>\n",
       "      <td>ASUS</td>\n",
       "      <td>Intel Core i5</td>\n",
       "      <td>64 bit Windows 11</td>\n",
       "      <td>4.4</td>\n",
       "      <td>8</td>\n",
       "      <td>DDR4</td>\n",
       "      <td>512 GB</td>\n",
       "      <td>SSD</td>\n",
       "      <td>39.62</td>\n",
       "      <td>49990</td>\n",
       "    </tr>\n",
       "  </tbody>\n",
       "</table>\n",
       "</div>"
      ],
      "text/plain": [
       "    Brand               Processor    Operating System  Rating  RAM Size  \\\n",
       "0  Lenovo          Intel Core i3   64 bit Windows 11      4.2         8   \n",
       "1  Lenovo          Intel Core i3   64 bit Windows 11      4.2         8   \n",
       "2    ASUS          Intel Core i3   64 bit Windows 11      4.3         8   \n",
       "3      HP  AMD Ryzen 5 Hexa Core   64 bit Windows 10      4.4         8   \n",
       "4    ASUS          Intel Core i5    64 bit Windows 11     4.4         8   \n",
       "\n",
       "  RAM Type  Storage Storage Type  Display    MRP  \n",
       "0     DDR4  256 GB           SSD    35.56  36990  \n",
       "1     DDR4  512 GB           SSD    39.62  39990  \n",
       "2     DDR4  512 GB           SSD    39.62  32990  \n",
       "3     DDR4  512 GB           SSD    39.62  49990  \n",
       "4     DDR4  512 GB           SSD    39.62  49990  "
      ]
     },
     "execution_count": 86,
     "metadata": {},
     "output_type": "execute_result"
    }
   ],
   "source": [
    "Flipkart.head()"
   ]
  },
  {
   "cell_type": "code",
   "execution_count": 87,
   "id": "d583dfc6",
   "metadata": {},
   "outputs": [
    {
     "name": "stderr",
     "output_type": "stream",
     "text": [
      "C:\\Users\\LENOVO\\AppData\\Local\\Temp\\ipykernel_8800\\431563311.py:1: UserWarning: \n",
      "\n",
      "`distplot` is a deprecated function and will be removed in seaborn v0.14.0.\n",
      "\n",
      "Please adapt your code to use either `displot` (a figure-level function with\n",
      "similar flexibility) or `histplot` (an axes-level function for histograms).\n",
      "\n",
      "For a guide to updating your code to use the new functions, please see\n",
      "https://gist.github.com/mwaskom/de44147ed2974457ad6372750bbe5751\n",
      "\n",
      "  sns.distplot(Flipkart.MRP)\n"
     ]
    },
    {
     "data": {
      "image/png": "[encoded data removed]",
      "text/plain": [
       "<Figure size 640x480 with 1 Axes>"
      ]
     },
     "metadata": {},
     "output_type": "display_data"
    }
   ],
   "source": [
    "sns.distplot(Flipkart.MRP)\n",
    "plt.show()"
   ]
  },
  {
   "cell_type": "code",
   "execution_count": 88,
   "id": "6edef775",
   "metadata": {},
   "outputs": [
    {
     "data": {
      "text/plain": [
       "<Axes: xlabel='MRP'>"
      ]
     },
     "execution_count": 88,
     "metadata": {},
     "output_type": "execute_result"
    },
    {
     "data": {
      "image/png": "[encoded data removed]",
      "text/plain": [
       "<Figure size 640x480 with 1 Axes>"
      ]
     },
     "metadata": {},
     "output_type": "display_data"
    }
   ],
   "source": [
    "#Checking Outliers\n",
    "sns.boxplot(data=Flipkart,x='MRP')"
   ]
  },
  {
   "cell_type": "code",
   "execution_count": 89,
   "id": "3c383bd5",
   "metadata": {},
   "outputs": [
    {
     "data": {
      "text/plain": [
       "<Axes: xlabel='Rating'>"
      ]
     },
     "execution_count": 89,
     "metadata": {},
     "output_type": "execute_result"
    },
    {
     "data": {
      "image/png": "[encoded data removed]",
      "text/plain": [
       "<Figure size 640x480 with 1 Axes>"
      ]
     },
     "metadata": {},
     "output_type": "display_data"
    }
   ],
   "source": [
    "sns.boxplot(data=Flipkart,x='Rating')"
   ]
  },
  {
   "cell_type": "code",
   "execution_count": 90,
   "id": "c996eeef",
   "metadata": {},
   "outputs": [],
   "source": [
    "from scipy import stats"
   ]
  },
  {
   "cell_type": "code",
   "execution_count": 91,
   "id": "99459d52",
   "metadata": {},
   "outputs": [],
   "source": [
    "#By using Boxcox we treat the outliers\n",
    "Flipkart['Mrp'],lamda=stats.boxcox(Flipkart.MRP)"
   ]
  },
  {
   "cell_type": "code",
   "execution_count": 92,
   "id": "037ca4b2",
   "metadata": {},
   "outputs": [
    {
     "data": {
      "text/plain": [
       "0      2.966419\n",
       "1      2.968910\n",
       "2      2.962647\n",
       "3      2.975699\n",
       "4      2.975699\n",
       "         ...   \n",
       "713    2.987378\n",
       "714    2.991388\n",
       "715    2.950586\n",
       "718    2.999100\n",
       "719    2.976278\n",
       "Name: Mrp, Length: 423, dtype: float64"
      ]
     },
     "execution_count": 92,
     "metadata": {},
     "output_type": "execute_result"
    }
   ],
   "source": [
    "Flipkart['Mrp']"
   ]
  },
  {
   "cell_type": "code",
   "execution_count": 93,
   "id": "2849929a",
   "metadata": {},
   "outputs": [
    {
     "data": {
      "text/plain": [
       "<Axes: xlabel='Mrp'>"
      ]
     },
     "execution_count": 93,
     "metadata": {},
     "output_type": "execute_result"
    },
    {
     "data": {
      "image/png": "[encoded data removed]",
      "text/plain": [
       "<Figure size 640x480 with 1 Axes>"
      ]
     },
     "metadata": {},
     "output_type": "display_data"
    }
   ],
   "source": [
    "sns.boxplot(data=Flipkart,x='Mrp')"
   ]
  },
  {
   "cell_type": "code",
   "execution_count": 94,
   "id": "81e8bea3",
   "metadata": {},
   "outputs": [
    {
     "name": "stderr",
     "output_type": "stream",
     "text": [
      "C:\\Users\\LENOVO\\AppData\\Local\\Temp\\ipykernel_8800\\1559262380.py:1: UserWarning: \n",
      "\n",
      "`distplot` is a deprecated function and will be removed in seaborn v0.14.0.\n",
      "\n",
      "Please adapt your code to use either `displot` (a figure-level function with\n",
      "similar flexibility) or `histplot` (an axes-level function for histograms).\n",
      "\n",
      "For a guide to updating your code to use the new functions, please see\n",
      "https://gist.github.com/mwaskom/de44147ed2974457ad6372750bbe5751\n",
      "\n",
      "  sns.distplot(Flipkart.Mrp)\n"
     ]
    },
    {
     "data": {
      "text/plain": [
       "<Axes: xlabel='Mrp', ylabel='Density'>"
      ]
     },
     "execution_count": 94,
     "metadata": {},
     "output_type": "execute_result"
    },
    {
     "data": {
      "image/png": "[encoded data removed]",
      "text/plain": [
       "<Figure size 640x480 with 1 Axes>"
      ]
     },
     "metadata": {},
     "output_type": "display_data"
    }
   ],
   "source": [
    "sns.distplot(Flipkart.Mrp)"
   ]
  },
  {
   "cell_type": "code",
   "execution_count": 95,
   "id": "683140a6",
   "metadata": {},
   "outputs": [
    {
     "data": {
      "text/plain": [
       "<Axes: xlabel='Brand', ylabel='count'>"
      ]
     },
     "execution_count": 95,
     "metadata": {},
     "output_type": "execute_result"
    },
    {
     "data": {
      "image/png": "[encoded data removed]",
      "text/plain": [
       "<Figure size 1500x500 with 1 Axes>"
      ]
     },
     "metadata": {},
     "output_type": "display_data"
    }
   ],
   "source": [
    "#Count Plot\n",
    "plt.figure(figsize=(15,5),dpi=100)\n",
    "sns.countplot(x=Flipkart.Brand)"
   ]
  },
  {
   "cell_type": "markdown",
   "id": "ec760a8f",
   "metadata": {},
   "source": [
    "### Observation - \n",
    ">- The above plot show us the count for each product. \n",
    ">- We can see that **`ASUS`** is having highest number of product listing on Flipkart website."
   ]
  },
  {
   "cell_type": "code",
   "execution_count": 96,
   "id": "26ab89e4",
   "metadata": {},
   "outputs": [
    {
     "data": {
      "text/html": [
       "<div>\n",
       "<style scoped>\n",
       "    .dataframe tbody tr th:only-of-type {\n",
       "        vertical-align: middle;\n",
       "    }\n",
       "\n",
       "    .dataframe tbody tr th {\n",
       "        vertical-align: top;\n",
       "    }\n",
       "\n",
       "    .dataframe thead tr th {\n",
       "        text-align: left;\n",
       "    }\n",
       "\n",
       "    .dataframe thead tr:last-of-type th {\n",
       "        text-align: right;\n",
       "    }\n",
       "</style>\n",
       "<table border=\"1\" class=\"dataframe\">\n",
       "  <thead>\n",
       "    <tr>\n",
       "      <th></th>\n",
       "      <th colspan=\"3\" halign=\"left\">MRP</th>\n",
       "    </tr>\n",
       "    <tr>\n",
       "      <th></th>\n",
       "      <th>min</th>\n",
       "      <th>max</th>\n",
       "      <th>mean</th>\n",
       "    </tr>\n",
       "    <tr>\n",
       "      <th>Brand</th>\n",
       "      <th></th>\n",
       "      <th></th>\n",
       "      <th></th>\n",
       "    </tr>\n",
       "  </thead>\n",
       "  <tbody>\n",
       "    <tr>\n",
       "      <th>ALIENWARE</th>\n",
       "      <td>199990</td>\n",
       "      <td>345390</td>\n",
       "      <td>253390.000000</td>\n",
       "    </tr>\n",
       "    <tr>\n",
       "      <th>APPLE</th>\n",
       "      <td>88990</td>\n",
       "      <td>309490</td>\n",
       "      <td>162332.105263</td>\n",
       "    </tr>\n",
       "    <tr>\n",
       "      <th>ASUS</th>\n",
       "      <td>14990</td>\n",
       "      <td>361990</td>\n",
       "      <td>91455.632353</td>\n",
       "    </tr>\n",
       "    <tr>\n",
       "      <th>DELL</th>\n",
       "      <td>30428</td>\n",
       "      <td>434830</td>\n",
       "      <td>74613.232143</td>\n",
       "    </tr>\n",
       "    <tr>\n",
       "      <th>GIGABYTE</th>\n",
       "      <td>73990</td>\n",
       "      <td>73990</td>\n",
       "      <td>73990.000000</td>\n",
       "    </tr>\n",
       "    <tr>\n",
       "      <th>HP</th>\n",
       "      <td>25990</td>\n",
       "      <td>199990</td>\n",
       "      <td>65943.157895</td>\n",
       "    </tr>\n",
       "    <tr>\n",
       "      <th>Infinix</th>\n",
       "      <td>20990</td>\n",
       "      <td>52990</td>\n",
       "      <td>37347.142857</td>\n",
       "    </tr>\n",
       "    <tr>\n",
       "      <th>Lenovo</th>\n",
       "      <td>19490</td>\n",
       "      <td>157990</td>\n",
       "      <td>54473.032258</td>\n",
       "    </tr>\n",
       "    <tr>\n",
       "      <th>MSI</th>\n",
       "      <td>43990</td>\n",
       "      <td>389990</td>\n",
       "      <td>123411.344828</td>\n",
       "    </tr>\n",
       "    <tr>\n",
       "      <th>Nokia</th>\n",
       "      <td>50490</td>\n",
       "      <td>50490</td>\n",
       "      <td>50490.000000</td>\n",
       "    </tr>\n",
       "    <tr>\n",
       "      <th>RedmiBook</th>\n",
       "      <td>31990</td>\n",
       "      <td>39990</td>\n",
       "      <td>35990.000000</td>\n",
       "    </tr>\n",
       "    <tr>\n",
       "      <th>SAMSUNG</th>\n",
       "      <td>32990</td>\n",
       "      <td>59990</td>\n",
       "      <td>46490.000000</td>\n",
       "    </tr>\n",
       "    <tr>\n",
       "      <th>Ultimus</th>\n",
       "      <td>15990</td>\n",
       "      <td>19990</td>\n",
       "      <td>17990.000000</td>\n",
       "    </tr>\n",
       "    <tr>\n",
       "      <th>Vaio</th>\n",
       "      <td>40990</td>\n",
       "      <td>40990</td>\n",
       "      <td>40990.000000</td>\n",
       "    </tr>\n",
       "    <tr>\n",
       "      <th>acer</th>\n",
       "      <td>24990</td>\n",
       "      <td>155490</td>\n",
       "      <td>65000.764706</td>\n",
       "    </tr>\n",
       "    <tr>\n",
       "      <th>realme</th>\n",
       "      <td>46990</td>\n",
       "      <td>64999</td>\n",
       "      <td>54742.250000</td>\n",
       "    </tr>\n",
       "  </tbody>\n",
       "</table>\n",
       "</div>"
      ],
      "text/plain": [
       "              MRP                       \n",
       "              min     max           mean\n",
       "Brand                                   \n",
       "ALIENWARE  199990  345390  253390.000000\n",
       "APPLE       88990  309490  162332.105263\n",
       "ASUS        14990  361990   91455.632353\n",
       "DELL        30428  434830   74613.232143\n",
       "GIGABYTE    73990   73990   73990.000000\n",
       "HP          25990  199990   65943.157895\n",
       "Infinix     20990   52990   37347.142857\n",
       "Lenovo      19490  157990   54473.032258\n",
       "MSI         43990  389990  123411.344828\n",
       "Nokia       50490   50490   50490.000000\n",
       "RedmiBook   31990   39990   35990.000000\n",
       "SAMSUNG     32990   59990   46490.000000\n",
       "Ultimus     15990   19990   17990.000000\n",
       "Vaio        40990   40990   40990.000000\n",
       "acer        24990  155490   65000.764706\n",
       "realme      46990   64999   54742.250000"
      ]
     },
     "execution_count": 96,
     "metadata": {},
     "output_type": "execute_result"
    }
   ],
   "source": [
    "Flipkart.groupby(['Brand']).agg({'MRP' : ['min', 'max', 'mean']})\n"
   ]
  },
  {
   "cell_type": "code",
   "execution_count": 97,
   "id": "ffd8f2a1",
   "metadata": {},
   "outputs": [
    {
     "name": "stderr",
     "output_type": "stream",
     "text": [
      "C:\\Users\\LENOVO\\AppData\\Local\\Temp\\ipykernel_8800\\1575854810.py:3: FutureWarning: \n",
      "\n",
      "The `ci` parameter is deprecated. Use `errorbar=('ci', False)` for the same effect.\n",
      "\n",
      "  sns.barplot(data = Flipkart,x='MRP', y='Processor', orient='h', ci=False)\n"
     ]
    },
    {
     "data": {
      "text/plain": [
       "<Axes: xlabel='MRP', ylabel='Processor'>"
      ]
     },
     "execution_count": 97,
     "metadata": {},
     "output_type": "execute_result"
    },
    {
     "data": {
      "image/png": "[encoded data removed]",
      "text/plain": [
       "<Figure size 1000x500 with 1 Axes>"
      ]
     },
     "metadata": {},
     "output_type": "display_data"
    }
   ],
   "source": [
    "#Bar Plot\n",
    "plt.figure(figsize=(10, 5))\n",
    "sns.barplot(data = Flipkart,x='MRP', y='Processor', orient='h', ci=False)"
   ]
  },
  {
   "cell_type": "markdown",
   "id": "3414b386",
   "metadata": {},
   "source": [
    "### Observations:\n",
    ">- **`Apple M1 Max`** having the highest Price compared to all Processors.\n",
    ">- **`Intel Celeron Quad Core`** having the least Price compared to all Processors.\n",
    ">- We can says that if the Processors increased then Price also increased."
   ]
  },
  {
   "cell_type": "code",
   "execution_count": 98,
   "id": "11b5d408",
   "metadata": {},
   "outputs": [
    {
     "data": {
      "text/plain": [
       "<Axes: xlabel='Brand', ylabel='MRP'>"
      ]
     },
     "execution_count": 98,
     "metadata": {},
     "output_type": "execute_result"
    },
    {
     "data": {
      "image/png": "[encoded data removed]",
      "text/plain": [
       "<Figure size 1500x700 with 1 Axes>"
      ]
     },
     "metadata": {},
     "output_type": "display_data"
    }
   ],
   "source": [
    "#Bar Plot\n",
    "plt.figure(figsize=(15, 7))\n",
    "sns.barplot(x = Flipkart.Brand, y = Flipkart.MRP)"
   ]
  },
  {
   "cell_type": "markdown",
   "id": "825ca899",
   "metadata": {},
   "source": [
    "### Observations:\n",
    ">- **`AlienWare`** having the highest outliers when compared to others."
   ]
  },
  {
   "cell_type": "code",
   "execution_count": 99,
   "id": "952a2ce6",
   "metadata": {},
   "outputs": [
    {
     "name": "stderr",
     "output_type": "stream",
     "text": [
      "C:\\Users\\LENOVO\\AppData\\Local\\Temp\\ipykernel_8800\\1797938709.py:2: FutureWarning: \n",
      "\n",
      "The `ci` parameter is deprecated. Use `errorbar=('ci', False)` for the same effect.\n",
      "\n",
      "  sns.barplot(x='MRP',y='Storage',data=Flipkart,hue='RAM Size',ci=False);\n"
     ]
    },
    {
     "data": {
      "image/png": "[encoded data removed]",
      "text/plain": [
       "<Figure size 1000x500 with 1 Axes>"
      ]
     },
     "metadata": {},
     "output_type": "display_data"
    }
   ],
   "source": [
    "plt.figure(figsize=(10,5))\n",
    "sns.barplot(x='MRP',y='Storage',data=Flipkart,hue='RAM Size',ci=False);"
   ]
  },
  {
   "cell_type": "code",
   "execution_count": 100,
   "id": "f4814d6a",
   "metadata": {},
   "outputs": [
    {
     "name": "stderr",
     "output_type": "stream",
     "text": [
      "C:\\Users\\LENOVO\\AppData\\Local\\Temp\\ipykernel_8800\\2929889598.py:2: FutureWarning: \n",
      "\n",
      "The `ci` parameter is deprecated. Use `errorbar=('ci', False)` for the same effect.\n",
      "\n",
      "  sns.barplot(x='MRP',y='Storage',data=Flipkart,hue='Storage Type',ci=False);\n"
     ]
    },
    {
     "data": {
      "image/png": "[encoded data removed]",
      "text/plain": [
       "<Figure size 1000x500 with 1 Axes>"
      ]
     },
     "metadata": {},
     "output_type": "display_data"
    }
   ],
   "source": [
    "plt.figure(figsize=(10,5))\n",
    "sns.barplot(x='MRP',y='Storage',data=Flipkart,hue='Storage Type',ci=False);"
   ]
  },
  {
   "cell_type": "markdown",
   "id": "15ae971e",
   "metadata": {},
   "source": [
    "### Observations:\n",
    ">- In the above two plots we can say that 2 TB SSD having the highest Storage Type.\n",
    ">- 32 GB Ram Size is the highest size"
   ]
  },
  {
   "cell_type": "code",
   "execution_count": 101,
   "id": "fd7fded6",
   "metadata": {},
   "outputs": [
    {
     "data": {
      "text/plain": [
       "<Axes: xlabel='MRP', ylabel='Rating'>"
      ]
     },
     "execution_count": 101,
     "metadata": {},
     "output_type": "execute_result"
    },
    {
     "data": {
      "image/png": "[encoded data removed]",
      "text/plain": [
       "<Figure size 640x480 with 1 Axes>"
      ]
     },
     "metadata": {},
     "output_type": "display_data"
    }
   ],
   "source": [
    "#Scatter Plot\n",
    "sns.scatterplot(data=Flipkart,x='MRP',y='Rating')"
   ]
  },
  {
   "cell_type": "markdown",
   "id": "4cfe54fe",
   "metadata": {},
   "source": [
    "### Observations:\n",
    ">- More rated laptops above 4 are more Under 2 lakhs.\n",
    ">- Maximum purchasing of laptops are under 2 lakhs.\n",
    ">- As Price increasing then the rating is constant with 4.25.\n"
   ]
  },
  {
   "cell_type": "code",
   "execution_count": 102,
   "id": "54f07f17",
   "metadata": {},
   "outputs": [
    {
     "data": {
      "image/png": "[encoded data removed]",
      "text/plain": [
       "<Figure size 1250x1250 with 30 Axes>"
      ]
     },
     "metadata": {},
     "output_type": "display_data"
    }
   ],
   "source": [
    "sns.pairplot(Flipkart) #PAIR PLOT IS USED ONLY TO THE FEW NUMERICALS VALUES ARE TO BE ANALYSED\n",
    "plt.show()"
   ]
  },
  {
   "cell_type": "code",
   "execution_count": 103,
   "id": "89617cc4",
   "metadata": {},
   "outputs": [
    {
     "name": "stderr",
     "output_type": "stream",
     "text": [
      "C:\\Users\\LENOVO\\AppData\\Local\\Temp\\ipykernel_8800\\2396261422.py:3: FutureWarning: The default value of numeric_only in DataFrame.corr is deprecated. In a future version, it will default to False. Select only valid columns or specify the value of numeric_only to silence this warning.\n",
      "  sns.heatmap(Flipkart.corr(),vmin=-1,vmax=1,annot=True,cmap=\"BrBG\",linewidths=0.01,square=True)\n"
     ]
    },
    {
     "data": {
      "image/png": "[encoded data removed]",
      "text/plain": [
       "<Figure size 1000x500 with 2 Axes>"
      ]
     },
     "metadata": {},
     "output_type": "display_data"
    }
   ],
   "source": [
    "#Heatmap\n",
    "plt.figure(figsize=(10,5))\n",
    "sns.heatmap(Flipkart.corr(),vmin=-1,vmax=1,annot=True,cmap=\"BrBG\",linewidths=0.01,square=True)\n",
    "plt.show()"
   ]
  },
  {
   "cell_type": "markdown",
   "id": "421b68bc",
   "metadata": {},
   "source": [
    "# MoDel Building"
   ]
  },
  {
   "cell_type": "markdown",
   "id": "f2aa2bd2",
   "metadata": {},
   "source": [
    "###  Identify the Target Variable and Splitting the Data into Train and Test"
   ]
  },
  {
   "cell_type": "code",
   "execution_count": 104,
   "id": "51d3798f",
   "metadata": {},
   "outputs": [
    {
     "name": "stdout",
     "output_type": "stream",
     "text": [
      "1.2.1\n"
     ]
    }
   ],
   "source": [
    "import sklearn\n",
    "\n",
    "print(sklearn.__version__)"
   ]
  },
  {
   "cell_type": "code",
   "execution_count": 105,
   "id": "43ac75e4",
   "metadata": {},
   "outputs": [
    {
     "data": {
      "text/html": [
       "<div>\n",
       "<style scoped>\n",
       "    .dataframe tbody tr th:only-of-type {\n",
       "        vertical-align: middle;\n",
       "    }\n",
       "\n",
       "    .dataframe tbody tr th {\n",
       "        vertical-align: top;\n",
       "    }\n",
       "\n",
       "    .dataframe thead th {\n",
       "        text-align: right;\n",
       "    }\n",
       "</style>\n",
       "<table border=\"1\" class=\"dataframe\">\n",
       "  <thead>\n",
       "    <tr style=\"text-align: right;\">\n",
       "      <th></th>\n",
       "      <th>Brand</th>\n",
       "      <th>Processor</th>\n",
       "      <th>Operating System</th>\n",
       "      <th>Rating</th>\n",
       "      <th>RAM Size</th>\n",
       "      <th>RAM Type</th>\n",
       "      <th>Storage</th>\n",
       "      <th>Storage Type</th>\n",
       "      <th>Display</th>\n",
       "      <th>MRP</th>\n",
       "      <th>Mrp</th>\n",
       "    </tr>\n",
       "  </thead>\n",
       "  <tbody>\n",
       "    <tr>\n",
       "      <th>0</th>\n",
       "      <td>Lenovo</td>\n",
       "      <td>Intel Core i3</td>\n",
       "      <td>64 bit Windows 11</td>\n",
       "      <td>4.2</td>\n",
       "      <td>8</td>\n",
       "      <td>DDR4</td>\n",
       "      <td>256 GB</td>\n",
       "      <td>SSD</td>\n",
       "      <td>35.56</td>\n",
       "      <td>36990</td>\n",
       "      <td>2.966419</td>\n",
       "    </tr>\n",
       "    <tr>\n",
       "      <th>1</th>\n",
       "      <td>Lenovo</td>\n",
       "      <td>Intel Core i3</td>\n",
       "      <td>64 bit Windows 11</td>\n",
       "      <td>4.2</td>\n",
       "      <td>8</td>\n",
       "      <td>DDR4</td>\n",
       "      <td>512 GB</td>\n",
       "      <td>SSD</td>\n",
       "      <td>39.62</td>\n",
       "      <td>39990</td>\n",
       "      <td>2.968910</td>\n",
       "    </tr>\n",
       "    <tr>\n",
       "      <th>2</th>\n",
       "      <td>ASUS</td>\n",
       "      <td>Intel Core i3</td>\n",
       "      <td>64 bit Windows 11</td>\n",
       "      <td>4.3</td>\n",
       "      <td>8</td>\n",
       "      <td>DDR4</td>\n",
       "      <td>512 GB</td>\n",
       "      <td>SSD</td>\n",
       "      <td>39.62</td>\n",
       "      <td>32990</td>\n",
       "      <td>2.962647</td>\n",
       "    </tr>\n",
       "    <tr>\n",
       "      <th>3</th>\n",
       "      <td>HP</td>\n",
       "      <td>AMD Ryzen 5 Hexa Core</td>\n",
       "      <td>64 bit Windows 10</td>\n",
       "      <td>4.4</td>\n",
       "      <td>8</td>\n",
       "      <td>DDR4</td>\n",
       "      <td>512 GB</td>\n",
       "      <td>SSD</td>\n",
       "      <td>39.62</td>\n",
       "      <td>49990</td>\n",
       "      <td>2.975699</td>\n",
       "    </tr>\n",
       "    <tr>\n",
       "      <th>4</th>\n",
       "      <td>ASUS</td>\n",
       "      <td>Intel Core i5</td>\n",
       "      <td>64 bit Windows 11</td>\n",
       "      <td>4.4</td>\n",
       "      <td>8</td>\n",
       "      <td>DDR4</td>\n",
       "      <td>512 GB</td>\n",
       "      <td>SSD</td>\n",
       "      <td>39.62</td>\n",
       "      <td>49990</td>\n",
       "      <td>2.975699</td>\n",
       "    </tr>\n",
       "  </tbody>\n",
       "</table>\n",
       "</div>"
      ],
      "text/plain": [
       "    Brand               Processor    Operating System  Rating  RAM Size  \\\n",
       "0  Lenovo          Intel Core i3   64 bit Windows 11      4.2         8   \n",
       "1  Lenovo          Intel Core i3   64 bit Windows 11      4.2         8   \n",
       "2    ASUS          Intel Core i3   64 bit Windows 11      4.3         8   \n",
       "3      HP  AMD Ryzen 5 Hexa Core   64 bit Windows 10      4.4         8   \n",
       "4    ASUS          Intel Core i5    64 bit Windows 11     4.4         8   \n",
       "\n",
       "  RAM Type  Storage Storage Type  Display    MRP       Mrp  \n",
       "0     DDR4  256 GB           SSD    35.56  36990  2.966419  \n",
       "1     DDR4  512 GB           SSD    39.62  39990  2.968910  \n",
       "2     DDR4  512 GB           SSD    39.62  32990  2.962647  \n",
       "3     DDR4  512 GB           SSD    39.62  49990  2.975699  \n",
       "4     DDR4  512 GB           SSD    39.62  49990  2.975699  "
      ]
     },
     "execution_count": 105,
     "metadata": {},
     "output_type": "execute_result"
    }
   ],
   "source": [
    "Flipkart.head()"
   ]
  },
  {
   "cell_type": "code",
   "execution_count": 216,
   "id": "280469b1",
   "metadata": {},
   "outputs": [],
   "source": [
    "# Identifying the inputs (X) and output (y)\n",
    "\n",
    "y = Flipkart['MRP']\n",
    "\n",
    "X = Flipkart[['Processor', 'Operating System', 'RAM Size', 'RAM Type', 'Storage', 'Storage Type', 'Display']]"
   ]
  },
  {
   "cell_type": "code",
   "execution_count": 217,
   "id": "eb195041",
   "metadata": {},
   "outputs": [],
   "source": [
    "# split into train and test\n",
    "\n",
    "from sklearn.model_selection import train_test_split\n",
    "\n",
    "X_train, X_test, y_train, y_test = train_test_split(X, y, train_size=0.7, random_state=100)"
   ]
  },
  {
   "cell_type": "code",
   "execution_count": 218,
   "id": "cebd2379",
   "metadata": {},
   "outputs": [
    {
     "data": {
      "text/html": [
       "<div>\n",
       "<style scoped>\n",
       "    .dataframe tbody tr th:only-of-type {\n",
       "        vertical-align: middle;\n",
       "    }\n",
       "\n",
       "    .dataframe tbody tr th {\n",
       "        vertical-align: top;\n",
       "    }\n",
       "\n",
       "    .dataframe thead th {\n",
       "        text-align: right;\n",
       "    }\n",
       "</style>\n",
       "<table border=\"1\" class=\"dataframe\">\n",
       "  <thead>\n",
       "    <tr style=\"text-align: right;\">\n",
       "      <th></th>\n",
       "      <th>Processor</th>\n",
       "      <th>Operating System</th>\n",
       "      <th>RAM Size</th>\n",
       "      <th>RAM Type</th>\n",
       "      <th>Storage</th>\n",
       "      <th>Storage Type</th>\n",
       "      <th>Display</th>\n",
       "    </tr>\n",
       "  </thead>\n",
       "  <tbody>\n",
       "    <tr>\n",
       "      <th>603</th>\n",
       "      <td>Intel Core i7</td>\n",
       "      <td>64 bit Windows 11</td>\n",
       "      <td>16</td>\n",
       "      <td>DDR5</td>\n",
       "      <td>1 TB</td>\n",
       "      <td>SSD</td>\n",
       "      <td>39.62</td>\n",
       "    </tr>\n",
       "    <tr>\n",
       "      <th>82</th>\n",
       "      <td>AMD Ryzen 9 Octa Core</td>\n",
       "      <td>64 bit Windows 11</td>\n",
       "      <td>16</td>\n",
       "      <td>DDR4</td>\n",
       "      <td>1 TB</td>\n",
       "      <td>SSD</td>\n",
       "      <td>39.62</td>\n",
       "    </tr>\n",
       "    <tr>\n",
       "      <th>249</th>\n",
       "      <td>Intel Core i3</td>\n",
       "      <td>64 bit Windows 11</td>\n",
       "      <td>8</td>\n",
       "      <td>DDR4</td>\n",
       "      <td>256 GB</td>\n",
       "      <td>SSD</td>\n",
       "      <td>35.56</td>\n",
       "    </tr>\n",
       "    <tr>\n",
       "      <th>623</th>\n",
       "      <td>Intel Core i5</td>\n",
       "      <td>64 bit Windows 10</td>\n",
       "      <td>16</td>\n",
       "      <td>DDR4</td>\n",
       "      <td>512 GB</td>\n",
       "      <td>SSD</td>\n",
       "      <td>35.56</td>\n",
       "    </tr>\n",
       "    <tr>\n",
       "      <th>229</th>\n",
       "      <td>Apple M1</td>\n",
       "      <td>Mac OS</td>\n",
       "      <td>8</td>\n",
       "      <td>DDR4</td>\n",
       "      <td>256 GB</td>\n",
       "      <td>SSD</td>\n",
       "      <td>33.78</td>\n",
       "    </tr>\n",
       "  </tbody>\n",
       "</table>\n",
       "</div>"
      ],
      "text/plain": [
       "                  Processor    Operating System  RAM Size RAM Type  Storage  \\\n",
       "603          Intel Core i7   64 bit Windows 11         16     DDR5    1 TB    \n",
       "82   AMD Ryzen 9 Octa Core   64 bit Windows 11         16     DDR4    1 TB    \n",
       "249          Intel Core i3   64 bit Windows 11          8     DDR4  256 GB    \n",
       "623          Intel Core i5   64 bit Windows 10         16     DDR4  512 GB    \n",
       "229               Apple M1              Mac OS          8     DDR4  256 GB    \n",
       "\n",
       "    Storage Type  Display  \n",
       "603          SSD    39.62  \n",
       "82           SSD    39.62  \n",
       "249          SSD    35.56  \n",
       "623          SSD    35.56  \n",
       "229          SSD    33.78  "
      ]
     },
     "execution_count": 218,
     "metadata": {},
     "output_type": "execute_result"
    }
   ],
   "source": [
    "X_train.head()"
   ]
  },
  {
   "cell_type": "code",
   "execution_count": 219,
   "id": "9a657037",
   "metadata": {},
   "outputs": [
    {
     "name": "stdout",
     "output_type": "stream",
     "text": [
      "(296, 7) (296,)\n",
      "(127, 7) (127,)\n"
     ]
    }
   ],
   "source": [
    "print(X_train.shape, y_train.shape)\n",
    "\n",
    "print(X_test.shape, y_test.shape)"
   ]
  },
  {
   "cell_type": "markdown",
   "id": "2267ca9a",
   "metadata": {},
   "source": [
    "### Separating Categorical and Numerical Columns:"
   ]
  },
  {
   "cell_type": "code",
   "execution_count": 220,
   "id": "dd148460",
   "metadata": {},
   "outputs": [
    {
     "data": {
      "text/html": [
       "<div>\n",
       "<style scoped>\n",
       "    .dataframe tbody tr th:only-of-type {\n",
       "        vertical-align: middle;\n",
       "    }\n",
       "\n",
       "    .dataframe tbody tr th {\n",
       "        vertical-align: top;\n",
       "    }\n",
       "\n",
       "    .dataframe thead th {\n",
       "        text-align: right;\n",
       "    }\n",
       "</style>\n",
       "<table border=\"1\" class=\"dataframe\">\n",
       "  <thead>\n",
       "    <tr style=\"text-align: right;\">\n",
       "      <th></th>\n",
       "      <th>Processor</th>\n",
       "      <th>Operating System</th>\n",
       "      <th>RAM Size</th>\n",
       "      <th>RAM Type</th>\n",
       "      <th>Storage</th>\n",
       "      <th>Storage Type</th>\n",
       "      <th>Display</th>\n",
       "    </tr>\n",
       "  </thead>\n",
       "  <tbody>\n",
       "    <tr>\n",
       "      <th>603</th>\n",
       "      <td>Intel Core i7</td>\n",
       "      <td>64 bit Windows 11</td>\n",
       "      <td>16</td>\n",
       "      <td>DDR5</td>\n",
       "      <td>1 TB</td>\n",
       "      <td>SSD</td>\n",
       "      <td>39.62</td>\n",
       "    </tr>\n",
       "    <tr>\n",
       "      <th>82</th>\n",
       "      <td>AMD Ryzen 9 Octa Core</td>\n",
       "      <td>64 bit Windows 11</td>\n",
       "      <td>16</td>\n",
       "      <td>DDR4</td>\n",
       "      <td>1 TB</td>\n",
       "      <td>SSD</td>\n",
       "      <td>39.62</td>\n",
       "    </tr>\n",
       "    <tr>\n",
       "      <th>249</th>\n",
       "      <td>Intel Core i3</td>\n",
       "      <td>64 bit Windows 11</td>\n",
       "      <td>8</td>\n",
       "      <td>DDR4</td>\n",
       "      <td>256 GB</td>\n",
       "      <td>SSD</td>\n",
       "      <td>35.56</td>\n",
       "    </tr>\n",
       "    <tr>\n",
       "      <th>623</th>\n",
       "      <td>Intel Core i5</td>\n",
       "      <td>64 bit Windows 10</td>\n",
       "      <td>16</td>\n",
       "      <td>DDR4</td>\n",
       "      <td>512 GB</td>\n",
       "      <td>SSD</td>\n",
       "      <td>35.56</td>\n",
       "    </tr>\n",
       "    <tr>\n",
       "      <th>229</th>\n",
       "      <td>Apple M1</td>\n",
       "      <td>Mac OS</td>\n",
       "      <td>8</td>\n",
       "      <td>DDR4</td>\n",
       "      <td>256 GB</td>\n",
       "      <td>SSD</td>\n",
       "      <td>33.78</td>\n",
       "    </tr>\n",
       "  </tbody>\n",
       "</table>\n",
       "</div>"
      ],
      "text/plain": [
       "                  Processor    Operating System  RAM Size RAM Type  Storage  \\\n",
       "603          Intel Core i7   64 bit Windows 11         16     DDR5    1 TB    \n",
       "82   AMD Ryzen 9 Octa Core   64 bit Windows 11         16     DDR4    1 TB    \n",
       "249          Intel Core i3   64 bit Windows 11          8     DDR4  256 GB    \n",
       "623          Intel Core i5   64 bit Windows 10         16     DDR4  512 GB    \n",
       "229               Apple M1              Mac OS          8     DDR4  256 GB    \n",
       "\n",
       "    Storage Type  Display  \n",
       "603          SSD    39.62  \n",
       "82           SSD    39.62  \n",
       "249          SSD    35.56  \n",
       "623          SSD    35.56  \n",
       "229          SSD    33.78  "
      ]
     },
     "execution_count": 220,
     "metadata": {},
     "output_type": "execute_result"
    }
   ],
   "source": [
    "X_train.head()"
   ]
  },
  {
   "cell_type": "code",
   "execution_count": 221,
   "id": "c0352320",
   "metadata": {},
   "outputs": [
    {
     "data": {
      "text/plain": [
       "Processor            object\n",
       "Operating System     object\n",
       "RAM Size              int64\n",
       "RAM Type             object\n",
       "Storage              object\n",
       "Storage Type         object\n",
       "Display             float64\n",
       "dtype: object"
      ]
     },
     "execution_count": 221,
     "metadata": {},
     "output_type": "execute_result"
    }
   ],
   "source": [
    "X_train.dtypes"
   ]
  },
  {
   "cell_type": "code",
   "execution_count": 222,
   "id": "6bb87654",
   "metadata": {},
   "outputs": [
    {
     "data": {
      "text/html": [
       "<div>\n",
       "<style scoped>\n",
       "    .dataframe tbody tr th:only-of-type {\n",
       "        vertical-align: middle;\n",
       "    }\n",
       "\n",
       "    .dataframe tbody tr th {\n",
       "        vertical-align: top;\n",
       "    }\n",
       "\n",
       "    .dataframe thead th {\n",
       "        text-align: right;\n",
       "    }\n",
       "</style>\n",
       "<table border=\"1\" class=\"dataframe\">\n",
       "  <thead>\n",
       "    <tr style=\"text-align: right;\">\n",
       "      <th></th>\n",
       "      <th>Processor</th>\n",
       "      <th>Operating System</th>\n",
       "      <th>RAM Type</th>\n",
       "      <th>Storage</th>\n",
       "      <th>Storage Type</th>\n",
       "    </tr>\n",
       "  </thead>\n",
       "  <tbody>\n",
       "    <tr>\n",
       "      <th>603</th>\n",
       "      <td>Intel Core i7</td>\n",
       "      <td>64 bit Windows 11</td>\n",
       "      <td>DDR5</td>\n",
       "      <td>1 TB</td>\n",
       "      <td>SSD</td>\n",
       "    </tr>\n",
       "    <tr>\n",
       "      <th>82</th>\n",
       "      <td>AMD Ryzen 9 Octa Core</td>\n",
       "      <td>64 bit Windows 11</td>\n",
       "      <td>DDR4</td>\n",
       "      <td>1 TB</td>\n",
       "      <td>SSD</td>\n",
       "    </tr>\n",
       "    <tr>\n",
       "      <th>249</th>\n",
       "      <td>Intel Core i3</td>\n",
       "      <td>64 bit Windows 11</td>\n",
       "      <td>DDR4</td>\n",
       "      <td>256 GB</td>\n",
       "      <td>SSD</td>\n",
       "    </tr>\n",
       "    <tr>\n",
       "      <th>623</th>\n",
       "      <td>Intel Core i5</td>\n",
       "      <td>64 bit Windows 10</td>\n",
       "      <td>DDR4</td>\n",
       "      <td>512 GB</td>\n",
       "      <td>SSD</td>\n",
       "    </tr>\n",
       "    <tr>\n",
       "      <th>229</th>\n",
       "      <td>Apple M1</td>\n",
       "      <td>Mac OS</td>\n",
       "      <td>DDR4</td>\n",
       "      <td>256 GB</td>\n",
       "      <td>SSD</td>\n",
       "    </tr>\n",
       "  </tbody>\n",
       "</table>\n",
       "</div>"
      ],
      "text/plain": [
       "                  Processor    Operating System RAM Type  Storage Storage Type\n",
       "603          Intel Core i7   64 bit Windows 11      DDR5    1 TB           SSD\n",
       "82   AMD Ryzen 9 Octa Core   64 bit Windows 11      DDR4    1 TB           SSD\n",
       "249          Intel Core i3   64 bit Windows 11      DDR4  256 GB           SSD\n",
       "623          Intel Core i5   64 bit Windows 10      DDR4  512 GB           SSD\n",
       "229               Apple M1              Mac OS      DDR4  256 GB           SSD"
      ]
     },
     "execution_count": 222,
     "metadata": {},
     "output_type": "execute_result"
    }
   ],
   "source": [
    "X_train_cat = X_train.select_dtypes(include=['object'])\n",
    "\n",
    "X_train_cat.head()"
   ]
  },
  {
   "cell_type": "code",
   "execution_count": 223,
   "id": "c01708e3",
   "metadata": {},
   "outputs": [
    {
     "data": {
      "text/html": [
       "<div>\n",
       "<style scoped>\n",
       "    .dataframe tbody tr th:only-of-type {\n",
       "        vertical-align: middle;\n",
       "    }\n",
       "\n",
       "    .dataframe tbody tr th {\n",
       "        vertical-align: top;\n",
       "    }\n",
       "\n",
       "    .dataframe thead th {\n",
       "        text-align: right;\n",
       "    }\n",
       "</style>\n",
       "<table border=\"1\" class=\"dataframe\">\n",
       "  <thead>\n",
       "    <tr style=\"text-align: right;\">\n",
       "      <th></th>\n",
       "      <th>RAM Size</th>\n",
       "      <th>Display</th>\n",
       "    </tr>\n",
       "  </thead>\n",
       "  <tbody>\n",
       "    <tr>\n",
       "      <th>603</th>\n",
       "      <td>16</td>\n",
       "      <td>39.62</td>\n",
       "    </tr>\n",
       "    <tr>\n",
       "      <th>82</th>\n",
       "      <td>16</td>\n",
       "      <td>39.62</td>\n",
       "    </tr>\n",
       "    <tr>\n",
       "      <th>249</th>\n",
       "      <td>8</td>\n",
       "      <td>35.56</td>\n",
       "    </tr>\n",
       "    <tr>\n",
       "      <th>623</th>\n",
       "      <td>16</td>\n",
       "      <td>35.56</td>\n",
       "    </tr>\n",
       "    <tr>\n",
       "      <th>229</th>\n",
       "      <td>8</td>\n",
       "      <td>33.78</td>\n",
       "    </tr>\n",
       "  </tbody>\n",
       "</table>\n",
       "</div>"
      ],
      "text/plain": [
       "     RAM Size  Display\n",
       "603        16    39.62\n",
       "82         16    39.62\n",
       "249         8    35.56\n",
       "623        16    35.56\n",
       "229         8    33.78"
      ]
     },
     "execution_count": 223,
     "metadata": {},
     "output_type": "execute_result"
    }
   ],
   "source": [
    "X_train_num = X_train.select_dtypes(include=['int64', 'float64'])\n",
    "\n",
    "X_train_num.head()"
   ]
  },
  {
   "cell_type": "markdown",
   "id": "e50c8fd0",
   "metadata": {},
   "source": [
    "### Scaling the Numerical Features"
   ]
  },
  {
   "cell_type": "code",
   "execution_count": 202,
   "id": "6a7157c4",
   "metadata": {},
   "outputs": [
    {
     "data": {
      "text/html": [
       "<div>\n",
       "<style scoped>\n",
       "    .dataframe tbody tr th:only-of-type {\n",
       "        vertical-align: middle;\n",
       "    }\n",
       "\n",
       "    .dataframe tbody tr th {\n",
       "        vertical-align: top;\n",
       "    }\n",
       "\n",
       "    .dataframe thead th {\n",
       "        text-align: right;\n",
       "    }\n",
       "</style>\n",
       "<table border=\"1\" class=\"dataframe\">\n",
       "  <thead>\n",
       "    <tr style=\"text-align: right;\">\n",
       "      <th></th>\n",
       "      <th>RAM Size</th>\n",
       "      <th>Display</th>\n",
       "    </tr>\n",
       "  </thead>\n",
       "  <tbody>\n",
       "    <tr>\n",
       "      <th>603</th>\n",
       "      <td>16</td>\n",
       "      <td>39.62</td>\n",
       "    </tr>\n",
       "    <tr>\n",
       "      <th>82</th>\n",
       "      <td>16</td>\n",
       "      <td>39.62</td>\n",
       "    </tr>\n",
       "    <tr>\n",
       "      <th>249</th>\n",
       "      <td>8</td>\n",
       "      <td>35.56</td>\n",
       "    </tr>\n",
       "    <tr>\n",
       "      <th>623</th>\n",
       "      <td>16</td>\n",
       "      <td>35.56</td>\n",
       "    </tr>\n",
       "    <tr>\n",
       "      <th>229</th>\n",
       "      <td>8</td>\n",
       "      <td>33.78</td>\n",
       "    </tr>\n",
       "  </tbody>\n",
       "</table>\n",
       "</div>"
      ],
      "text/plain": [
       "     RAM Size  Display\n",
       "603        16    39.62\n",
       "82         16    39.62\n",
       "249         8    35.56\n",
       "623        16    35.56\n",
       "229         8    33.78"
      ]
     },
     "execution_count": 202,
     "metadata": {},
     "output_type": "execute_result"
    }
   ],
   "source": [
    "X_train_num.head()"
   ]
  },
  {
   "cell_type": "code",
   "execution_count": 225,
   "id": "f914433e",
   "metadata": {},
   "outputs": [
    {
     "data": {
      "text/html": [
       "<div>\n",
       "<style scoped>\n",
       "    .dataframe tbody tr th:only-of-type {\n",
       "        vertical-align: middle;\n",
       "    }\n",
       "\n",
       "    .dataframe tbody tr th {\n",
       "        vertical-align: top;\n",
       "    }\n",
       "\n",
       "    .dataframe thead th {\n",
       "        text-align: right;\n",
       "    }\n",
       "</style>\n",
       "<table border=\"1\" class=\"dataframe\">\n",
       "  <thead>\n",
       "    <tr style=\"text-align: right;\">\n",
       "      <th></th>\n",
       "      <th>RAM Size</th>\n",
       "      <th>Display</th>\n",
       "    </tr>\n",
       "  </thead>\n",
       "  <tbody>\n",
       "    <tr>\n",
       "      <th>603</th>\n",
       "      <td>16</td>\n",
       "      <td>39.62</td>\n",
       "    </tr>\n",
       "    <tr>\n",
       "      <th>82</th>\n",
       "      <td>16</td>\n",
       "      <td>39.62</td>\n",
       "    </tr>\n",
       "    <tr>\n",
       "      <th>249</th>\n",
       "      <td>8</td>\n",
       "      <td>35.56</td>\n",
       "    </tr>\n",
       "    <tr>\n",
       "      <th>623</th>\n",
       "      <td>16</td>\n",
       "      <td>35.56</td>\n",
       "    </tr>\n",
       "    <tr>\n",
       "      <th>229</th>\n",
       "      <td>8</td>\n",
       "      <td>33.78</td>\n",
       "    </tr>\n",
       "    <tr>\n",
       "      <th>...</th>\n",
       "      <td>...</td>\n",
       "      <td>...</td>\n",
       "    </tr>\n",
       "    <tr>\n",
       "      <th>575</th>\n",
       "      <td>4</td>\n",
       "      <td>39.62</td>\n",
       "    </tr>\n",
       "    <tr>\n",
       "      <th>608</th>\n",
       "      <td>8</td>\n",
       "      <td>35.56</td>\n",
       "    </tr>\n",
       "    <tr>\n",
       "      <th>538</th>\n",
       "      <td>4</td>\n",
       "      <td>39.62</td>\n",
       "    </tr>\n",
       "    <tr>\n",
       "      <th>453</th>\n",
       "      <td>16</td>\n",
       "      <td>39.62</td>\n",
       "    </tr>\n",
       "    <tr>\n",
       "      <th>8</th>\n",
       "      <td>8</td>\n",
       "      <td>35.56</td>\n",
       "    </tr>\n",
       "  </tbody>\n",
       "</table>\n",
       "<p>296 rows × 2 columns</p>\n",
       "</div>"
      ],
      "text/plain": [
       "     RAM Size  Display\n",
       "603        16    39.62\n",
       "82         16    39.62\n",
       "249         8    35.56\n",
       "623        16    35.56\n",
       "229         8    33.78\n",
       "..        ...      ...\n",
       "575         4    39.62\n",
       "608         8    35.56\n",
       "538         4    39.62\n",
       "453        16    39.62\n",
       "8           8    35.56\n",
       "\n",
       "[296 rows x 2 columns]"
      ]
     },
     "execution_count": 225,
     "metadata": {},
     "output_type": "execute_result"
    }
   ],
   "source": [
    "X_train_num"
   ]
  },
  {
   "cell_type": "markdown",
   "id": "432457c0",
   "metadata": {},
   "source": [
    "###  Applying Label Encoding on Categorical Columns"
   ]
  },
  {
   "cell_type": "code",
   "execution_count": 226,
   "id": "596bb9ea",
   "metadata": {},
   "outputs": [
    {
     "data": {
      "text/html": [
       "<div>\n",
       "<style scoped>\n",
       "    .dataframe tbody tr th:only-of-type {\n",
       "        vertical-align: middle;\n",
       "    }\n",
       "\n",
       "    .dataframe tbody tr th {\n",
       "        vertical-align: top;\n",
       "    }\n",
       "\n",
       "    .dataframe thead th {\n",
       "        text-align: right;\n",
       "    }\n",
       "</style>\n",
       "<table border=\"1\" class=\"dataframe\">\n",
       "  <thead>\n",
       "    <tr style=\"text-align: right;\">\n",
       "      <th></th>\n",
       "    </tr>\n",
       "  </thead>\n",
       "  <tbody>\n",
       "    <tr>\n",
       "      <th>603</th>\n",
       "    </tr>\n",
       "    <tr>\n",
       "      <th>82</th>\n",
       "    </tr>\n",
       "    <tr>\n",
       "      <th>249</th>\n",
       "    </tr>\n",
       "    <tr>\n",
       "      <th>623</th>\n",
       "    </tr>\n",
       "    <tr>\n",
       "      <th>229</th>\n",
       "    </tr>\n",
       "  </tbody>\n",
       "</table>\n",
       "</div>"
      ],
      "text/plain": [
       "Empty DataFrame\n",
       "Columns: []\n",
       "Index: [603, 82, 249, 623, 229]"
      ]
     },
     "execution_count": 226,
     "metadata": {},
     "output_type": "execute_result"
    }
   ],
   "source": [
    "X_train_cat_le = pd.DataFrame(index=X_train_cat.index)\n",
    "\n",
    "X_train_cat_le.head()"
   ]
  },
  {
   "cell_type": "code",
   "execution_count": 227,
   "id": "43a0e507",
   "metadata": {},
   "outputs": [
    {
     "data": {
      "text/plain": [
       "array(['Intel Core i7 ', 'AMD Ryzen 9 Octa Core ', 'Intel Core i3 ',\n",
       "       'Intel Core i5 ', 'Apple M1 ', 'Apple M1 Pro ',\n",
       "       'AMD Ryzen 3 Dual Core ', 'Intel Celeron Dual Core ',\n",
       "       'AMD Athlon Dual Core ', 'AMD Ryzen 5 Hexa Core ',\n",
       "       'AMD Ryzen 5 Dual Core ', 'AMD Ryzen 5 Quad Core ',\n",
       "       'Intel Core i9 ', 'AMD Ryzen 7 Octa Core ',\n",
       "       'Qualcomm Snapdragon 7c Gen 2 ', 'Apple M1 Max ', 'Apple M2 ',\n",
       "       'Intel OptaneIntel Core i3 ', 'AMD Ryzen 7 Quad Core ',\n",
       "       'Intel Pentium Quad Core ', 'AMD Ryzen 3 Quad Core ',\n",
       "       'Intel Pentium Silver ', 'AMD Dual Core '], dtype=object)"
      ]
     },
     "execution_count": 227,
     "metadata": {},
     "output_type": "execute_result"
    }
   ],
   "source": [
    "X_train_cat.Processor.unique()"
   ]
  },
  {
   "cell_type": "code",
   "execution_count": 228,
   "id": "ffbed7ec",
   "metadata": {},
   "outputs": [
    {
     "data": {
      "text/html": [
       "<div>\n",
       "<style scoped>\n",
       "    .dataframe tbody tr th:only-of-type {\n",
       "        vertical-align: middle;\n",
       "    }\n",
       "\n",
       "    .dataframe tbody tr th {\n",
       "        vertical-align: top;\n",
       "    }\n",
       "\n",
       "    .dataframe thead th {\n",
       "        text-align: right;\n",
       "    }\n",
       "</style>\n",
       "<table border=\"1\" class=\"dataframe\">\n",
       "  <thead>\n",
       "    <tr style=\"text-align: right;\">\n",
       "      <th></th>\n",
       "      <th>Processor</th>\n",
       "    </tr>\n",
       "  </thead>\n",
       "  <tbody>\n",
       "    <tr>\n",
       "      <th>603</th>\n",
       "      <td>6</td>\n",
       "    </tr>\n",
       "    <tr>\n",
       "      <th>82</th>\n",
       "      <td>4</td>\n",
       "    </tr>\n",
       "    <tr>\n",
       "      <th>249</th>\n",
       "      <td>13</td>\n",
       "    </tr>\n",
       "    <tr>\n",
       "      <th>623</th>\n",
       "      <td>9</td>\n",
       "    </tr>\n",
       "    <tr>\n",
       "      <th>229</th>\n",
       "      <td>8</td>\n",
       "    </tr>\n",
       "  </tbody>\n",
       "</table>\n",
       "</div>"
      ],
      "text/plain": [
       "     Processor\n",
       "603          6\n",
       "82           4\n",
       "249         13\n",
       "623          9\n",
       "229          8"
      ]
     },
     "execution_count": 228,
     "metadata": {},
     "output_type": "execute_result"
    }
   ],
   "source": [
    "#processor\n",
    "cut_encoder = {'Intel Core i7 ': 6, 'AMD Ryzen 9 Octa Core ': 4, 'Intel Core i3 ': 13,\n",
    "       'Intel Core i5 ': 9, 'Apple M1 ': 8, 'Apple M1 Pro ': 3,\n",
    "       'AMD Ryzen 3 Dual Core ':7, 'Intel Celeron Dual Core ': 23,\n",
    "       'AMD Athlon Dual Core ': 17, 'AMD Ryzen 5 Hexa Core ': 10,\n",
    "       'AMD Ryzen 5 Dual Core ': 11, 'AMD Ryzen 5 Quad Core ': 12,\n",
    "       'Intel Core i9 ': 2, 'AMD Ryzen 7 Octa Core ': 16,\n",
    "       'Qualcomm Snapdragon 7c Gen 2 ': 15, 'Apple M1 Max ': 1, 'Apple M2 ': 5,\n",
    "       'Intel OptaneIntel Core i3 ': 18, 'AMD Ryzen 7 Quad Core ': 14,\n",
    "       'Intel Pentium Quad Core ': 19, 'AMD Ryzen 3 Quad Core ': 20,\n",
    "       'Intel Pentium Silver ': 21, 'AMD Dual Core ': 22,'Intel Evo Core i5 Intel Core i5 ': 24,\n",
    "               'Intel Celeron Quad Core ': 25,'AMD Ryzen 3 Hexa Core ':26}\n",
    "\n",
    "X_train_cat_le['Processor'] = X_train_cat['Processor'].apply(lambda x : cut_encoder[x])\n",
    "\n",
    "X_train_cat_le.head()"
   ]
  },
  {
   "cell_type": "code",
   "execution_count": 229,
   "id": "65e0b9b3",
   "metadata": {},
   "outputs": [
    {
     "data": {
      "text/plain": [
       "array(['64 bit Windows 11 ', '64 bit Windows 10 ', 'Mac OS ',\n",
       "       '64 bit DOS ', '64 bit Chrome', '64 bit Windows 11',\n",
       "       '32 bit Windows 11 ', '64 bit Chrome ', '64 bit DOS',\n",
       "       '64 bit Windows 10'], dtype=object)"
      ]
     },
     "execution_count": 229,
     "metadata": {},
     "output_type": "execute_result"
    }
   ],
   "source": [
    "X_train_cat['Operating System'].unique()"
   ]
  },
  {
   "cell_type": "code",
   "execution_count": 230,
   "id": "8e3ff328",
   "metadata": {},
   "outputs": [
    {
     "data": {
      "text/html": [
       "<div>\n",
       "<style scoped>\n",
       "    .dataframe tbody tr th:only-of-type {\n",
       "        vertical-align: middle;\n",
       "    }\n",
       "\n",
       "    .dataframe tbody tr th {\n",
       "        vertical-align: top;\n",
       "    }\n",
       "\n",
       "    .dataframe thead th {\n",
       "        text-align: right;\n",
       "    }\n",
       "</style>\n",
       "<table border=\"1\" class=\"dataframe\">\n",
       "  <thead>\n",
       "    <tr style=\"text-align: right;\">\n",
       "      <th></th>\n",
       "      <th>Processor</th>\n",
       "      <th>Operating System</th>\n",
       "    </tr>\n",
       "  </thead>\n",
       "  <tbody>\n",
       "    <tr>\n",
       "      <th>603</th>\n",
       "      <td>6</td>\n",
       "      <td>1</td>\n",
       "    </tr>\n",
       "    <tr>\n",
       "      <th>82</th>\n",
       "      <td>4</td>\n",
       "      <td>1</td>\n",
       "    </tr>\n",
       "    <tr>\n",
       "      <th>249</th>\n",
       "      <td>13</td>\n",
       "      <td>1</td>\n",
       "    </tr>\n",
       "    <tr>\n",
       "      <th>623</th>\n",
       "      <td>9</td>\n",
       "      <td>3</td>\n",
       "    </tr>\n",
       "    <tr>\n",
       "      <th>229</th>\n",
       "      <td>8</td>\n",
       "      <td>10</td>\n",
       "    </tr>\n",
       "  </tbody>\n",
       "</table>\n",
       "</div>"
      ],
      "text/plain": [
       "     Processor  Operating System\n",
       "603          6                 1\n",
       "82           4                 1\n",
       "249         13                 1\n",
       "623          9                 3\n",
       "229          8                10"
      ]
     },
     "execution_count": 230,
     "metadata": {},
     "output_type": "execute_result"
    }
   ],
   "source": [
    "Operating_encoder = {'64 bit Windows 11 ': 1, '64 bit Windows 10 ': 3, 'Mac OS ': 10,\n",
    "       '64 bit DOS ': 8, '64 bit Chrome': 6, '64 bit Windows 11': 2 ,\n",
    "       '32 bit Windows 11 ': 5, '64 bit Chrome ': 7, '64 bit DOS':9,\n",
    "       '64 bit Windows 10': 4}\n",
    "\n",
    "X_train_cat_le['Operating System'] = X_train_cat['Operating System'].apply(lambda x : Operating_encoder[x])\n",
    "\n",
    "X_train_cat_le.head()"
   ]
  },
  {
   "cell_type": "code",
   "execution_count": 231,
   "id": "46f4929e",
   "metadata": {},
   "outputs": [
    {
     "data": {
      "text/plain": [
       "array(['  DDR5', '  DDR4', '  Unified', '  LPDDR4X', '  LPDDR4',\n",
       "       '  LPDDR5'], dtype=object)"
      ]
     },
     "execution_count": 231,
     "metadata": {},
     "output_type": "execute_result"
    }
   ],
   "source": [
    "X_train_cat['RAM Type'].unique()"
   ]
  },
  {
   "cell_type": "code",
   "execution_count": 232,
   "id": "8f6ed19a",
   "metadata": {},
   "outputs": [
    {
     "data": {
      "text/html": [
       "<div>\n",
       "<style scoped>\n",
       "    .dataframe tbody tr th:only-of-type {\n",
       "        vertical-align: middle;\n",
       "    }\n",
       "\n",
       "    .dataframe tbody tr th {\n",
       "        vertical-align: top;\n",
       "    }\n",
       "\n",
       "    .dataframe thead th {\n",
       "        text-align: right;\n",
       "    }\n",
       "</style>\n",
       "<table border=\"1\" class=\"dataframe\">\n",
       "  <thead>\n",
       "    <tr style=\"text-align: right;\">\n",
       "      <th></th>\n",
       "      <th>Processor</th>\n",
       "      <th>Operating System</th>\n",
       "      <th>RAM Type</th>\n",
       "    </tr>\n",
       "  </thead>\n",
       "  <tbody>\n",
       "    <tr>\n",
       "      <th>603</th>\n",
       "      <td>6</td>\n",
       "      <td>1</td>\n",
       "      <td>1</td>\n",
       "    </tr>\n",
       "    <tr>\n",
       "      <th>82</th>\n",
       "      <td>4</td>\n",
       "      <td>1</td>\n",
       "      <td>2</td>\n",
       "    </tr>\n",
       "    <tr>\n",
       "      <th>249</th>\n",
       "      <td>13</td>\n",
       "      <td>1</td>\n",
       "      <td>2</td>\n",
       "    </tr>\n",
       "    <tr>\n",
       "      <th>623</th>\n",
       "      <td>9</td>\n",
       "      <td>3</td>\n",
       "      <td>2</td>\n",
       "    </tr>\n",
       "    <tr>\n",
       "      <th>229</th>\n",
       "      <td>8</td>\n",
       "      <td>10</td>\n",
       "      <td>2</td>\n",
       "    </tr>\n",
       "  </tbody>\n",
       "</table>\n",
       "</div>"
      ],
      "text/plain": [
       "     Processor  Operating System  RAM Type\n",
       "603          6                 1         1\n",
       "82           4                 1         2\n",
       "249         13                 1         2\n",
       "623          9                 3         2\n",
       "229          8                10         2"
      ]
     },
     "execution_count": 232,
     "metadata": {},
     "output_type": "execute_result"
    }
   ],
   "source": [
    "Type_encoder = {'  DDR5': 1, '  DDR4': 2, '  Unified': 3, '  LPDDR4X': 4, '  LPDDR4': 5,\n",
    "       '  LPDDR5': 6,'  SSD':7,'  LPDDR3': 8}\n",
    "\n",
    "X_train_cat_le['RAM Type'] = X_train_cat['RAM Type'].apply(lambda x : Type_encoder[x])\n",
    "\n",
    "X_train_cat_le.head()"
   ]
  },
  {
   "cell_type": "code",
   "execution_count": 233,
   "id": "0defe184",
   "metadata": {},
   "outputs": [
    {
     "data": {
      "text/plain": [
       "array(['SSD', 'HDD,SSD', 'HDD'], dtype=object)"
      ]
     },
     "execution_count": 233,
     "metadata": {},
     "output_type": "execute_result"
    }
   ],
   "source": [
    "X_train_cat['Storage Type'].unique()"
   ]
  },
  {
   "cell_type": "code",
   "execution_count": 234,
   "id": "ad3cb1a2",
   "metadata": {},
   "outputs": [
    {
     "data": {
      "text/html": [
       "<div>\n",
       "<style scoped>\n",
       "    .dataframe tbody tr th:only-of-type {\n",
       "        vertical-align: middle;\n",
       "    }\n",
       "\n",
       "    .dataframe tbody tr th {\n",
       "        vertical-align: top;\n",
       "    }\n",
       "\n",
       "    .dataframe thead th {\n",
       "        text-align: right;\n",
       "    }\n",
       "</style>\n",
       "<table border=\"1\" class=\"dataframe\">\n",
       "  <thead>\n",
       "    <tr style=\"text-align: right;\">\n",
       "      <th></th>\n",
       "      <th>Processor</th>\n",
       "      <th>Operating System</th>\n",
       "      <th>RAM Type</th>\n",
       "      <th>Storage Type</th>\n",
       "    </tr>\n",
       "  </thead>\n",
       "  <tbody>\n",
       "    <tr>\n",
       "      <th>603</th>\n",
       "      <td>6</td>\n",
       "      <td>1</td>\n",
       "      <td>1</td>\n",
       "      <td>1</td>\n",
       "    </tr>\n",
       "    <tr>\n",
       "      <th>82</th>\n",
       "      <td>4</td>\n",
       "      <td>1</td>\n",
       "      <td>2</td>\n",
       "      <td>1</td>\n",
       "    </tr>\n",
       "    <tr>\n",
       "      <th>249</th>\n",
       "      <td>13</td>\n",
       "      <td>1</td>\n",
       "      <td>2</td>\n",
       "      <td>1</td>\n",
       "    </tr>\n",
       "    <tr>\n",
       "      <th>623</th>\n",
       "      <td>9</td>\n",
       "      <td>3</td>\n",
       "      <td>2</td>\n",
       "      <td>1</td>\n",
       "    </tr>\n",
       "    <tr>\n",
       "      <th>229</th>\n",
       "      <td>8</td>\n",
       "      <td>10</td>\n",
       "      <td>2</td>\n",
       "      <td>1</td>\n",
       "    </tr>\n",
       "  </tbody>\n",
       "</table>\n",
       "</div>"
      ],
      "text/plain": [
       "     Processor  Operating System  RAM Type  Storage Type\n",
       "603          6                 1         1             1\n",
       "82           4                 1         2             1\n",
       "249         13                 1         2             1\n",
       "623          9                 3         2             1\n",
       "229          8                10         2             1"
      ]
     },
     "execution_count": 234,
     "metadata": {},
     "output_type": "execute_result"
    }
   ],
   "source": [
    "storagetype_encoder = {'SSD': 1, 'HDD,SSD': 3, 'HDD': 2,'SSD,HDD,SSD': 4}\n",
    "\n",
    "X_train_cat_le['Storage Type'] = X_train_cat['Storage Type'].apply(lambda x : storagetype_encoder[x])\n",
    "\n",
    "X_train_cat_le.head()"
   ]
  },
  {
   "cell_type": "code",
   "execution_count": 235,
   "id": "99c8b57a",
   "metadata": {},
   "outputs": [
    {
     "data": {
      "text/plain": [
       "array(['1 TB ', '256 GB ', '512 GB ', '1 TB 256 GB ', '2 TB ', '128 GB ',\n",
       "       '1 TB 512 GB ', '256 GB 256 GB '], dtype=object)"
      ]
     },
     "execution_count": 235,
     "metadata": {},
     "output_type": "execute_result"
    }
   ],
   "source": [
    "X_train_cat['Storage'].unique()"
   ]
  },
  {
   "cell_type": "code",
   "execution_count": 236,
   "id": "276391f8",
   "metadata": {},
   "outputs": [
    {
     "data": {
      "text/html": [
       "<div>\n",
       "<style scoped>\n",
       "    .dataframe tbody tr th:only-of-type {\n",
       "        vertical-align: middle;\n",
       "    }\n",
       "\n",
       "    .dataframe tbody tr th {\n",
       "        vertical-align: top;\n",
       "    }\n",
       "\n",
       "    .dataframe thead th {\n",
       "        text-align: right;\n",
       "    }\n",
       "</style>\n",
       "<table border=\"1\" class=\"dataframe\">\n",
       "  <thead>\n",
       "    <tr style=\"text-align: right;\">\n",
       "      <th></th>\n",
       "      <th>Processor</th>\n",
       "      <th>Operating System</th>\n",
       "      <th>RAM Type</th>\n",
       "      <th>Storage Type</th>\n",
       "      <th>Storage</th>\n",
       "    </tr>\n",
       "  </thead>\n",
       "  <tbody>\n",
       "    <tr>\n",
       "      <th>603</th>\n",
       "      <td>6</td>\n",
       "      <td>1</td>\n",
       "      <td>1</td>\n",
       "      <td>1</td>\n",
       "      <td>1</td>\n",
       "    </tr>\n",
       "    <tr>\n",
       "      <th>82</th>\n",
       "      <td>4</td>\n",
       "      <td>1</td>\n",
       "      <td>2</td>\n",
       "      <td>1</td>\n",
       "      <td>1</td>\n",
       "    </tr>\n",
       "    <tr>\n",
       "      <th>249</th>\n",
       "      <td>13</td>\n",
       "      <td>1</td>\n",
       "      <td>2</td>\n",
       "      <td>1</td>\n",
       "      <td>2</td>\n",
       "    </tr>\n",
       "    <tr>\n",
       "      <th>623</th>\n",
       "      <td>9</td>\n",
       "      <td>3</td>\n",
       "      <td>2</td>\n",
       "      <td>1</td>\n",
       "      <td>3</td>\n",
       "    </tr>\n",
       "    <tr>\n",
       "      <th>229</th>\n",
       "      <td>8</td>\n",
       "      <td>10</td>\n",
       "      <td>2</td>\n",
       "      <td>1</td>\n",
       "      <td>2</td>\n",
       "    </tr>\n",
       "  </tbody>\n",
       "</table>\n",
       "</div>"
      ],
      "text/plain": [
       "     Processor  Operating System  RAM Type  Storage Type  Storage\n",
       "603          6                 1         1             1        1\n",
       "82           4                 1         2             1        1\n",
       "249         13                 1         2             1        2\n",
       "623          9                 3         2             1        3\n",
       "229          8                10         2             1        2"
      ]
     },
     "execution_count": 236,
     "metadata": {},
     "output_type": "execute_result"
    }
   ],
   "source": [
    "storage_encoder = {'1 TB ': 1, '256 GB ': 2, '512 GB ': 3, '1 TB 256 GB ': 4, '2 TB ': 5, '128 GB ': 6,\n",
    "       '1 TB 512 GB ': 7, '256 GB 256 GB ': 8,'128 GB 1 TB 128 GB ': 9}\n",
    "\n",
    "X_train_cat_le['Storage'] = X_train_cat['Storage'].apply(lambda x : storage_encoder[x])\n",
    "\n",
    "X_train_cat_le.head()"
   ]
  },
  {
   "cell_type": "markdown",
   "id": "0869d8f2",
   "metadata": {},
   "source": [
    "### Concatinating the Encoded Categorical Features and Rescaled Numerical Features:"
   ]
  },
  {
   "cell_type": "code",
   "execution_count": 237,
   "id": "d66543f1",
   "metadata": {},
   "outputs": [
    {
     "data": {
      "text/html": [
       "<div>\n",
       "<style scoped>\n",
       "    .dataframe tbody tr th:only-of-type {\n",
       "        vertical-align: middle;\n",
       "    }\n",
       "\n",
       "    .dataframe tbody tr th {\n",
       "        vertical-align: top;\n",
       "    }\n",
       "\n",
       "    .dataframe thead th {\n",
       "        text-align: right;\n",
       "    }\n",
       "</style>\n",
       "<table border=\"1\" class=\"dataframe\">\n",
       "  <thead>\n",
       "    <tr style=\"text-align: right;\">\n",
       "      <th></th>\n",
       "      <th>RAM Size</th>\n",
       "      <th>Display</th>\n",
       "      <th>Processor</th>\n",
       "      <th>Operating System</th>\n",
       "      <th>RAM Type</th>\n",
       "      <th>Storage Type</th>\n",
       "      <th>Storage</th>\n",
       "    </tr>\n",
       "  </thead>\n",
       "  <tbody>\n",
       "    <tr>\n",
       "      <th>603</th>\n",
       "      <td>16</td>\n",
       "      <td>39.62</td>\n",
       "      <td>6</td>\n",
       "      <td>1</td>\n",
       "      <td>1</td>\n",
       "      <td>1</td>\n",
       "      <td>1</td>\n",
       "    </tr>\n",
       "    <tr>\n",
       "      <th>82</th>\n",
       "      <td>16</td>\n",
       "      <td>39.62</td>\n",
       "      <td>4</td>\n",
       "      <td>1</td>\n",
       "      <td>2</td>\n",
       "      <td>1</td>\n",
       "      <td>1</td>\n",
       "    </tr>\n",
       "    <tr>\n",
       "      <th>249</th>\n",
       "      <td>8</td>\n",
       "      <td>35.56</td>\n",
       "      <td>13</td>\n",
       "      <td>1</td>\n",
       "      <td>2</td>\n",
       "      <td>1</td>\n",
       "      <td>2</td>\n",
       "    </tr>\n",
       "    <tr>\n",
       "      <th>623</th>\n",
       "      <td>16</td>\n",
       "      <td>35.56</td>\n",
       "      <td>9</td>\n",
       "      <td>3</td>\n",
       "      <td>2</td>\n",
       "      <td>1</td>\n",
       "      <td>3</td>\n",
       "    </tr>\n",
       "    <tr>\n",
       "      <th>229</th>\n",
       "      <td>8</td>\n",
       "      <td>33.78</td>\n",
       "      <td>8</td>\n",
       "      <td>10</td>\n",
       "      <td>2</td>\n",
       "      <td>1</td>\n",
       "      <td>2</td>\n",
       "    </tr>\n",
       "  </tbody>\n",
       "</table>\n",
       "</div>"
      ],
      "text/plain": [
       "     RAM Size  Display  Processor  Operating System  RAM Type  Storage Type  \\\n",
       "603        16    39.62          6                 1         1             1   \n",
       "82         16    39.62          4                 1         2             1   \n",
       "249         8    35.56         13                 1         2             1   \n",
       "623        16    35.56          9                 3         2             1   \n",
       "229         8    33.78          8                10         2             1   \n",
       "\n",
       "     Storage  \n",
       "603        1  \n",
       "82         1  \n",
       "249        2  \n",
       "623        3  \n",
       "229        2  "
      ]
     },
     "execution_count": 237,
     "metadata": {},
     "output_type": "execute_result"
    }
   ],
   "source": [
    "X_train_transformed = pd.concat([X_train_num, X_train_cat_le], axis=1)\n",
    "\n",
    "X_train_transformed.head()"
   ]
  },
  {
   "cell_type": "markdown",
   "id": "ee64571f",
   "metadata": {},
   "source": [
    "### Preparing Test Data"
   ]
  },
  {
   "cell_type": "code",
   "execution_count": 238,
   "id": "917eeea7",
   "metadata": {},
   "outputs": [
    {
     "data": {
      "text/html": [
       "<div>\n",
       "<style scoped>\n",
       "    .dataframe tbody tr th:only-of-type {\n",
       "        vertical-align: middle;\n",
       "    }\n",
       "\n",
       "    .dataframe tbody tr th {\n",
       "        vertical-align: top;\n",
       "    }\n",
       "\n",
       "    .dataframe thead th {\n",
       "        text-align: right;\n",
       "    }\n",
       "</style>\n",
       "<table border=\"1\" class=\"dataframe\">\n",
       "  <thead>\n",
       "    <tr style=\"text-align: right;\">\n",
       "      <th></th>\n",
       "      <th>Processor</th>\n",
       "      <th>Operating System</th>\n",
       "      <th>RAM Size</th>\n",
       "      <th>RAM Type</th>\n",
       "      <th>Storage</th>\n",
       "      <th>Storage Type</th>\n",
       "      <th>Display</th>\n",
       "    </tr>\n",
       "  </thead>\n",
       "  <tbody>\n",
       "    <tr>\n",
       "      <th>203</th>\n",
       "      <td>Intel Core i5</td>\n",
       "      <td>64 bit Windows 11</td>\n",
       "      <td>16</td>\n",
       "      <td>LPDDR4X</td>\n",
       "      <td>512 GB</td>\n",
       "      <td>SSD</td>\n",
       "      <td>35.56</td>\n",
       "    </tr>\n",
       "    <tr>\n",
       "      <th>644</th>\n",
       "      <td>Intel Core i5</td>\n",
       "      <td>64 bit Windows 10</td>\n",
       "      <td>128</td>\n",
       "      <td>SSD</td>\n",
       "      <td>128 GB 1 TB 128 GB</td>\n",
       "      <td>SSD,HDD,SSD</td>\n",
       "      <td>39.62</td>\n",
       "    </tr>\n",
       "    <tr>\n",
       "      <th>394</th>\n",
       "      <td>AMD Ryzen 7 Octa Core</td>\n",
       "      <td>64 bit Windows 10</td>\n",
       "      <td>8</td>\n",
       "      <td>DDR4</td>\n",
       "      <td>512 GB</td>\n",
       "      <td>SSD</td>\n",
       "      <td>35.56</td>\n",
       "    </tr>\n",
       "    <tr>\n",
       "      <th>233</th>\n",
       "      <td>Apple M2</td>\n",
       "      <td>Mac OS</td>\n",
       "      <td>8</td>\n",
       "      <td>Unified</td>\n",
       "      <td>256 GB</td>\n",
       "      <td>SSD</td>\n",
       "      <td>33.78</td>\n",
       "    </tr>\n",
       "    <tr>\n",
       "      <th>23</th>\n",
       "      <td>AMD Ryzen 3 Dual Core</td>\n",
       "      <td>64 bit Windows 11</td>\n",
       "      <td>8</td>\n",
       "      <td>DDR4</td>\n",
       "      <td>512 GB</td>\n",
       "      <td>SSD</td>\n",
       "      <td>39.62</td>\n",
       "    </tr>\n",
       "  </tbody>\n",
       "</table>\n",
       "</div>"
      ],
      "text/plain": [
       "                  Processor    Operating System  RAM Size   RAM Type  \\\n",
       "203          Intel Core i5    64 bit Windows 11        16    LPDDR4X   \n",
       "644          Intel Core i5   64 bit Windows 10        128        SSD   \n",
       "394  AMD Ryzen 7 Octa Core   64 bit Windows 10          8       DDR4   \n",
       "233               Apple M2              Mac OS          8    Unified   \n",
       "23   AMD Ryzen 3 Dual Core   64 bit Windows 11          8       DDR4   \n",
       "\n",
       "                 Storage Storage Type  Display  \n",
       "203              512 GB           SSD    35.56  \n",
       "644  128 GB 1 TB 128 GB   SSD,HDD,SSD    39.62  \n",
       "394              512 GB           SSD    35.56  \n",
       "233              256 GB           SSD    33.78  \n",
       "23               512 GB           SSD    39.62  "
      ]
     },
     "execution_count": 238,
     "metadata": {},
     "output_type": "execute_result"
    }
   ],
   "source": [
    "X_test.head()"
   ]
  },
  {
   "cell_type": "code",
   "execution_count": 239,
   "id": "ada82fe7",
   "metadata": {},
   "outputs": [
    {
     "name": "stdout",
     "output_type": "stream",
     "text": [
      "<class 'pandas.core.frame.DataFrame'>\n",
      "Int64Index: 127 entries, 203 to 15\n",
      "Data columns (total 7 columns):\n",
      " #   Column            Non-Null Count  Dtype  \n",
      "---  ------            --------------  -----  \n",
      " 0   Processor         127 non-null    object \n",
      " 1   Operating System  127 non-null    object \n",
      " 2   RAM Size          127 non-null    int64  \n",
      " 3   RAM Type          127 non-null    object \n",
      " 4   Storage           127 non-null    object \n",
      " 5   Storage Type      127 non-null    object \n",
      " 6   Display           127 non-null    float64\n",
      "dtypes: float64(1), int64(1), object(5)\n",
      "memory usage: 7.9+ KB\n"
     ]
    }
   ],
   "source": [
    "X_test.info()"
   ]
  },
  {
   "cell_type": "code",
   "execution_count": 240,
   "id": "e299eeb3",
   "metadata": {},
   "outputs": [
    {
     "data": {
      "text/html": [
       "<div>\n",
       "<style scoped>\n",
       "    .dataframe tbody tr th:only-of-type {\n",
       "        vertical-align: middle;\n",
       "    }\n",
       "\n",
       "    .dataframe tbody tr th {\n",
       "        vertical-align: top;\n",
       "    }\n",
       "\n",
       "    .dataframe thead th {\n",
       "        text-align: right;\n",
       "    }\n",
       "</style>\n",
       "<table border=\"1\" class=\"dataframe\">\n",
       "  <thead>\n",
       "    <tr style=\"text-align: right;\">\n",
       "      <th></th>\n",
       "      <th>Processor</th>\n",
       "      <th>Operating System</th>\n",
       "      <th>RAM Type</th>\n",
       "      <th>Storage</th>\n",
       "      <th>Storage Type</th>\n",
       "    </tr>\n",
       "  </thead>\n",
       "  <tbody>\n",
       "    <tr>\n",
       "      <th>203</th>\n",
       "      <td>Intel Core i5</td>\n",
       "      <td>64 bit Windows 11</td>\n",
       "      <td>LPDDR4X</td>\n",
       "      <td>512 GB</td>\n",
       "      <td>SSD</td>\n",
       "    </tr>\n",
       "    <tr>\n",
       "      <th>644</th>\n",
       "      <td>Intel Core i5</td>\n",
       "      <td>64 bit Windows 10</td>\n",
       "      <td>SSD</td>\n",
       "      <td>128 GB 1 TB 128 GB</td>\n",
       "      <td>SSD,HDD,SSD</td>\n",
       "    </tr>\n",
       "    <tr>\n",
       "      <th>394</th>\n",
       "      <td>AMD Ryzen 7 Octa Core</td>\n",
       "      <td>64 bit Windows 10</td>\n",
       "      <td>DDR4</td>\n",
       "      <td>512 GB</td>\n",
       "      <td>SSD</td>\n",
       "    </tr>\n",
       "    <tr>\n",
       "      <th>233</th>\n",
       "      <td>Apple M2</td>\n",
       "      <td>Mac OS</td>\n",
       "      <td>Unified</td>\n",
       "      <td>256 GB</td>\n",
       "      <td>SSD</td>\n",
       "    </tr>\n",
       "    <tr>\n",
       "      <th>23</th>\n",
       "      <td>AMD Ryzen 3 Dual Core</td>\n",
       "      <td>64 bit Windows 11</td>\n",
       "      <td>DDR4</td>\n",
       "      <td>512 GB</td>\n",
       "      <td>SSD</td>\n",
       "    </tr>\n",
       "  </tbody>\n",
       "</table>\n",
       "</div>"
      ],
      "text/plain": [
       "                  Processor    Operating System   RAM Type  \\\n",
       "203          Intel Core i5    64 bit Windows 11    LPDDR4X   \n",
       "644          Intel Core i5   64 bit Windows 10         SSD   \n",
       "394  AMD Ryzen 7 Octa Core   64 bit Windows 10        DDR4   \n",
       "233               Apple M2              Mac OS     Unified   \n",
       "23   AMD Ryzen 3 Dual Core   64 bit Windows 11        DDR4   \n",
       "\n",
       "                 Storage Storage Type  \n",
       "203              512 GB           SSD  \n",
       "644  128 GB 1 TB 128 GB   SSD,HDD,SSD  \n",
       "394              512 GB           SSD  \n",
       "233              256 GB           SSD  \n",
       "23               512 GB           SSD  "
      ]
     },
     "execution_count": 240,
     "metadata": {},
     "output_type": "execute_result"
    }
   ],
   "source": [
    "X_test_cat = X_test.select_dtypes(include=['object'])\n",
    "\n",
    "X_test_cat.head()"
   ]
  },
  {
   "cell_type": "code",
   "execution_count": 241,
   "id": "890f0672",
   "metadata": {},
   "outputs": [
    {
     "data": {
      "text/html": [
       "<div>\n",
       "<style scoped>\n",
       "    .dataframe tbody tr th:only-of-type {\n",
       "        vertical-align: middle;\n",
       "    }\n",
       "\n",
       "    .dataframe tbody tr th {\n",
       "        vertical-align: top;\n",
       "    }\n",
       "\n",
       "    .dataframe thead th {\n",
       "        text-align: right;\n",
       "    }\n",
       "</style>\n",
       "<table border=\"1\" class=\"dataframe\">\n",
       "  <thead>\n",
       "    <tr style=\"text-align: right;\">\n",
       "      <th></th>\n",
       "      <th>RAM Size</th>\n",
       "      <th>Display</th>\n",
       "    </tr>\n",
       "  </thead>\n",
       "  <tbody>\n",
       "    <tr>\n",
       "      <th>203</th>\n",
       "      <td>16</td>\n",
       "      <td>35.56</td>\n",
       "    </tr>\n",
       "    <tr>\n",
       "      <th>644</th>\n",
       "      <td>128</td>\n",
       "      <td>39.62</td>\n",
       "    </tr>\n",
       "    <tr>\n",
       "      <th>394</th>\n",
       "      <td>8</td>\n",
       "      <td>35.56</td>\n",
       "    </tr>\n",
       "    <tr>\n",
       "      <th>233</th>\n",
       "      <td>8</td>\n",
       "      <td>33.78</td>\n",
       "    </tr>\n",
       "    <tr>\n",
       "      <th>23</th>\n",
       "      <td>8</td>\n",
       "      <td>39.62</td>\n",
       "    </tr>\n",
       "  </tbody>\n",
       "</table>\n",
       "</div>"
      ],
      "text/plain": [
       "     RAM Size  Display\n",
       "203        16    35.56\n",
       "644       128    39.62\n",
       "394         8    35.56\n",
       "233         8    33.78\n",
       "23          8    39.62"
      ]
     },
     "execution_count": 241,
     "metadata": {},
     "output_type": "execute_result"
    }
   ],
   "source": [
    "X_test_num = X_test.select_dtypes(include=['int64', 'float64'])\n",
    "\n",
    "X_test_num.head()"
   ]
  },
  {
   "cell_type": "code",
   "execution_count": 242,
   "id": "ed2846e3",
   "metadata": {},
   "outputs": [
    {
     "data": {
      "text/html": [
       "<div>\n",
       "<style scoped>\n",
       "    .dataframe tbody tr th:only-of-type {\n",
       "        vertical-align: middle;\n",
       "    }\n",
       "\n",
       "    .dataframe tbody tr th {\n",
       "        vertical-align: top;\n",
       "    }\n",
       "\n",
       "    .dataframe thead th {\n",
       "        text-align: right;\n",
       "    }\n",
       "</style>\n",
       "<table border=\"1\" class=\"dataframe\">\n",
       "  <thead>\n",
       "    <tr style=\"text-align: right;\">\n",
       "      <th></th>\n",
       "    </tr>\n",
       "  </thead>\n",
       "  <tbody>\n",
       "    <tr>\n",
       "      <th>203</th>\n",
       "    </tr>\n",
       "    <tr>\n",
       "      <th>644</th>\n",
       "    </tr>\n",
       "    <tr>\n",
       "      <th>394</th>\n",
       "    </tr>\n",
       "    <tr>\n",
       "      <th>233</th>\n",
       "    </tr>\n",
       "    <tr>\n",
       "      <th>23</th>\n",
       "    </tr>\n",
       "  </tbody>\n",
       "</table>\n",
       "</div>"
      ],
      "text/plain": [
       "Empty DataFrame\n",
       "Columns: []\n",
       "Index: [203, 644, 394, 233, 23]"
      ]
     },
     "execution_count": 242,
     "metadata": {},
     "output_type": "execute_result"
    }
   ],
   "source": [
    "X_test_cat_le = pd.DataFrame(index = X_test_cat.index)\n",
    "\n",
    "X_test_cat_le.head()"
   ]
  },
  {
   "cell_type": "code",
   "execution_count": 243,
   "id": "2e2dc84c",
   "metadata": {},
   "outputs": [
    {
     "data": {
      "text/plain": [
       "array(['  LPDDR4X', '  SSD', '  DDR4', '  Unified', '  DDR5', '  LPDDR5',\n",
       "       '  LPDDR3', '  LPDDR4'], dtype=object)"
      ]
     },
     "execution_count": 243,
     "metadata": {},
     "output_type": "execute_result"
    }
   ],
   "source": [
    "X_test_cat['RAM Type'].unique()"
   ]
  },
  {
   "cell_type": "code",
   "execution_count": 244,
   "id": "f440b557",
   "metadata": {},
   "outputs": [
    {
     "data": {
      "text/html": [
       "<div>\n",
       "<style scoped>\n",
       "    .dataframe tbody tr th:only-of-type {\n",
       "        vertical-align: middle;\n",
       "    }\n",
       "\n",
       "    .dataframe tbody tr th {\n",
       "        vertical-align: top;\n",
       "    }\n",
       "\n",
       "    .dataframe thead th {\n",
       "        text-align: right;\n",
       "    }\n",
       "</style>\n",
       "<table border=\"1\" class=\"dataframe\">\n",
       "  <thead>\n",
       "    <tr style=\"text-align: right;\">\n",
       "      <th></th>\n",
       "      <th>Processor</th>\n",
       "      <th>Operating System</th>\n",
       "      <th>RAM Type</th>\n",
       "      <th>Storage Type</th>\n",
       "      <th>Storage</th>\n",
       "    </tr>\n",
       "  </thead>\n",
       "  <tbody>\n",
       "    <tr>\n",
       "      <th>203</th>\n",
       "      <td>9</td>\n",
       "      <td>2</td>\n",
       "      <td>4</td>\n",
       "      <td>1</td>\n",
       "      <td>3</td>\n",
       "    </tr>\n",
       "    <tr>\n",
       "      <th>644</th>\n",
       "      <td>9</td>\n",
       "      <td>3</td>\n",
       "      <td>7</td>\n",
       "      <td>4</td>\n",
       "      <td>9</td>\n",
       "    </tr>\n",
       "    <tr>\n",
       "      <th>394</th>\n",
       "      <td>16</td>\n",
       "      <td>3</td>\n",
       "      <td>2</td>\n",
       "      <td>1</td>\n",
       "      <td>3</td>\n",
       "    </tr>\n",
       "    <tr>\n",
       "      <th>233</th>\n",
       "      <td>5</td>\n",
       "      <td>10</td>\n",
       "      <td>3</td>\n",
       "      <td>1</td>\n",
       "      <td>2</td>\n",
       "    </tr>\n",
       "    <tr>\n",
       "      <th>23</th>\n",
       "      <td>7</td>\n",
       "      <td>1</td>\n",
       "      <td>2</td>\n",
       "      <td>1</td>\n",
       "      <td>3</td>\n",
       "    </tr>\n",
       "  </tbody>\n",
       "</table>\n",
       "</div>"
      ],
      "text/plain": [
       "     Processor  Operating System  RAM Type  Storage Type  Storage\n",
       "203          9                 2         4             1        3\n",
       "644          9                 3         7             4        9\n",
       "394         16                 3         2             1        3\n",
       "233          5                10         3             1        2\n",
       "23           7                 1         2             1        3"
      ]
     },
     "execution_count": 244,
     "metadata": {},
     "output_type": "execute_result"
    }
   ],
   "source": [
    "X_test_cat_le['Processor'] = X_test_cat['Processor'].apply(lambda x : cut_encoder[x])\n",
    "\n",
    "X_test_cat_le['Operating System'] = X_test_cat['Operating System'].apply(lambda x : Operating_encoder[x])\n",
    "\n",
    "X_test_cat_le['RAM Type'] = X_test_cat['RAM Type'].apply(lambda x : Type_encoder[x])\n",
    "\n",
    "X_test_cat_le['Storage Type'] = X_test_cat['Storage Type'].apply(lambda x : storagetype_encoder[x])\n",
    "\n",
    "X_test_cat_le['Storage'] = X_test_cat['Storage'].apply(lambda x : storage_encoder[x])\n",
    "X_test_cat_le.head()"
   ]
  },
  {
   "cell_type": "code",
   "execution_count": 249,
   "id": "c54c722b",
   "metadata": {},
   "outputs": [
    {
     "data": {
      "text/html": [
       "<div>\n",
       "<style scoped>\n",
       "    .dataframe tbody tr th:only-of-type {\n",
       "        vertical-align: middle;\n",
       "    }\n",
       "\n",
       "    .dataframe tbody tr th {\n",
       "        vertical-align: top;\n",
       "    }\n",
       "\n",
       "    .dataframe thead th {\n",
       "        text-align: right;\n",
       "    }\n",
       "</style>\n",
       "<table border=\"1\" class=\"dataframe\">\n",
       "  <thead>\n",
       "    <tr style=\"text-align: right;\">\n",
       "      <th></th>\n",
       "      <th>RAM Size</th>\n",
       "      <th>Display</th>\n",
       "      <th>Processor</th>\n",
       "      <th>Operating System</th>\n",
       "      <th>RAM Type</th>\n",
       "      <th>Storage Type</th>\n",
       "      <th>Storage</th>\n",
       "    </tr>\n",
       "  </thead>\n",
       "  <tbody>\n",
       "    <tr>\n",
       "      <th>203</th>\n",
       "      <td>16</td>\n",
       "      <td>35.56</td>\n",
       "      <td>9</td>\n",
       "      <td>2</td>\n",
       "      <td>4</td>\n",
       "      <td>1</td>\n",
       "      <td>3</td>\n",
       "    </tr>\n",
       "    <tr>\n",
       "      <th>644</th>\n",
       "      <td>128</td>\n",
       "      <td>39.62</td>\n",
       "      <td>9</td>\n",
       "      <td>3</td>\n",
       "      <td>7</td>\n",
       "      <td>4</td>\n",
       "      <td>9</td>\n",
       "    </tr>\n",
       "    <tr>\n",
       "      <th>394</th>\n",
       "      <td>8</td>\n",
       "      <td>35.56</td>\n",
       "      <td>16</td>\n",
       "      <td>3</td>\n",
       "      <td>2</td>\n",
       "      <td>1</td>\n",
       "      <td>3</td>\n",
       "    </tr>\n",
       "    <tr>\n",
       "      <th>233</th>\n",
       "      <td>8</td>\n",
       "      <td>33.78</td>\n",
       "      <td>5</td>\n",
       "      <td>10</td>\n",
       "      <td>3</td>\n",
       "      <td>1</td>\n",
       "      <td>2</td>\n",
       "    </tr>\n",
       "    <tr>\n",
       "      <th>23</th>\n",
       "      <td>8</td>\n",
       "      <td>39.62</td>\n",
       "      <td>7</td>\n",
       "      <td>1</td>\n",
       "      <td>2</td>\n",
       "      <td>1</td>\n",
       "      <td>3</td>\n",
       "    </tr>\n",
       "  </tbody>\n",
       "</table>\n",
       "</div>"
      ],
      "text/plain": [
       "     RAM Size  Display  Processor  Operating System  RAM Type  Storage Type  \\\n",
       "203        16    35.56          9                 2         4             1   \n",
       "644       128    39.62          9                 3         7             4   \n",
       "394         8    35.56         16                 3         2             1   \n",
       "233         8    33.78          5                10         3             1   \n",
       "23          8    39.62          7                 1         2             1   \n",
       "\n",
       "     Storage  \n",
       "203        3  \n",
       "644        9  \n",
       "394        3  \n",
       "233        2  \n",
       "23         3  "
      ]
     },
     "execution_count": 249,
     "metadata": {},
     "output_type": "execute_result"
    }
   ],
   "source": [
    "X_test_transformed = pd.concat([X_test_num, X_test_cat_le], axis=1)\n",
    "\n",
    "X_test_transformed.head()"
   ]
  },
  {
   "cell_type": "markdown",
   "id": "0c27e558",
   "metadata": {},
   "source": [
    "## Building the Model - RandomForest"
   ]
  },
  {
   "cell_type": "code",
   "execution_count": 257,
   "id": "c37b111c",
   "metadata": {},
   "outputs": [
    {
     "data": {
      "text/html": [
       "<div>\n",
       "<style scoped>\n",
       "    .dataframe tbody tr th:only-of-type {\n",
       "        vertical-align: middle;\n",
       "    }\n",
       "\n",
       "    .dataframe tbody tr th {\n",
       "        vertical-align: top;\n",
       "    }\n",
       "\n",
       "    .dataframe thead th {\n",
       "        text-align: right;\n",
       "    }\n",
       "</style>\n",
       "<table border=\"1\" class=\"dataframe\">\n",
       "  <thead>\n",
       "    <tr style=\"text-align: right;\">\n",
       "      <th></th>\n",
       "      <th>RAM Size</th>\n",
       "      <th>Display</th>\n",
       "      <th>Processor</th>\n",
       "      <th>Operating System</th>\n",
       "      <th>RAM Type</th>\n",
       "      <th>Storage Type</th>\n",
       "      <th>Storage</th>\n",
       "    </tr>\n",
       "  </thead>\n",
       "  <tbody>\n",
       "    <tr>\n",
       "      <th>603</th>\n",
       "      <td>16</td>\n",
       "      <td>39.62</td>\n",
       "      <td>6</td>\n",
       "      <td>1</td>\n",
       "      <td>1</td>\n",
       "      <td>1</td>\n",
       "      <td>1</td>\n",
       "    </tr>\n",
       "    <tr>\n",
       "      <th>82</th>\n",
       "      <td>16</td>\n",
       "      <td>39.62</td>\n",
       "      <td>4</td>\n",
       "      <td>1</td>\n",
       "      <td>2</td>\n",
       "      <td>1</td>\n",
       "      <td>1</td>\n",
       "    </tr>\n",
       "    <tr>\n",
       "      <th>249</th>\n",
       "      <td>8</td>\n",
       "      <td>35.56</td>\n",
       "      <td>13</td>\n",
       "      <td>1</td>\n",
       "      <td>2</td>\n",
       "      <td>1</td>\n",
       "      <td>2</td>\n",
       "    </tr>\n",
       "    <tr>\n",
       "      <th>623</th>\n",
       "      <td>16</td>\n",
       "      <td>35.56</td>\n",
       "      <td>9</td>\n",
       "      <td>3</td>\n",
       "      <td>2</td>\n",
       "      <td>1</td>\n",
       "      <td>3</td>\n",
       "    </tr>\n",
       "    <tr>\n",
       "      <th>229</th>\n",
       "      <td>8</td>\n",
       "      <td>33.78</td>\n",
       "      <td>8</td>\n",
       "      <td>10</td>\n",
       "      <td>2</td>\n",
       "      <td>1</td>\n",
       "      <td>2</td>\n",
       "    </tr>\n",
       "    <tr>\n",
       "      <th>...</th>\n",
       "      <td>...</td>\n",
       "      <td>...</td>\n",
       "      <td>...</td>\n",
       "      <td>...</td>\n",
       "      <td>...</td>\n",
       "      <td>...</td>\n",
       "      <td>...</td>\n",
       "    </tr>\n",
       "    <tr>\n",
       "      <th>575</th>\n",
       "      <td>4</td>\n",
       "      <td>39.62</td>\n",
       "      <td>22</td>\n",
       "      <td>3</td>\n",
       "      <td>2</td>\n",
       "      <td>2</td>\n",
       "      <td>1</td>\n",
       "    </tr>\n",
       "    <tr>\n",
       "      <th>608</th>\n",
       "      <td>8</td>\n",
       "      <td>35.56</td>\n",
       "      <td>9</td>\n",
       "      <td>3</td>\n",
       "      <td>2</td>\n",
       "      <td>1</td>\n",
       "      <td>3</td>\n",
       "    </tr>\n",
       "    <tr>\n",
       "      <th>538</th>\n",
       "      <td>4</td>\n",
       "      <td>39.62</td>\n",
       "      <td>13</td>\n",
       "      <td>3</td>\n",
       "      <td>2</td>\n",
       "      <td>2</td>\n",
       "      <td>1</td>\n",
       "    </tr>\n",
       "    <tr>\n",
       "      <th>453</th>\n",
       "      <td>16</td>\n",
       "      <td>39.62</td>\n",
       "      <td>6</td>\n",
       "      <td>2</td>\n",
       "      <td>2</td>\n",
       "      <td>1</td>\n",
       "      <td>3</td>\n",
       "    </tr>\n",
       "    <tr>\n",
       "      <th>8</th>\n",
       "      <td>8</td>\n",
       "      <td>35.56</td>\n",
       "      <td>13</td>\n",
       "      <td>3</td>\n",
       "      <td>2</td>\n",
       "      <td>1</td>\n",
       "      <td>2</td>\n",
       "    </tr>\n",
       "  </tbody>\n",
       "</table>\n",
       "<p>296 rows × 7 columns</p>\n",
       "</div>"
      ],
      "text/plain": [
       "     RAM Size  Display  Processor  Operating System  RAM Type  Storage Type  \\\n",
       "603        16    39.62          6                 1         1             1   \n",
       "82         16    39.62          4                 1         2             1   \n",
       "249         8    35.56         13                 1         2             1   \n",
       "623        16    35.56          9                 3         2             1   \n",
       "229         8    33.78          8                10         2             1   \n",
       "..        ...      ...        ...               ...       ...           ...   \n",
       "575         4    39.62         22                 3         2             2   \n",
       "608         8    35.56          9                 3         2             1   \n",
       "538         4    39.62         13                 3         2             2   \n",
       "453        16    39.62          6                 2         2             1   \n",
       "8           8    35.56         13                 3         2             1   \n",
       "\n",
       "     Storage  \n",
       "603        1  \n",
       "82         1  \n",
       "249        2  \n",
       "623        3  \n",
       "229        2  \n",
       "..       ...  \n",
       "575        1  \n",
       "608        3  \n",
       "538        1  \n",
       "453        3  \n",
       "8          2  \n",
       "\n",
       "[296 rows x 7 columns]"
      ]
     },
     "execution_count": 257,
     "metadata": {},
     "output_type": "execute_result"
    }
   ],
   "source": [
    "X_train_transformed\n"
   ]
  },
  {
   "cell_type": "code",
   "execution_count": 258,
   "id": "2cceeca4",
   "metadata": {},
   "outputs": [
    {
     "data": {
      "text/html": [
       "<style>#sk-container-id-10 {color: black;background-color: white;}#sk-container-id-10 pre{padding: 0;}#sk-container-id-10 div.sk-toggleable {background-color: white;}#sk-container-id-10 label.sk-toggleable__label {cursor: pointer;display: block;width: 100%;margin-bottom: 0;padding: 0.3em;box-sizing: border-box;text-align: center;}#sk-container-id-10 label.sk-toggleable__label-arrow:before {content: \"▸\";float: left;margin-right: 0.25em;color: #696969;}#sk-container-id-10 label.sk-toggleable__label-arrow:hover:before {color: black;}#sk-container-id-10 div.sk-estimator:hover label.sk-toggleable__label-arrow:before {color: black;}#sk-container-id-10 div.sk-toggleable__content {max-height: 0;max-width: 0;overflow: hidden;text-align: left;background-color: #f0f8ff;}#sk-container-id-10 div.sk-toggleable__content pre {margin: 0.2em;color: black;border-radius: 0.25em;background-color: #f0f8ff;}#sk-container-id-10 input.sk-toggleable__control:checked~div.sk-toggleable__content {max-height: 200px;max-width: 100%;overflow: auto;}#sk-container-id-10 input.sk-toggleable__control:checked~label.sk-toggleable__label-arrow:before {content: \"▾\";}#sk-container-id-10 div.sk-estimator input.sk-toggleable__control:checked~label.sk-toggleable__label {background-color: #d4ebff;}#sk-container-id-10 div.sk-label input.sk-toggleable__control:checked~label.sk-toggleable__label {background-color: #d4ebff;}#sk-container-id-10 input.sk-hidden--visually {border: 0;clip: rect(1px 1px 1px 1px);clip: rect(1px, 1px, 1px, 1px);height: 1px;margin: -1px;overflow: hidden;padding: 0;position: absolute;width: 1px;}#sk-container-id-10 div.sk-estimator {font-family: monospace;background-color: #f0f8ff;border: 1px dotted black;border-radius: 0.25em;box-sizing: border-box;margin-bottom: 0.5em;}#sk-container-id-10 div.sk-estimator:hover {background-color: #d4ebff;}#sk-container-id-10 div.sk-parallel-item::after {content: \"\";width: 100%;border-bottom: 1px solid gray;flex-grow: 1;}#sk-container-id-10 div.sk-label:hover label.sk-toggleable__label {background-color: #d4ebff;}#sk-container-id-10 div.sk-serial::before {content: \"\";position: absolute;border-left: 1px solid gray;box-sizing: border-box;top: 0;bottom: 0;left: 50%;z-index: 0;}#sk-container-id-10 div.sk-serial {display: flex;flex-direction: column;align-items: center;background-color: white;padding-right: 0.2em;padding-left: 0.2em;position: relative;}#sk-container-id-10 div.sk-item {position: relative;z-index: 1;}#sk-container-id-10 div.sk-parallel {display: flex;align-items: stretch;justify-content: center;background-color: white;position: relative;}#sk-container-id-10 div.sk-item::before, #sk-container-id-10 div.sk-parallel-item::before {content: \"\";position: absolute;border-left: 1px solid gray;box-sizing: border-box;top: 0;bottom: 0;left: 50%;z-index: -1;}#sk-container-id-10 div.sk-parallel-item {display: flex;flex-direction: column;z-index: 1;position: relative;background-color: white;}#sk-container-id-10 div.sk-parallel-item:first-child::after {align-self: flex-end;width: 50%;}#sk-container-id-10 div.sk-parallel-item:last-child::after {align-self: flex-start;width: 50%;}#sk-container-id-10 div.sk-parallel-item:only-child::after {width: 0;}#sk-container-id-10 div.sk-dashed-wrapped {border: 1px dashed gray;margin: 0 0.4em 0.5em 0.4em;box-sizing: border-box;padding-bottom: 0.4em;background-color: white;}#sk-container-id-10 div.sk-label label {font-family: monospace;font-weight: bold;display: inline-block;line-height: 1.2em;}#sk-container-id-10 div.sk-label-container {text-align: center;}#sk-container-id-10 div.sk-container {/* jupyter's `normalize.less` sets `[hidden] { display: none; }` but bootstrap.min.css set `[hidden] { display: none !important; }` so we also need the `!important` here to be able to override the default hidden behavior on the sphinx rendered scikit-learn.org. See: https://github.com/scikit-learn/scikit-learn/issues/21755 */display: inline-block !important;position: relative;}#sk-container-id-10 div.sk-text-repr-fallback {display: none;}</style><div id=\"sk-container-id-10\" class=\"sk-top-container\"><div class=\"sk-text-repr-fallback\"><pre>RandomForestRegressor()</pre><b>In a Jupyter environment, please rerun this cell to show the HTML representation or trust the notebook. <br />On GitHub, the HTML representation is unable to render, please try loading this page with nbviewer.org.</b></div><div class=\"sk-container\" hidden><div class=\"sk-item\"><div class=\"sk-estimator sk-toggleable\"><input class=\"sk-toggleable__control sk-hidden--visually\" id=\"sk-estimator-id-30\" type=\"checkbox\" checked><label for=\"sk-estimator-id-30\" class=\"sk-toggleable__label sk-toggleable__label-arrow\">RandomForestRegressor</label><div class=\"sk-toggleable__content\"><pre>RandomForestRegressor()</pre></div></div></div></div></div>"
      ],
      "text/plain": [
       "RandomForestRegressor()"
      ]
     },
     "execution_count": 258,
     "metadata": {},
     "output_type": "execute_result"
    }
   ],
   "source": [
    "# Importing random forest classifier from sklearn library\n",
    "from sklearn.ensemble import RandomForestRegressor\n",
    "\n",
    "# Running the random forest with default parameters.\n",
    "model_rf = RandomForestRegressor()\n",
    "\n",
    "# Fit the random forest model\n",
    "model_rf.fit(X_train_transformed, y_train)"
   ]
  },
  {
   "cell_type": "code",
   "execution_count": 259,
   "id": "ee469e1e",
   "metadata": {},
   "outputs": [],
   "source": [
    "predictions = model_rf.predict(X_test_transformed)"
   ]
  },
  {
   "cell_type": "code",
   "execution_count": 260,
   "id": "239d2260",
   "metadata": {
    "scrolled": true
   },
   "outputs": [
    {
     "name": "stdout",
     "output_type": "stream",
     "text": [
      "Mean Absolute Error\n",
      "14269.915369463703\n",
      "\n",
      "R2_Score\n",
      "0.8424072352121642\n",
      "\n",
      "\n"
     ]
    }
   ],
   "source": [
    "from sklearn.metrics import mean_absolute_error,r2_score\n",
    "\n",
    "print('Mean Absolute Error')\n",
    "print(mean_absolute_error(y_test,predictions))\n",
    "print()\n",
    "\n",
    "print('R2_Score')\n",
    "print(r2_score(y_test,predictions))\n",
    "print()\n",
    "\n",
    "print()"
   ]
  },
  {
   "cell_type": "markdown",
   "id": "283612d6",
   "metadata": {},
   "source": [
    "## Tuning n_estimators"
   ]
  },
  {
   "cell_type": "code",
   "execution_count": 261,
   "id": "74ac24c0",
   "metadata": {},
   "outputs": [
    {
     "name": "stdout",
     "output_type": "stream",
     "text": [
      "Fitting 5 folds for each of 7 candidates, totalling 35 fits\n"
     ]
    },
    {
     "data": {
      "text/html": [
       "<style>#sk-container-id-11 {color: black;background-color: white;}#sk-container-id-11 pre{padding: 0;}#sk-container-id-11 div.sk-toggleable {background-color: white;}#sk-container-id-11 label.sk-toggleable__label {cursor: pointer;display: block;width: 100%;margin-bottom: 0;padding: 0.3em;box-sizing: border-box;text-align: center;}#sk-container-id-11 label.sk-toggleable__label-arrow:before {content: \"▸\";float: left;margin-right: 0.25em;color: #696969;}#sk-container-id-11 label.sk-toggleable__label-arrow:hover:before {color: black;}#sk-container-id-11 div.sk-estimator:hover label.sk-toggleable__label-arrow:before {color: black;}#sk-container-id-11 div.sk-toggleable__content {max-height: 0;max-width: 0;overflow: hidden;text-align: left;background-color: #f0f8ff;}#sk-container-id-11 div.sk-toggleable__content pre {margin: 0.2em;color: black;border-radius: 0.25em;background-color: #f0f8ff;}#sk-container-id-11 input.sk-toggleable__control:checked~div.sk-toggleable__content {max-height: 200px;max-width: 100%;overflow: auto;}#sk-container-id-11 input.sk-toggleable__control:checked~label.sk-toggleable__label-arrow:before {content: \"▾\";}#sk-container-id-11 div.sk-estimator input.sk-toggleable__control:checked~label.sk-toggleable__label {background-color: #d4ebff;}#sk-container-id-11 div.sk-label input.sk-toggleable__control:checked~label.sk-toggleable__label {background-color: #d4ebff;}#sk-container-id-11 input.sk-hidden--visually {border: 0;clip: rect(1px 1px 1px 1px);clip: rect(1px, 1px, 1px, 1px);height: 1px;margin: -1px;overflow: hidden;padding: 0;position: absolute;width: 1px;}#sk-container-id-11 div.sk-estimator {font-family: monospace;background-color: #f0f8ff;border: 1px dotted black;border-radius: 0.25em;box-sizing: border-box;margin-bottom: 0.5em;}#sk-container-id-11 div.sk-estimator:hover {background-color: #d4ebff;}#sk-container-id-11 div.sk-parallel-item::after {content: \"\";width: 100%;border-bottom: 1px solid gray;flex-grow: 1;}#sk-container-id-11 div.sk-label:hover label.sk-toggleable__label {background-color: #d4ebff;}#sk-container-id-11 div.sk-serial::before {content: \"\";position: absolute;border-left: 1px solid gray;box-sizing: border-box;top: 0;bottom: 0;left: 50%;z-index: 0;}#sk-container-id-11 div.sk-serial {display: flex;flex-direction: column;align-items: center;background-color: white;padding-right: 0.2em;padding-left: 0.2em;position: relative;}#sk-container-id-11 div.sk-item {position: relative;z-index: 1;}#sk-container-id-11 div.sk-parallel {display: flex;align-items: stretch;justify-content: center;background-color: white;position: relative;}#sk-container-id-11 div.sk-item::before, #sk-container-id-11 div.sk-parallel-item::before {content: \"\";position: absolute;border-left: 1px solid gray;box-sizing: border-box;top: 0;bottom: 0;left: 50%;z-index: -1;}#sk-container-id-11 div.sk-parallel-item {display: flex;flex-direction: column;z-index: 1;position: relative;background-color: white;}#sk-container-id-11 div.sk-parallel-item:first-child::after {align-self: flex-end;width: 50%;}#sk-container-id-11 div.sk-parallel-item:last-child::after {align-self: flex-start;width: 50%;}#sk-container-id-11 div.sk-parallel-item:only-child::after {width: 0;}#sk-container-id-11 div.sk-dashed-wrapped {border: 1px dashed gray;margin: 0 0.4em 0.5em 0.4em;box-sizing: border-box;padding-bottom: 0.4em;background-color: white;}#sk-container-id-11 div.sk-label label {font-family: monospace;font-weight: bold;display: inline-block;line-height: 1.2em;}#sk-container-id-11 div.sk-label-container {text-align: center;}#sk-container-id-11 div.sk-container {/* jupyter's `normalize.less` sets `[hidden] { display: none; }` but bootstrap.min.css set `[hidden] { display: none !important; }` so we also need the `!important` here to be able to override the default hidden behavior on the sphinx rendered scikit-learn.org. See: https://github.com/scikit-learn/scikit-learn/issues/21755 */display: inline-block !important;position: relative;}#sk-container-id-11 div.sk-text-repr-fallback {display: none;}</style><div id=\"sk-container-id-11\" class=\"sk-top-container\"><div class=\"sk-text-repr-fallback\"><pre>GridSearchCV(cv=5, estimator=RandomForestRegressor(),\n",
       "             param_grid=[{&#x27;n_estimators&#x27;: range(10, 1300, 200)}],\n",
       "             return_train_score=True, scoring=&#x27;r2&#x27;, verbose=1)</pre><b>In a Jupyter environment, please rerun this cell to show the HTML representation or trust the notebook. <br />On GitHub, the HTML representation is unable to render, please try loading this page with nbviewer.org.</b></div><div class=\"sk-container\" hidden><div class=\"sk-item sk-dashed-wrapped\"><div class=\"sk-label-container\"><div class=\"sk-label sk-toggleable\"><input class=\"sk-toggleable__control sk-hidden--visually\" id=\"sk-estimator-id-31\" type=\"checkbox\" ><label for=\"sk-estimator-id-31\" class=\"sk-toggleable__label sk-toggleable__label-arrow\">GridSearchCV</label><div class=\"sk-toggleable__content\"><pre>GridSearchCV(cv=5, estimator=RandomForestRegressor(),\n",
       "             param_grid=[{&#x27;n_estimators&#x27;: range(10, 1300, 200)}],\n",
       "             return_train_score=True, scoring=&#x27;r2&#x27;, verbose=1)</pre></div></div></div><div class=\"sk-parallel\"><div class=\"sk-parallel-item\"><div class=\"sk-item\"><div class=\"sk-label-container\"><div class=\"sk-label sk-toggleable\"><input class=\"sk-toggleable__control sk-hidden--visually\" id=\"sk-estimator-id-32\" type=\"checkbox\" ><label for=\"sk-estimator-id-32\" class=\"sk-toggleable__label sk-toggleable__label-arrow\">estimator: RandomForestRegressor</label><div class=\"sk-toggleable__content\"><pre>RandomForestRegressor()</pre></div></div></div><div class=\"sk-serial\"><div class=\"sk-item\"><div class=\"sk-estimator sk-toggleable\"><input class=\"sk-toggleable__control sk-hidden--visually\" id=\"sk-estimator-id-33\" type=\"checkbox\" ><label for=\"sk-estimator-id-33\" class=\"sk-toggleable__label sk-toggleable__label-arrow\">RandomForestRegressor</label><div class=\"sk-toggleable__content\"><pre>RandomForestRegressor()</pre></div></div></div></div></div></div></div></div></div></div>"
      ],
      "text/plain": [
       "GridSearchCV(cv=5, estimator=RandomForestRegressor(),\n",
       "             param_grid=[{'n_estimators': range(10, 1300, 200)}],\n",
       "             return_train_score=True, scoring='r2', verbose=1)"
      ]
     },
     "execution_count": 261,
     "metadata": {},
     "output_type": "execute_result"
    }
   ],
   "source": [
    "from sklearn.model_selection import GridSearchCV\n",
    "\n",
    "n_folds = 5\n",
    "\n",
    "hyper_parameters = [{'n_estimators': range(10, 1300, 200)}]\n",
    "\n",
    "rf = RandomForestRegressor()\n",
    "\n",
    "# fit tree on training data\n",
    "tunned_model_rf = GridSearchCV(\n",
    "                      estimator=rf, \n",
    "                      param_grid=hyper_parameters,\n",
    "                      cv=n_folds, \n",
    "                      scoring='r2',\n",
    "                      return_train_score=True,\n",
    "                      verbose=1\n",
    ")\n",
    "\n",
    "tunned_model_rf.fit(X_train_transformed, y_train)"
   ]
  },
  {
   "cell_type": "code",
   "execution_count": 262,
   "id": "74bc03a3",
   "metadata": {},
   "outputs": [
    {
     "name": "stdout",
     "output_type": "stream",
     "text": [
      "Best parameters set found on train set\n",
      "{'n_estimators': 10}\n",
      "RandomForestRegressor(n_estimators=10)\n",
      "\n",
      "Score on Test Data:  0.8666233881878163\n"
     ]
    }
   ],
   "source": [
    "print(\"Best parameters set found on train set\")\n",
    "print(tunned_model_rf.best_params_)\n",
    "print(tunned_model_rf.best_estimator_)\n",
    "print()\n",
    "\n",
    "print('Score on Test Data: ', tunned_model_rf.score(X_test_transformed, y_test))"
   ]
  },
  {
   "cell_type": "code",
   "execution_count": 263,
   "id": "a377a4d7",
   "metadata": {},
   "outputs": [
    {
     "data": {
      "text/html": [
       "<div>\n",
       "<style scoped>\n",
       "    .dataframe tbody tr th:only-of-type {\n",
       "        vertical-align: middle;\n",
       "    }\n",
       "\n",
       "    .dataframe tbody tr th {\n",
       "        vertical-align: top;\n",
       "    }\n",
       "\n",
       "    .dataframe thead th {\n",
       "        text-align: right;\n",
       "    }\n",
       "</style>\n",
       "<table border=\"1\" class=\"dataframe\">\n",
       "  <thead>\n",
       "    <tr style=\"text-align: right;\">\n",
       "      <th></th>\n",
       "      <th>mean_fit_time</th>\n",
       "      <th>std_fit_time</th>\n",
       "      <th>mean_score_time</th>\n",
       "      <th>std_score_time</th>\n",
       "      <th>param_n_estimators</th>\n",
       "      <th>params</th>\n",
       "      <th>split0_test_score</th>\n",
       "      <th>split1_test_score</th>\n",
       "      <th>split2_test_score</th>\n",
       "      <th>split3_test_score</th>\n",
       "      <th>...</th>\n",
       "      <th>mean_test_score</th>\n",
       "      <th>std_test_score</th>\n",
       "      <th>rank_test_score</th>\n",
       "      <th>split0_train_score</th>\n",
       "      <th>split1_train_score</th>\n",
       "      <th>split2_train_score</th>\n",
       "      <th>split3_train_score</th>\n",
       "      <th>split4_train_score</th>\n",
       "      <th>mean_train_score</th>\n",
       "      <th>std_train_score</th>\n",
       "    </tr>\n",
       "  </thead>\n",
       "  <tbody>\n",
       "    <tr>\n",
       "      <th>0</th>\n",
       "      <td>0.059236</td>\n",
       "      <td>0.027130</td>\n",
       "      <td>0.013016</td>\n",
       "      <td>0.005243</td>\n",
       "      <td>10</td>\n",
       "      <td>{'n_estimators': 10}</td>\n",
       "      <td>0.764980</td>\n",
       "      <td>0.817401</td>\n",
       "      <td>0.754603</td>\n",
       "      <td>0.734855</td>\n",
       "      <td>...</td>\n",
       "      <td>0.779818</td>\n",
       "      <td>0.036166</td>\n",
       "      <td>1</td>\n",
       "      <td>0.943539</td>\n",
       "      <td>0.942263</td>\n",
       "      <td>0.950018</td>\n",
       "      <td>0.945422</td>\n",
       "      <td>0.942594</td>\n",
       "      <td>0.944767</td>\n",
       "      <td>0.002846</td>\n",
       "    </tr>\n",
       "    <tr>\n",
       "      <th>1</th>\n",
       "      <td>0.747173</td>\n",
       "      <td>0.140147</td>\n",
       "      <td>0.047063</td>\n",
       "      <td>0.032988</td>\n",
       "      <td>210</td>\n",
       "      <td>{'n_estimators': 210}</td>\n",
       "      <td>0.787175</td>\n",
       "      <td>0.834630</td>\n",
       "      <td>0.725757</td>\n",
       "      <td>0.732157</td>\n",
       "      <td>...</td>\n",
       "      <td>0.779006</td>\n",
       "      <td>0.043610</td>\n",
       "      <td>2</td>\n",
       "      <td>0.945113</td>\n",
       "      <td>0.958563</td>\n",
       "      <td>0.956970</td>\n",
       "      <td>0.954486</td>\n",
       "      <td>0.946988</td>\n",
       "      <td>0.952424</td>\n",
       "      <td>0.005396</td>\n",
       "    </tr>\n",
       "    <tr>\n",
       "      <th>2</th>\n",
       "      <td>1.372727</td>\n",
       "      <td>0.189227</td>\n",
       "      <td>0.063097</td>\n",
       "      <td>0.013836</td>\n",
       "      <td>410</td>\n",
       "      <td>{'n_estimators': 410}</td>\n",
       "      <td>0.789827</td>\n",
       "      <td>0.827641</td>\n",
       "      <td>0.721965</td>\n",
       "      <td>0.723488</td>\n",
       "      <td>...</td>\n",
       "      <td>0.774687</td>\n",
       "      <td>0.044086</td>\n",
       "      <td>7</td>\n",
       "      <td>0.945539</td>\n",
       "      <td>0.958343</td>\n",
       "      <td>0.958080</td>\n",
       "      <td>0.954301</td>\n",
       "      <td>0.949136</td>\n",
       "      <td>0.953080</td>\n",
       "      <td>0.005032</td>\n",
       "    </tr>\n",
       "    <tr>\n",
       "      <th>3</th>\n",
       "      <td>1.941300</td>\n",
       "      <td>0.179272</td>\n",
       "      <td>0.106782</td>\n",
       "      <td>0.041198</td>\n",
       "      <td>610</td>\n",
       "      <td>{'n_estimators': 610}</td>\n",
       "      <td>0.791744</td>\n",
       "      <td>0.821088</td>\n",
       "      <td>0.731131</td>\n",
       "      <td>0.727026</td>\n",
       "      <td>...</td>\n",
       "      <td>0.777335</td>\n",
       "      <td>0.040641</td>\n",
       "      <td>5</td>\n",
       "      <td>0.946185</td>\n",
       "      <td>0.956198</td>\n",
       "      <td>0.957807</td>\n",
       "      <td>0.954367</td>\n",
       "      <td>0.948809</td>\n",
       "      <td>0.952673</td>\n",
       "      <td>0.004442</td>\n",
       "    </tr>\n",
       "    <tr>\n",
       "      <th>4</th>\n",
       "      <td>2.743022</td>\n",
       "      <td>0.376279</td>\n",
       "      <td>0.133271</td>\n",
       "      <td>0.049704</td>\n",
       "      <td>810</td>\n",
       "      <td>{'n_estimators': 810}</td>\n",
       "      <td>0.792337</td>\n",
       "      <td>0.816458</td>\n",
       "      <td>0.729042</td>\n",
       "      <td>0.736494</td>\n",
       "      <td>...</td>\n",
       "      <td>0.776973</td>\n",
       "      <td>0.037034</td>\n",
       "      <td>6</td>\n",
       "      <td>0.946164</td>\n",
       "      <td>0.956340</td>\n",
       "      <td>0.957436</td>\n",
       "      <td>0.955715</td>\n",
       "      <td>0.948737</td>\n",
       "      <td>0.952878</td>\n",
       "      <td>0.004540</td>\n",
       "    </tr>\n",
       "  </tbody>\n",
       "</table>\n",
       "<p>5 rows × 21 columns</p>\n",
       "</div>"
      ],
      "text/plain": [
       "   mean_fit_time  std_fit_time  mean_score_time  std_score_time  \\\n",
       "0       0.059236      0.027130         0.013016        0.005243   \n",
       "1       0.747173      0.140147         0.047063        0.032988   \n",
       "2       1.372727      0.189227         0.063097        0.013836   \n",
       "3       1.941300      0.179272         0.106782        0.041198   \n",
       "4       2.743022      0.376279         0.133271        0.049704   \n",
       "\n",
       "  param_n_estimators                 params  split0_test_score  \\\n",
       "0                 10   {'n_estimators': 10}           0.764980   \n",
       "1                210  {'n_estimators': 210}           0.787175   \n",
       "2                410  {'n_estimators': 410}           0.789827   \n",
       "3                610  {'n_estimators': 610}           0.791744   \n",
       "4                810  {'n_estimators': 810}           0.792337   \n",
       "\n",
       "   split1_test_score  split2_test_score  split3_test_score  ...  \\\n",
       "0           0.817401           0.754603           0.734855  ...   \n",
       "1           0.834630           0.725757           0.732157  ...   \n",
       "2           0.827641           0.721965           0.723488  ...   \n",
       "3           0.821088           0.731131           0.727026  ...   \n",
       "4           0.816458           0.729042           0.736494  ...   \n",
       "\n",
       "   mean_test_score  std_test_score  rank_test_score  split0_train_score  \\\n",
       "0         0.779818        0.036166                1            0.943539   \n",
       "1         0.779006        0.043610                2            0.945113   \n",
       "2         0.774687        0.044086                7            0.945539   \n",
       "3         0.777335        0.040641                5            0.946185   \n",
       "4         0.776973        0.037034                6            0.946164   \n",
       "\n",
       "   split1_train_score  split2_train_score  split3_train_score  \\\n",
       "0            0.942263            0.950018            0.945422   \n",
       "1            0.958563            0.956970            0.954486   \n",
       "2            0.958343            0.958080            0.954301   \n",
       "3            0.956198            0.957807            0.954367   \n",
       "4            0.956340            0.957436            0.955715   \n",
       "\n",
       "   split4_train_score  mean_train_score  std_train_score  \n",
       "0            0.942594          0.944767         0.002846  \n",
       "1            0.946988          0.952424         0.005396  \n",
       "2            0.949136          0.953080         0.005032  \n",
       "3            0.948809          0.952673         0.004442  \n",
       "4            0.948737          0.952878         0.004540  \n",
       "\n",
       "[5 rows x 21 columns]"
      ]
     },
     "execution_count": 263,
     "metadata": {},
     "output_type": "execute_result"
    }
   ],
   "source": [
    "cv_results = pd.DataFrame(tunned_model_rf.cv_results_)\n",
    "\n",
    "cv_results.head()"
   ]
  },
  {
   "cell_type": "markdown",
   "id": "de32a519",
   "metadata": {},
   "source": [
    "## Building the Model - KNN"
   ]
  },
  {
   "cell_type": "code",
   "execution_count": 264,
   "id": "613b8713",
   "metadata": {},
   "outputs": [],
   "source": [
    "from sklearn.model_selection import GridSearchCV, RandomizedSearchCV\n",
    "from sklearn import metrics"
   ]
  },
  {
   "cell_type": "code",
   "execution_count": 265,
   "id": "9b1d056e",
   "metadata": {},
   "outputs": [],
   "source": [
    "from sklearn.neighbors import KNeighborsRegressor"
   ]
  },
  {
   "cell_type": "code",
   "execution_count": 266,
   "id": "b3b9e76b",
   "metadata": {},
   "outputs": [
    {
     "name": "stdout",
     "output_type": "stream",
     "text": [
      "Fitting 5 folds for each of 150 candidates, totalling 750 fits\n"
     ]
    },
    {
     "data": {
      "text/html": [
       "<style>#sk-container-id-12 {color: black;background-color: white;}#sk-container-id-12 pre{padding: 0;}#sk-container-id-12 div.sk-toggleable {background-color: white;}#sk-container-id-12 label.sk-toggleable__label {cursor: pointer;display: block;width: 100%;margin-bottom: 0;padding: 0.3em;box-sizing: border-box;text-align: center;}#sk-container-id-12 label.sk-toggleable__label-arrow:before {content: \"▸\";float: left;margin-right: 0.25em;color: #696969;}#sk-container-id-12 label.sk-toggleable__label-arrow:hover:before {color: black;}#sk-container-id-12 div.sk-estimator:hover label.sk-toggleable__label-arrow:before {color: black;}#sk-container-id-12 div.sk-toggleable__content {max-height: 0;max-width: 0;overflow: hidden;text-align: left;background-color: #f0f8ff;}#sk-container-id-12 div.sk-toggleable__content pre {margin: 0.2em;color: black;border-radius: 0.25em;background-color: #f0f8ff;}#sk-container-id-12 input.sk-toggleable__control:checked~div.sk-toggleable__content {max-height: 200px;max-width: 100%;overflow: auto;}#sk-container-id-12 input.sk-toggleable__control:checked~label.sk-toggleable__label-arrow:before {content: \"▾\";}#sk-container-id-12 div.sk-estimator input.sk-toggleable__control:checked~label.sk-toggleable__label {background-color: #d4ebff;}#sk-container-id-12 div.sk-label input.sk-toggleable__control:checked~label.sk-toggleable__label {background-color: #d4ebff;}#sk-container-id-12 input.sk-hidden--visually {border: 0;clip: rect(1px 1px 1px 1px);clip: rect(1px, 1px, 1px, 1px);height: 1px;margin: -1px;overflow: hidden;padding: 0;position: absolute;width: 1px;}#sk-container-id-12 div.sk-estimator {font-family: monospace;background-color: #f0f8ff;border: 1px dotted black;border-radius: 0.25em;box-sizing: border-box;margin-bottom: 0.5em;}#sk-container-id-12 div.sk-estimator:hover {background-color: #d4ebff;}#sk-container-id-12 div.sk-parallel-item::after {content: \"\";width: 100%;border-bottom: 1px solid gray;flex-grow: 1;}#sk-container-id-12 div.sk-label:hover label.sk-toggleable__label {background-color: #d4ebff;}#sk-container-id-12 div.sk-serial::before {content: \"\";position: absolute;border-left: 1px solid gray;box-sizing: border-box;top: 0;bottom: 0;left: 50%;z-index: 0;}#sk-container-id-12 div.sk-serial {display: flex;flex-direction: column;align-items: center;background-color: white;padding-right: 0.2em;padding-left: 0.2em;position: relative;}#sk-container-id-12 div.sk-item {position: relative;z-index: 1;}#sk-container-id-12 div.sk-parallel {display: flex;align-items: stretch;justify-content: center;background-color: white;position: relative;}#sk-container-id-12 div.sk-item::before, #sk-container-id-12 div.sk-parallel-item::before {content: \"\";position: absolute;border-left: 1px solid gray;box-sizing: border-box;top: 0;bottom: 0;left: 50%;z-index: -1;}#sk-container-id-12 div.sk-parallel-item {display: flex;flex-direction: column;z-index: 1;position: relative;background-color: white;}#sk-container-id-12 div.sk-parallel-item:first-child::after {align-self: flex-end;width: 50%;}#sk-container-id-12 div.sk-parallel-item:last-child::after {align-self: flex-start;width: 50%;}#sk-container-id-12 div.sk-parallel-item:only-child::after {width: 0;}#sk-container-id-12 div.sk-dashed-wrapped {border: 1px dashed gray;margin: 0 0.4em 0.5em 0.4em;box-sizing: border-box;padding-bottom: 0.4em;background-color: white;}#sk-container-id-12 div.sk-label label {font-family: monospace;font-weight: bold;display: inline-block;line-height: 1.2em;}#sk-container-id-12 div.sk-label-container {text-align: center;}#sk-container-id-12 div.sk-container {/* jupyter's `normalize.less` sets `[hidden] { display: none; }` but bootstrap.min.css set `[hidden] { display: none !important; }` so we also need the `!important` here to be able to override the default hidden behavior on the sphinx rendered scikit-learn.org. See: https://github.com/scikit-learn/scikit-learn/issues/21755 */display: inline-block !important;position: relative;}#sk-container-id-12 div.sk-text-repr-fallback {display: none;}</style><div id=\"sk-container-id-12\" class=\"sk-top-container\"><div class=\"sk-text-repr-fallback\"><pre>GridSearchCV(cv=5, estimator=KNeighborsRegressor(),\n",
       "             param_grid=[{&#x27;n_neighbors&#x27;: [1, 2, 3, 4, 5, 6, 7, 8, 9, 10, 11, 12,\n",
       "                                          13, 14, 15, 16, 17, 18, 19, 20, 21,\n",
       "                                          22, 23, 24, 25, 26, 27, 28, 29, 30, ...],\n",
       "                          &#x27;p&#x27;: [1, 2, 3]}],\n",
       "             return_train_score=True, scoring=&#x27;r2&#x27;, verbose=1)</pre><b>In a Jupyter environment, please rerun this cell to show the HTML representation or trust the notebook. <br />On GitHub, the HTML representation is unable to render, please try loading this page with nbviewer.org.</b></div><div class=\"sk-container\" hidden><div class=\"sk-item sk-dashed-wrapped\"><div class=\"sk-label-container\"><div class=\"sk-label sk-toggleable\"><input class=\"sk-toggleable__control sk-hidden--visually\" id=\"sk-estimator-id-34\" type=\"checkbox\" ><label for=\"sk-estimator-id-34\" class=\"sk-toggleable__label sk-toggleable__label-arrow\">GridSearchCV</label><div class=\"sk-toggleable__content\"><pre>GridSearchCV(cv=5, estimator=KNeighborsRegressor(),\n",
       "             param_grid=[{&#x27;n_neighbors&#x27;: [1, 2, 3, 4, 5, 6, 7, 8, 9, 10, 11, 12,\n",
       "                                          13, 14, 15, 16, 17, 18, 19, 20, 21,\n",
       "                                          22, 23, 24, 25, 26, 27, 28, 29, 30, ...],\n",
       "                          &#x27;p&#x27;: [1, 2, 3]}],\n",
       "             return_train_score=True, scoring=&#x27;r2&#x27;, verbose=1)</pre></div></div></div><div class=\"sk-parallel\"><div class=\"sk-parallel-item\"><div class=\"sk-item\"><div class=\"sk-label-container\"><div class=\"sk-label sk-toggleable\"><input class=\"sk-toggleable__control sk-hidden--visually\" id=\"sk-estimator-id-35\" type=\"checkbox\" ><label for=\"sk-estimator-id-35\" class=\"sk-toggleable__label sk-toggleable__label-arrow\">estimator: KNeighborsRegressor</label><div class=\"sk-toggleable__content\"><pre>KNeighborsRegressor()</pre></div></div></div><div class=\"sk-serial\"><div class=\"sk-item\"><div class=\"sk-estimator sk-toggleable\"><input class=\"sk-toggleable__control sk-hidden--visually\" id=\"sk-estimator-id-36\" type=\"checkbox\" ><label for=\"sk-estimator-id-36\" class=\"sk-toggleable__label sk-toggleable__label-arrow\">KNeighborsRegressor</label><div class=\"sk-toggleable__content\"><pre>KNeighborsRegressor()</pre></div></div></div></div></div></div></div></div></div></div>"
      ],
      "text/plain": [
       "GridSearchCV(cv=5, estimator=KNeighborsRegressor(),\n",
       "             param_grid=[{'n_neighbors': [1, 2, 3, 4, 5, 6, 7, 8, 9, 10, 11, 12,\n",
       "                                          13, 14, 15, 16, 17, 18, 19, 20, 21,\n",
       "                                          22, 23, 24, 25, 26, 27, 28, 29, 30, ...],\n",
       "                          'p': [1, 2, 3]}],\n",
       "             return_train_score=True, scoring='r2', verbose=1)"
      ]
     },
     "execution_count": 266,
     "metadata": {},
     "output_type": "execute_result"
    }
   ],
   "source": [
    "tuned_parameters = [{'n_neighbors':[i for i in range(1, 51)], 'p':[1, 2, 3]}]\n",
    "\n",
    "clf = GridSearchCV(\n",
    "    estimator=KNeighborsRegressor(), \n",
    "    param_grid=tuned_parameters, \n",
    "    scoring='r2',\n",
    "    cv=5,\n",
    "    return_train_score=True,\n",
    "    verbose=1\n",
    ")\n",
    "clf.fit(X_train_transformed, y_train)"
   ]
  },
  {
   "cell_type": "code",
   "execution_count": 267,
   "id": "82bb22ec",
   "metadata": {},
   "outputs": [
    {
     "name": "stdout",
     "output_type": "stream",
     "text": [
      "Best parameters set found on train set\n",
      "{'n_neighbors': 7, 'p': 1}\n",
      "KNeighborsRegressor(n_neighbors=7, p=1)\n",
      "\n",
      "Score on Test Data:  0.6769648862071767\n"
     ]
    }
   ],
   "source": [
    "print(\"Best parameters set found on train set\")\n",
    "print(clf.best_params_)\n",
    "print(clf.best_estimator_)\n",
    "print()\n",
    "\n",
    "print('Score on Test Data: ', clf.score(X_test_transformed, y_test))"
   ]
  },
  {
   "cell_type": "markdown",
   "id": "118c9d27",
   "metadata": {},
   "source": [
    "## Building the Model - GBDT"
   ]
  },
  {
   "cell_type": "code",
   "execution_count": 268,
   "id": "9c2b0ebf",
   "metadata": {},
   "outputs": [],
   "source": [
    "from sklearn.tree import DecisionTreeRegressor\n",
    "\n",
    "from sklearn.ensemble import GradientBoostingRegressor"
   ]
  },
  {
   "cell_type": "code",
   "execution_count": 269,
   "id": "25b8c2f0",
   "metadata": {},
   "outputs": [
    {
     "data": {
      "text/html": [
       "<style>#sk-container-id-13 {color: black;background-color: white;}#sk-container-id-13 pre{padding: 0;}#sk-container-id-13 div.sk-toggleable {background-color: white;}#sk-container-id-13 label.sk-toggleable__label {cursor: pointer;display: block;width: 100%;margin-bottom: 0;padding: 0.3em;box-sizing: border-box;text-align: center;}#sk-container-id-13 label.sk-toggleable__label-arrow:before {content: \"▸\";float: left;margin-right: 0.25em;color: #696969;}#sk-container-id-13 label.sk-toggleable__label-arrow:hover:before {color: black;}#sk-container-id-13 div.sk-estimator:hover label.sk-toggleable__label-arrow:before {color: black;}#sk-container-id-13 div.sk-toggleable__content {max-height: 0;max-width: 0;overflow: hidden;text-align: left;background-color: #f0f8ff;}#sk-container-id-13 div.sk-toggleable__content pre {margin: 0.2em;color: black;border-radius: 0.25em;background-color: #f0f8ff;}#sk-container-id-13 input.sk-toggleable__control:checked~div.sk-toggleable__content {max-height: 200px;max-width: 100%;overflow: auto;}#sk-container-id-13 input.sk-toggleable__control:checked~label.sk-toggleable__label-arrow:before {content: \"▾\";}#sk-container-id-13 div.sk-estimator input.sk-toggleable__control:checked~label.sk-toggleable__label {background-color: #d4ebff;}#sk-container-id-13 div.sk-label input.sk-toggleable__control:checked~label.sk-toggleable__label {background-color: #d4ebff;}#sk-container-id-13 input.sk-hidden--visually {border: 0;clip: rect(1px 1px 1px 1px);clip: rect(1px, 1px, 1px, 1px);height: 1px;margin: -1px;overflow: hidden;padding: 0;position: absolute;width: 1px;}#sk-container-id-13 div.sk-estimator {font-family: monospace;background-color: #f0f8ff;border: 1px dotted black;border-radius: 0.25em;box-sizing: border-box;margin-bottom: 0.5em;}#sk-container-id-13 div.sk-estimator:hover {background-color: #d4ebff;}#sk-container-id-13 div.sk-parallel-item::after {content: \"\";width: 100%;border-bottom: 1px solid gray;flex-grow: 1;}#sk-container-id-13 div.sk-label:hover label.sk-toggleable__label {background-color: #d4ebff;}#sk-container-id-13 div.sk-serial::before {content: \"\";position: absolute;border-left: 1px solid gray;box-sizing: border-box;top: 0;bottom: 0;left: 50%;z-index: 0;}#sk-container-id-13 div.sk-serial {display: flex;flex-direction: column;align-items: center;background-color: white;padding-right: 0.2em;padding-left: 0.2em;position: relative;}#sk-container-id-13 div.sk-item {position: relative;z-index: 1;}#sk-container-id-13 div.sk-parallel {display: flex;align-items: stretch;justify-content: center;background-color: white;position: relative;}#sk-container-id-13 div.sk-item::before, #sk-container-id-13 div.sk-parallel-item::before {content: \"\";position: absolute;border-left: 1px solid gray;box-sizing: border-box;top: 0;bottom: 0;left: 50%;z-index: -1;}#sk-container-id-13 div.sk-parallel-item {display: flex;flex-direction: column;z-index: 1;position: relative;background-color: white;}#sk-container-id-13 div.sk-parallel-item:first-child::after {align-self: flex-end;width: 50%;}#sk-container-id-13 div.sk-parallel-item:last-child::after {align-self: flex-start;width: 50%;}#sk-container-id-13 div.sk-parallel-item:only-child::after {width: 0;}#sk-container-id-13 div.sk-dashed-wrapped {border: 1px dashed gray;margin: 0 0.4em 0.5em 0.4em;box-sizing: border-box;padding-bottom: 0.4em;background-color: white;}#sk-container-id-13 div.sk-label label {font-family: monospace;font-weight: bold;display: inline-block;line-height: 1.2em;}#sk-container-id-13 div.sk-label-container {text-align: center;}#sk-container-id-13 div.sk-container {/* jupyter's `normalize.less` sets `[hidden] { display: none; }` but bootstrap.min.css set `[hidden] { display: none !important; }` so we also need the `!important` here to be able to override the default hidden behavior on the sphinx rendered scikit-learn.org. See: https://github.com/scikit-learn/scikit-learn/issues/21755 */display: inline-block !important;position: relative;}#sk-container-id-13 div.sk-text-repr-fallback {display: none;}</style><div id=\"sk-container-id-13\" class=\"sk-top-container\"><div class=\"sk-text-repr-fallback\"><pre>GradientBoostingRegressor()</pre><b>In a Jupyter environment, please rerun this cell to show the HTML representation or trust the notebook. <br />On GitHub, the HTML representation is unable to render, please try loading this page with nbviewer.org.</b></div><div class=\"sk-container\" hidden><div class=\"sk-item\"><div class=\"sk-estimator sk-toggleable\"><input class=\"sk-toggleable__control sk-hidden--visually\" id=\"sk-estimator-id-37\" type=\"checkbox\" checked><label for=\"sk-estimator-id-37\" class=\"sk-toggleable__label sk-toggleable__label-arrow\">GradientBoostingRegressor</label><div class=\"sk-toggleable__content\"><pre>GradientBoostingRegressor()</pre></div></div></div></div></div>"
      ],
      "text/plain": [
       "GradientBoostingRegressor()"
      ]
     },
     "execution_count": 269,
     "metadata": {},
     "output_type": "execute_result"
    }
   ],
   "source": [
    "model_gbdt = GradientBoostingRegressor()\n",
    "\n",
    "model_gbdt.fit(X_train_transformed, y_train)"
   ]
  },
  {
   "cell_type": "code",
   "execution_count": 270,
   "id": "15e867bd",
   "metadata": {},
   "outputs": [],
   "source": [
    "predictions = model_gbdt.predict(X_test_transformed)"
   ]
  },
  {
   "cell_type": "code",
   "execution_count": 271,
   "id": "f62c96fb",
   "metadata": {},
   "outputs": [
    {
     "name": "stdout",
     "output_type": "stream",
     "text": [
      "Mean Absolute Error\n",
      "14406.404451995097\n",
      "\n",
      "R2_Score\n",
      "0.7984004720278788\n",
      "\n",
      "\n"
     ]
    }
   ],
   "source": [
    "from sklearn.metrics import mean_absolute_error,r2_score\n",
    "\n",
    "print('Mean Absolute Error')\n",
    "print(mean_absolute_error(y_test,predictions))\n",
    "print()\n",
    "\n",
    "print('R2_Score')\n",
    "print(r2_score(y_test,predictions))\n",
    "print()\n",
    "\n",
    "print()"
   ]
  },
  {
   "cell_type": "code",
   "execution_count": 272,
   "id": "49f8d26d",
   "metadata": {},
   "outputs": [
    {
     "name": "stdout",
     "output_type": "stream",
     "text": [
      "Fitting 5 folds for each of 7 candidates, totalling 35 fits\n"
     ]
    },
    {
     "data": {
      "text/html": [
       "<style>#sk-container-id-14 {color: black;background-color: white;}#sk-container-id-14 pre{padding: 0;}#sk-container-id-14 div.sk-toggleable {background-color: white;}#sk-container-id-14 label.sk-toggleable__label {cursor: pointer;display: block;width: 100%;margin-bottom: 0;padding: 0.3em;box-sizing: border-box;text-align: center;}#sk-container-id-14 label.sk-toggleable__label-arrow:before {content: \"▸\";float: left;margin-right: 0.25em;color: #696969;}#sk-container-id-14 label.sk-toggleable__label-arrow:hover:before {color: black;}#sk-container-id-14 div.sk-estimator:hover label.sk-toggleable__label-arrow:before {color: black;}#sk-container-id-14 div.sk-toggleable__content {max-height: 0;max-width: 0;overflow: hidden;text-align: left;background-color: #f0f8ff;}#sk-container-id-14 div.sk-toggleable__content pre {margin: 0.2em;color: black;border-radius: 0.25em;background-color: #f0f8ff;}#sk-container-id-14 input.sk-toggleable__control:checked~div.sk-toggleable__content {max-height: 200px;max-width: 100%;overflow: auto;}#sk-container-id-14 input.sk-toggleable__control:checked~label.sk-toggleable__label-arrow:before {content: \"▾\";}#sk-container-id-14 div.sk-estimator input.sk-toggleable__control:checked~label.sk-toggleable__label {background-color: #d4ebff;}#sk-container-id-14 div.sk-label input.sk-toggleable__control:checked~label.sk-toggleable__label {background-color: #d4ebff;}#sk-container-id-14 input.sk-hidden--visually {border: 0;clip: rect(1px 1px 1px 1px);clip: rect(1px, 1px, 1px, 1px);height: 1px;margin: -1px;overflow: hidden;padding: 0;position: absolute;width: 1px;}#sk-container-id-14 div.sk-estimator {font-family: monospace;background-color: #f0f8ff;border: 1px dotted black;border-radius: 0.25em;box-sizing: border-box;margin-bottom: 0.5em;}#sk-container-id-14 div.sk-estimator:hover {background-color: #d4ebff;}#sk-container-id-14 div.sk-parallel-item::after {content: \"\";width: 100%;border-bottom: 1px solid gray;flex-grow: 1;}#sk-container-id-14 div.sk-label:hover label.sk-toggleable__label {background-color: #d4ebff;}#sk-container-id-14 div.sk-serial::before {content: \"\";position: absolute;border-left: 1px solid gray;box-sizing: border-box;top: 0;bottom: 0;left: 50%;z-index: 0;}#sk-container-id-14 div.sk-serial {display: flex;flex-direction: column;align-items: center;background-color: white;padding-right: 0.2em;padding-left: 0.2em;position: relative;}#sk-container-id-14 div.sk-item {position: relative;z-index: 1;}#sk-container-id-14 div.sk-parallel {display: flex;align-items: stretch;justify-content: center;background-color: white;position: relative;}#sk-container-id-14 div.sk-item::before, #sk-container-id-14 div.sk-parallel-item::before {content: \"\";position: absolute;border-left: 1px solid gray;box-sizing: border-box;top: 0;bottom: 0;left: 50%;z-index: -1;}#sk-container-id-14 div.sk-parallel-item {display: flex;flex-direction: column;z-index: 1;position: relative;background-color: white;}#sk-container-id-14 div.sk-parallel-item:first-child::after {align-self: flex-end;width: 50%;}#sk-container-id-14 div.sk-parallel-item:last-child::after {align-self: flex-start;width: 50%;}#sk-container-id-14 div.sk-parallel-item:only-child::after {width: 0;}#sk-container-id-14 div.sk-dashed-wrapped {border: 1px dashed gray;margin: 0 0.4em 0.5em 0.4em;box-sizing: border-box;padding-bottom: 0.4em;background-color: white;}#sk-container-id-14 div.sk-label label {font-family: monospace;font-weight: bold;display: inline-block;line-height: 1.2em;}#sk-container-id-14 div.sk-label-container {text-align: center;}#sk-container-id-14 div.sk-container {/* jupyter's `normalize.less` sets `[hidden] { display: none; }` but bootstrap.min.css set `[hidden] { display: none !important; }` so we also need the `!important` here to be able to override the default hidden behavior on the sphinx rendered scikit-learn.org. See: https://github.com/scikit-learn/scikit-learn/issues/21755 */display: inline-block !important;position: relative;}#sk-container-id-14 div.sk-text-repr-fallback {display: none;}</style><div id=\"sk-container-id-14\" class=\"sk-top-container\"><div class=\"sk-text-repr-fallback\"><pre>GridSearchCV(cv=5, estimator=GradientBoostingRegressor(),\n",
       "             param_grid=[{&#x27;n_estimators&#x27;: range(10, 1300, 200)}],\n",
       "             return_train_score=True, scoring=&#x27;r2&#x27;, verbose=1)</pre><b>In a Jupyter environment, please rerun this cell to show the HTML representation or trust the notebook. <br />On GitHub, the HTML representation is unable to render, please try loading this page with nbviewer.org.</b></div><div class=\"sk-container\" hidden><div class=\"sk-item sk-dashed-wrapped\"><div class=\"sk-label-container\"><div class=\"sk-label sk-toggleable\"><input class=\"sk-toggleable__control sk-hidden--visually\" id=\"sk-estimator-id-38\" type=\"checkbox\" ><label for=\"sk-estimator-id-38\" class=\"sk-toggleable__label sk-toggleable__label-arrow\">GridSearchCV</label><div class=\"sk-toggleable__content\"><pre>GridSearchCV(cv=5, estimator=GradientBoostingRegressor(),\n",
       "             param_grid=[{&#x27;n_estimators&#x27;: range(10, 1300, 200)}],\n",
       "             return_train_score=True, scoring=&#x27;r2&#x27;, verbose=1)</pre></div></div></div><div class=\"sk-parallel\"><div class=\"sk-parallel-item\"><div class=\"sk-item\"><div class=\"sk-label-container\"><div class=\"sk-label sk-toggleable\"><input class=\"sk-toggleable__control sk-hidden--visually\" id=\"sk-estimator-id-39\" type=\"checkbox\" ><label for=\"sk-estimator-id-39\" class=\"sk-toggleable__label sk-toggleable__label-arrow\">estimator: GradientBoostingRegressor</label><div class=\"sk-toggleable__content\"><pre>GradientBoostingRegressor()</pre></div></div></div><div class=\"sk-serial\"><div class=\"sk-item\"><div class=\"sk-estimator sk-toggleable\"><input class=\"sk-toggleable__control sk-hidden--visually\" id=\"sk-estimator-id-40\" type=\"checkbox\" ><label for=\"sk-estimator-id-40\" class=\"sk-toggleable__label sk-toggleable__label-arrow\">GradientBoostingRegressor</label><div class=\"sk-toggleable__content\"><pre>GradientBoostingRegressor()</pre></div></div></div></div></div></div></div></div></div></div>"
      ],
      "text/plain": [
       "GridSearchCV(cv=5, estimator=GradientBoostingRegressor(),\n",
       "             param_grid=[{'n_estimators': range(10, 1300, 200)}],\n",
       "             return_train_score=True, scoring='r2', verbose=1)"
      ]
     },
     "execution_count": 272,
     "metadata": {},
     "output_type": "execute_result"
    }
   ],
   "source": [
    "from sklearn.model_selection import GridSearchCV\n",
    "\n",
    "n_folds = 5\n",
    "\n",
    "hyper_parameters = [{'n_estimators': range(10, 1300, 200)}]\n",
    "\n",
    "model_gbdt = GradientBoostingRegressor() \n",
    "\n",
    "# fit tree on training data\n",
    "tunned_model_rf = GridSearchCV(\n",
    "                      estimator=model_gbdt, \n",
    "                      param_grid=hyper_parameters,\n",
    "                      cv=n_folds, \n",
    "                      scoring='r2',\n",
    "                      return_train_score=True,\n",
    "                      verbose=1\n",
    ")\n",
    "\n",
    "tunned_model_rf.fit(X_train_transformed, y_train)"
   ]
  },
  {
   "cell_type": "code",
   "execution_count": 273,
   "id": "ebd9d886",
   "metadata": {},
   "outputs": [
    {
     "name": "stdout",
     "output_type": "stream",
     "text": [
      "Best parameters set found on train set\n",
      "{'n_neighbors': 7, 'p': 1}\n",
      "KNeighborsRegressor(n_neighbors=7, p=1)\n",
      "\n",
      "Score on Test Data:  0.6769648862071767\n"
     ]
    }
   ],
   "source": [
    "print(\"Best parameters set found on train set\")\n",
    "print(clf.best_params_)\n",
    "print(clf.best_estimator_)\n",
    "print()\n",
    "\n",
    "print('Score on Test Data: ', clf.score(X_test_transformed, y_test))"
   ]
  },
  {
   "cell_type": "markdown",
   "id": "4a475350",
   "metadata": {},
   "source": [
    "## PICKLE"
   ]
  },
  {
   "cell_type": "code",
   "execution_count": 274,
   "id": "20209106",
   "metadata": {},
   "outputs": [],
   "source": [
    "from sklearn.compose import ColumnTransformer\n",
    "from sklearn.pipeline import Pipeline"
   ]
  },
  {
   "cell_type": "code",
   "execution_count": 275,
   "id": "97749248",
   "metadata": {},
   "outputs": [],
   "source": [
    "step1 = ColumnTransformer(transformers=[('abc',StandardScaler(),[0,1])],remainder='passthrough')\n",
    "step2 = RandomForestRegressor(n_estimators=10)\n",
    "pipe = Pipeline([('step1',step1),('step2',step2)])"
   ]
  },
  {
   "cell_type": "code",
   "execution_count": 276,
   "id": "f943fb60",
   "metadata": {},
   "outputs": [
    {
     "data": {
      "text/html": [
       "<style>#sk-container-id-15 {color: black;background-color: white;}#sk-container-id-15 pre{padding: 0;}#sk-container-id-15 div.sk-toggleable {background-color: white;}#sk-container-id-15 label.sk-toggleable__label {cursor: pointer;display: block;width: 100%;margin-bottom: 0;padding: 0.3em;box-sizing: border-box;text-align: center;}#sk-container-id-15 label.sk-toggleable__label-arrow:before {content: \"▸\";float: left;margin-right: 0.25em;color: #696969;}#sk-container-id-15 label.sk-toggleable__label-arrow:hover:before {color: black;}#sk-container-id-15 div.sk-estimator:hover label.sk-toggleable__label-arrow:before {color: black;}#sk-container-id-15 div.sk-toggleable__content {max-height: 0;max-width: 0;overflow: hidden;text-align: left;background-color: #f0f8ff;}#sk-container-id-15 div.sk-toggleable__content pre {margin: 0.2em;color: black;border-radius: 0.25em;background-color: #f0f8ff;}#sk-container-id-15 input.sk-toggleable__control:checked~div.sk-toggleable__content {max-height: 200px;max-width: 100%;overflow: auto;}#sk-container-id-15 input.sk-toggleable__control:checked~label.sk-toggleable__label-arrow:before {content: \"▾\";}#sk-container-id-15 div.sk-estimator input.sk-toggleable__control:checked~label.sk-toggleable__label {background-color: #d4ebff;}#sk-container-id-15 div.sk-label input.sk-toggleable__control:checked~label.sk-toggleable__label {background-color: #d4ebff;}#sk-container-id-15 input.sk-hidden--visually {border: 0;clip: rect(1px 1px 1px 1px);clip: rect(1px, 1px, 1px, 1px);height: 1px;margin: -1px;overflow: hidden;padding: 0;position: absolute;width: 1px;}#sk-container-id-15 div.sk-estimator {font-family: monospace;background-color: #f0f8ff;border: 1px dotted black;border-radius: 0.25em;box-sizing: border-box;margin-bottom: 0.5em;}#sk-container-id-15 div.sk-estimator:hover {background-color: #d4ebff;}#sk-container-id-15 div.sk-parallel-item::after {content: \"\";width: 100%;border-bottom: 1px solid gray;flex-grow: 1;}#sk-container-id-15 div.sk-label:hover label.sk-toggleable__label {background-color: #d4ebff;}#sk-container-id-15 div.sk-serial::before {content: \"\";position: absolute;border-left: 1px solid gray;box-sizing: border-box;top: 0;bottom: 0;left: 50%;z-index: 0;}#sk-container-id-15 div.sk-serial {display: flex;flex-direction: column;align-items: center;background-color: white;padding-right: 0.2em;padding-left: 0.2em;position: relative;}#sk-container-id-15 div.sk-item {position: relative;z-index: 1;}#sk-container-id-15 div.sk-parallel {display: flex;align-items: stretch;justify-content: center;background-color: white;position: relative;}#sk-container-id-15 div.sk-item::before, #sk-container-id-15 div.sk-parallel-item::before {content: \"\";position: absolute;border-left: 1px solid gray;box-sizing: border-box;top: 0;bottom: 0;left: 50%;z-index: -1;}#sk-container-id-15 div.sk-parallel-item {display: flex;flex-direction: column;z-index: 1;position: relative;background-color: white;}#sk-container-id-15 div.sk-parallel-item:first-child::after {align-self: flex-end;width: 50%;}#sk-container-id-15 div.sk-parallel-item:last-child::after {align-self: flex-start;width: 50%;}#sk-container-id-15 div.sk-parallel-item:only-child::after {width: 0;}#sk-container-id-15 div.sk-dashed-wrapped {border: 1px dashed gray;margin: 0 0.4em 0.5em 0.4em;box-sizing: border-box;padding-bottom: 0.4em;background-color: white;}#sk-container-id-15 div.sk-label label {font-family: monospace;font-weight: bold;display: inline-block;line-height: 1.2em;}#sk-container-id-15 div.sk-label-container {text-align: center;}#sk-container-id-15 div.sk-container {/* jupyter's `normalize.less` sets `[hidden] { display: none; }` but bootstrap.min.css set `[hidden] { display: none !important; }` so we also need the `!important` here to be able to override the default hidden behavior on the sphinx rendered scikit-learn.org. See: https://github.com/scikit-learn/scikit-learn/issues/21755 */display: inline-block !important;position: relative;}#sk-container-id-15 div.sk-text-repr-fallback {display: none;}</style><div id=\"sk-container-id-15\" class=\"sk-top-container\"><div class=\"sk-text-repr-fallback\"><pre>Pipeline(steps=[(&#x27;step1&#x27;,\n",
       "                 ColumnTransformer(remainder=&#x27;passthrough&#x27;,\n",
       "                                   transformers=[(&#x27;abc&#x27;, StandardScaler(),\n",
       "                                                  [0, 1])])),\n",
       "                (&#x27;step2&#x27;, RandomForestRegressor(n_estimators=10))])</pre><b>In a Jupyter environment, please rerun this cell to show the HTML representation or trust the notebook. <br />On GitHub, the HTML representation is unable to render, please try loading this page with nbviewer.org.</b></div><div class=\"sk-container\" hidden><div class=\"sk-item sk-dashed-wrapped\"><div class=\"sk-label-container\"><div class=\"sk-label sk-toggleable\"><input class=\"sk-toggleable__control sk-hidden--visually\" id=\"sk-estimator-id-41\" type=\"checkbox\" ><label for=\"sk-estimator-id-41\" class=\"sk-toggleable__label sk-toggleable__label-arrow\">Pipeline</label><div class=\"sk-toggleable__content\"><pre>Pipeline(steps=[(&#x27;step1&#x27;,\n",
       "                 ColumnTransformer(remainder=&#x27;passthrough&#x27;,\n",
       "                                   transformers=[(&#x27;abc&#x27;, StandardScaler(),\n",
       "                                                  [0, 1])])),\n",
       "                (&#x27;step2&#x27;, RandomForestRegressor(n_estimators=10))])</pre></div></div></div><div class=\"sk-serial\"><div class=\"sk-item sk-dashed-wrapped\"><div class=\"sk-label-container\"><div class=\"sk-label sk-toggleable\"><input class=\"sk-toggleable__control sk-hidden--visually\" id=\"sk-estimator-id-42\" type=\"checkbox\" ><label for=\"sk-estimator-id-42\" class=\"sk-toggleable__label sk-toggleable__label-arrow\">step1: ColumnTransformer</label><div class=\"sk-toggleable__content\"><pre>ColumnTransformer(remainder=&#x27;passthrough&#x27;,\n",
       "                  transformers=[(&#x27;abc&#x27;, StandardScaler(), [0, 1])])</pre></div></div></div><div class=\"sk-parallel\"><div class=\"sk-parallel-item\"><div class=\"sk-item\"><div class=\"sk-label-container\"><div class=\"sk-label sk-toggleable\"><input class=\"sk-toggleable__control sk-hidden--visually\" id=\"sk-estimator-id-43\" type=\"checkbox\" ><label for=\"sk-estimator-id-43\" class=\"sk-toggleable__label sk-toggleable__label-arrow\">abc</label><div class=\"sk-toggleable__content\"><pre>[0, 1]</pre></div></div></div><div class=\"sk-serial\"><div class=\"sk-item\"><div class=\"sk-estimator sk-toggleable\"><input class=\"sk-toggleable__control sk-hidden--visually\" id=\"sk-estimator-id-44\" type=\"checkbox\" ><label for=\"sk-estimator-id-44\" class=\"sk-toggleable__label sk-toggleable__label-arrow\">StandardScaler</label><div class=\"sk-toggleable__content\"><pre>StandardScaler()</pre></div></div></div></div></div></div><div class=\"sk-parallel-item\"><div class=\"sk-item\"><div class=\"sk-label-container\"><div class=\"sk-label sk-toggleable\"><input class=\"sk-toggleable__control sk-hidden--visually\" id=\"sk-estimator-id-45\" type=\"checkbox\" ><label for=\"sk-estimator-id-45\" class=\"sk-toggleable__label sk-toggleable__label-arrow\">remainder</label><div class=\"sk-toggleable__content\"><pre>[&#x27;Processor&#x27;, &#x27;Operating System&#x27;, &#x27;RAM Type&#x27;, &#x27;Storage Type&#x27;, &#x27;Storage&#x27;]</pre></div></div></div><div class=\"sk-serial\"><div class=\"sk-item\"><div class=\"sk-estimator sk-toggleable\"><input class=\"sk-toggleable__control sk-hidden--visually\" id=\"sk-estimator-id-46\" type=\"checkbox\" ><label for=\"sk-estimator-id-46\" class=\"sk-toggleable__label sk-toggleable__label-arrow\">passthrough</label><div class=\"sk-toggleable__content\"><pre>passthrough</pre></div></div></div></div></div></div></div></div><div class=\"sk-item\"><div class=\"sk-estimator sk-toggleable\"><input class=\"sk-toggleable__control sk-hidden--visually\" id=\"sk-estimator-id-47\" type=\"checkbox\" ><label for=\"sk-estimator-id-47\" class=\"sk-toggleable__label sk-toggleable__label-arrow\">RandomForestRegressor</label><div class=\"sk-toggleable__content\"><pre>RandomForestRegressor(n_estimators=10)</pre></div></div></div></div></div></div></div>"
      ],
      "text/plain": [
       "Pipeline(steps=[('step1',\n",
       "                 ColumnTransformer(remainder='passthrough',\n",
       "                                   transformers=[('abc', StandardScaler(),\n",
       "                                                  [0, 1])])),\n",
       "                ('step2', RandomForestRegressor(n_estimators=10))])"
      ]
     },
     "execution_count": 276,
     "metadata": {},
     "output_type": "execute_result"
    }
   ],
   "source": [
    "pipe.fit(X_train_transformed,y_train)"
   ]
  },
  {
   "cell_type": "code",
   "execution_count": 277,
   "id": "7f22fc55",
   "metadata": {},
   "outputs": [],
   "source": [
    "import pickle\n",
    "file = open('Flipkart.pkl','wb')\n",
    "pickle.dump(pipe,file)"
   ]
  },
  {
   "cell_type": "code",
   "execution_count": 278,
   "id": "39e55871",
   "metadata": {},
   "outputs": [
    {
     "data": {
      "text/html": [
       "<div>\n",
       "<style scoped>\n",
       "    .dataframe tbody tr th:only-of-type {\n",
       "        vertical-align: middle;\n",
       "    }\n",
       "\n",
       "    .dataframe tbody tr th {\n",
       "        vertical-align: top;\n",
       "    }\n",
       "\n",
       "    .dataframe thead th {\n",
       "        text-align: right;\n",
       "    }\n",
       "</style>\n",
       "<table border=\"1\" class=\"dataframe\">\n",
       "  <thead>\n",
       "    <tr style=\"text-align: right;\">\n",
       "      <th></th>\n",
       "      <th>RAM Size</th>\n",
       "      <th>Display</th>\n",
       "      <th>Processor</th>\n",
       "      <th>Operating System</th>\n",
       "      <th>RAM Type</th>\n",
       "      <th>Storage Type</th>\n",
       "      <th>Storage</th>\n",
       "    </tr>\n",
       "  </thead>\n",
       "  <tbody>\n",
       "    <tr>\n",
       "      <th>603</th>\n",
       "      <td>16</td>\n",
       "      <td>39.62</td>\n",
       "      <td>6</td>\n",
       "      <td>1</td>\n",
       "      <td>1</td>\n",
       "      <td>1</td>\n",
       "      <td>1</td>\n",
       "    </tr>\n",
       "    <tr>\n",
       "      <th>82</th>\n",
       "      <td>16</td>\n",
       "      <td>39.62</td>\n",
       "      <td>4</td>\n",
       "      <td>1</td>\n",
       "      <td>2</td>\n",
       "      <td>1</td>\n",
       "      <td>1</td>\n",
       "    </tr>\n",
       "    <tr>\n",
       "      <th>249</th>\n",
       "      <td>8</td>\n",
       "      <td>35.56</td>\n",
       "      <td>13</td>\n",
       "      <td>1</td>\n",
       "      <td>2</td>\n",
       "      <td>1</td>\n",
       "      <td>2</td>\n",
       "    </tr>\n",
       "    <tr>\n",
       "      <th>623</th>\n",
       "      <td>16</td>\n",
       "      <td>35.56</td>\n",
       "      <td>9</td>\n",
       "      <td>3</td>\n",
       "      <td>2</td>\n",
       "      <td>1</td>\n",
       "      <td>3</td>\n",
       "    </tr>\n",
       "    <tr>\n",
       "      <th>229</th>\n",
       "      <td>8</td>\n",
       "      <td>33.78</td>\n",
       "      <td>8</td>\n",
       "      <td>10</td>\n",
       "      <td>2</td>\n",
       "      <td>1</td>\n",
       "      <td>2</td>\n",
       "    </tr>\n",
       "    <tr>\n",
       "      <th>...</th>\n",
       "      <td>...</td>\n",
       "      <td>...</td>\n",
       "      <td>...</td>\n",
       "      <td>...</td>\n",
       "      <td>...</td>\n",
       "      <td>...</td>\n",
       "      <td>...</td>\n",
       "    </tr>\n",
       "    <tr>\n",
       "      <th>575</th>\n",
       "      <td>4</td>\n",
       "      <td>39.62</td>\n",
       "      <td>22</td>\n",
       "      <td>3</td>\n",
       "      <td>2</td>\n",
       "      <td>2</td>\n",
       "      <td>1</td>\n",
       "    </tr>\n",
       "    <tr>\n",
       "      <th>608</th>\n",
       "      <td>8</td>\n",
       "      <td>35.56</td>\n",
       "      <td>9</td>\n",
       "      <td>3</td>\n",
       "      <td>2</td>\n",
       "      <td>1</td>\n",
       "      <td>3</td>\n",
       "    </tr>\n",
       "    <tr>\n",
       "      <th>538</th>\n",
       "      <td>4</td>\n",
       "      <td>39.62</td>\n",
       "      <td>13</td>\n",
       "      <td>3</td>\n",
       "      <td>2</td>\n",
       "      <td>2</td>\n",
       "      <td>1</td>\n",
       "    </tr>\n",
       "    <tr>\n",
       "      <th>453</th>\n",
       "      <td>16</td>\n",
       "      <td>39.62</td>\n",
       "      <td>6</td>\n",
       "      <td>2</td>\n",
       "      <td>2</td>\n",
       "      <td>1</td>\n",
       "      <td>3</td>\n",
       "    </tr>\n",
       "    <tr>\n",
       "      <th>8</th>\n",
       "      <td>8</td>\n",
       "      <td>35.56</td>\n",
       "      <td>13</td>\n",
       "      <td>3</td>\n",
       "      <td>2</td>\n",
       "      <td>1</td>\n",
       "      <td>2</td>\n",
       "    </tr>\n",
       "  </tbody>\n",
       "</table>\n",
       "<p>296 rows × 7 columns</p>\n",
       "</div>"
      ],
      "text/plain": [
       "     RAM Size  Display  Processor  Operating System  RAM Type  Storage Type  \\\n",
       "603        16    39.62          6                 1         1             1   \n",
       "82         16    39.62          4                 1         2             1   \n",
       "249         8    35.56         13                 1         2             1   \n",
       "623        16    35.56          9                 3         2             1   \n",
       "229         8    33.78          8                10         2             1   \n",
       "..        ...      ...        ...               ...       ...           ...   \n",
       "575         4    39.62         22                 3         2             2   \n",
       "608         8    35.56          9                 3         2             1   \n",
       "538         4    39.62         13                 3         2             2   \n",
       "453        16    39.62          6                 2         2             1   \n",
       "8           8    35.56         13                 3         2             1   \n",
       "\n",
       "     Storage  \n",
       "603        1  \n",
       "82         1  \n",
       "249        2  \n",
       "623        3  \n",
       "229        2  \n",
       "..       ...  \n",
       "575        1  \n",
       "608        3  \n",
       "538        1  \n",
       "453        3  \n",
       "8          2  \n",
       "\n",
       "[296 rows x 7 columns]"
      ]
     },
     "execution_count": 278,
     "metadata": {},
     "output_type": "execute_result"
    }
   ],
   "source": [
    "X_train_transformed"
   ]
  },
  {
   "cell_type": "code",
   "execution_count": null,
   "id": "4f872855",
   "metadata": {},
   "outputs": [],
   "source": []
  },
  {
   "cell_type": "code",
   "execution_count": null,
   "id": "99dbf53c",
   "metadata": {},
   "outputs": [],
   "source": []
  }
 ],
 "metadata": {
  "kernelspec": {
   "display_name": "Python 3 (ipykernel)",
   "language": "python",
   "name": "python3"
  },
  "language_info": {
   "codemirror_mode": {
    "name": "ipython",
    "version": 3
   },
   "file_extension": ".py",
   "mimetype": "text/x-python",
   "name": "python",
   "nbconvert_exporter": "python",
   "pygments_lexer": "ipython3",
   "version": "3.10.0"
  }
 },
 "nbformat": 4,
 "nbformat_minor": 5
}
